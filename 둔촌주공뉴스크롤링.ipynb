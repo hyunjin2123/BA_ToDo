{
  "nbformat": 4,
  "nbformat_minor": 0,
  "metadata": {
    "colab": {
      "provenance": [],
      "authorship_tag": "ABX9TyMsvUsYnzDgdl7Uqx1fE+hp",
      "include_colab_link": true
    },
    "kernelspec": {
      "name": "python3",
      "display_name": "Python 3"
    },
    "language_info": {
      "name": "python"
    }
  },
  "cells": [
    {
      "cell_type": "markdown",
      "metadata": {
        "id": "view-in-github",
        "colab_type": "text"
      },
      "source": [
        "<a href=\"https://colab.research.google.com/github/hyunjin2123/BA_ToDo/blob/main/%EB%91%94%EC%B4%8C%EC%A3%BC%EA%B3%B5%EB%89%B4%EC%8A%A4%ED%81%AC%EB%A1%A4%EB%A7%81.ipynb\" target=\"_parent\"><img src=\"https://colab.research.google.com/assets/colab-badge.svg\" alt=\"Open In Colab\"/></a>"
      ]
    },
    {
      "cell_type": "code",
      "source": [
        "#크롤링시 필요한 라이브러리 불러오기\n",
        "from bs4 import BeautifulSoup\n",
        "import requests\n",
        "import re\n",
        "import datetime\n",
        "from tqdm import tqdm\n",
        "import sys\n"
      ],
      "metadata": {
        "id": "633Xo_bdot7F"
      },
      "execution_count": 3,
      "outputs": []
    },
    {
      "cell_type": "code",
      "source": [
        "# 페이지 url 형식에 맞게 바꾸어 주는 함수 만들기\n",
        "  #입력된 수를 1, 11, 21, 31 ...만들어 주는 함수\n",
        "def makePgNum(num):\n",
        "    if num == 1:\n",
        "        return num\n",
        "    elif num == 0:\n",
        "        return num+1\n",
        "    else:\n",
        "        return num+9*(num-1)"
      ],
      "metadata": {
        "id": "TQ356GTwo1vX"
      },
      "execution_count": 4,
      "outputs": []
    },
    {
      "cell_type": "code",
      "source": [
        "# 크롤링할 url 생성하는 함수 만들기(검색어, 크롤링 시작 페이지, 크롤링 종료 페이지)\n",
        "\n",
        "def makeUrl(search, start_pg, end_pg):\n",
        "    if start_pg == end_pg:\n",
        "        start_page = makePgNum(start_pg)\n",
        "        url = \"https://search.naver.com/search.naver?where=news&sm=tab_pge&query=\" + search + \"&start=\" + str(start_page)\n",
        "        print(\"생성url: \", url)\n",
        "        return url\n",
        "    else:\n",
        "        urls = []\n",
        "        for i in range(start_pg, end_pg + 1):\n",
        "            page = makePgNum(i)\n",
        "            url = \"https://search.naver.com/search.naver?where=news&sm=tab_pge&query=\" + search + \"&start=\" + str(page)\n",
        "            urls.append(url)\n",
        "        print(\"생성url: \", urls)\n",
        "        return urls    "
      ],
      "metadata": {
        "id": "grdXNrwWo4s4"
      },
      "execution_count": 5,
      "outputs": []
    },
    {
      "cell_type": "code",
      "source": [
        "\n",
        "# html에서 원하는 속성 추출하는 함수 만들기 (기사, 추출하려는 속성값)\n",
        "def news_attrs_crawler(articles,attrs):\n",
        "    attrs_content=[]\n",
        "    for i in articles:\n",
        "        attrs_content.append(i.attrs[attrs])\n",
        "    return attrs_content"
      ],
      "metadata": {
        "id": "JR8E-Xw3pBPS"
      },
      "execution_count": 6,
      "outputs": []
    },
    {
      "cell_type": "code",
      "source": [
        "\n",
        "# ConnectionError방지\n",
        "headers = {\"User-Agent\": \"Mozilla/5.0 (Windows NT 10.0; Win64; x64) Chrome/98.0.4758.102\"}"
      ],
      "metadata": {
        "id": "yDwrhLh4pFEQ"
      },
      "execution_count": 7,
      "outputs": []
    },
    {
      "cell_type": "code",
      "source": [
        "#html생성해서 기사크롤링하는 함수 만들기(url): 링크를 반환\n",
        "def articles_crawler(url):\n",
        "    #html 불러오기\n",
        "    original_html = requests.get(i,headers=headers)\n",
        "    html = BeautifulSoup(original_html.text, \"html.parser\")\n",
        "\n",
        "    url_naver = html.select(\"div.group_news > ul.list_news > li div.news_area > div.news_info > div.info_group > a.info\")\n",
        "    url = news_attrs_crawler(url_naver,'href')\n",
        "    return url"
      ],
      "metadata": {
        "id": "aviRvGrjpGBa"
      },
      "execution_count": 8,
      "outputs": []
    },
    {
      "cell_type": "markdown",
      "source": [
        "##뉴스 크롤링 시작"
      ],
      "metadata": {
        "id": "LHtgqA4GpLOo"
      }
    },
    {
      "cell_type": "code",
      "source": [
        "#####뉴스크롤링 시작#####\n",
        "\n",
        "#검색어 입력\n",
        "search = input(\"검색할 키워드를 입력해주세요:\")\n",
        "#검색 시작할 페이지 입력\n",
        "page = int(input(\"\\n크롤링할 시작 페이지를 입력해주세요. ex)1(숫자만입력):\")) # ex)1 =1페이지,2=2페이지...\n",
        "print(\"\\n크롤링할 시작 페이지: \",page,\"페이지\")   \n",
        "#검색 종료할 페이지 입력\n",
        "page2 = int(input(\"\\n크롤링할 종료 페이지를 입력해주세요. ex)1(숫자만입력):\")) # ex)1 =1페이지,2=2페이지...\n",
        "print(\"\\n크롤링할 종료 페이지: \",page2,\"페이지\")   \n",
        "\n"
      ],
      "metadata": {
        "colab": {
          "base_uri": "https://localhost:8080/"
        },
        "id": "6GlAanWNpOGW",
        "outputId": "43523ced-dec9-4c2f-ada0-011d0f078b71"
      },
      "execution_count": 9,
      "outputs": [
        {
          "output_type": "stream",
          "name": "stdout",
          "text": [
            "검색할 키워드를 입력해주세요:둔촌주공\n",
            "\n",
            "크롤링할 시작 페이지를 입력해주세요. ex)1(숫자만입력):1\n",
            "\n",
            "크롤링할 시작 페이지:  1 페이지\n",
            "\n",
            "크롤링할 종료 페이지를 입력해주세요. ex)1(숫자만입력):10\n",
            "\n",
            "크롤링할 종료 페이지:  10 페이지\n"
          ]
        }
      ]
    },
    {
      "cell_type": "code",
      "source": [
        "# naver url 생성\n",
        "url = makeUrl(search,page,page2)\n"
      ],
      "metadata": {
        "colab": {
          "base_uri": "https://localhost:8080/"
        },
        "id": "HhqD4hB2pXv5",
        "outputId": "f32c61ac-a229-4b93-fde0-313e11885547"
      },
      "execution_count": 10,
      "outputs": [
        {
          "output_type": "stream",
          "name": "stdout",
          "text": [
            "생성url:  ['https://search.naver.com/search.naver?where=news&sm=tab_pge&query=둔촌주공&start=1', 'https://search.naver.com/search.naver?where=news&sm=tab_pge&query=둔촌주공&start=11', 'https://search.naver.com/search.naver?where=news&sm=tab_pge&query=둔촌주공&start=21', 'https://search.naver.com/search.naver?where=news&sm=tab_pge&query=둔촌주공&start=31', 'https://search.naver.com/search.naver?where=news&sm=tab_pge&query=둔촌주공&start=41', 'https://search.naver.com/search.naver?where=news&sm=tab_pge&query=둔촌주공&start=51', 'https://search.naver.com/search.naver?where=news&sm=tab_pge&query=둔촌주공&start=61', 'https://search.naver.com/search.naver?where=news&sm=tab_pge&query=둔촌주공&start=71', 'https://search.naver.com/search.naver?where=news&sm=tab_pge&query=둔촌주공&start=81', 'https://search.naver.com/search.naver?where=news&sm=tab_pge&query=둔촌주공&start=91']\n"
          ]
        }
      ]
    },
    {
      "cell_type": "code",
      "source": [
        "#뉴스 크롤러 실행\n",
        "news_titles = []\n",
        "news_url =[]\n",
        "news_contents =[]\n",
        "news_dates = []\n",
        "for i in url:\n",
        "    url = articles_crawler(url)\n",
        "    news_url.append(url)"
      ],
      "metadata": {
        "id": "YU3e5bBhpY2e"
      },
      "execution_count": 11,
      "outputs": []
    },
    {
      "cell_type": "code",
      "source": [
        "#제목, 링크, 내용 1차원 리스트로 꺼내는 함수 생성\n",
        "def makeList(newlist, content):\n",
        "    for i in content:\n",
        "        for j in i:\n",
        "            newlist.append(j)\n",
        "    return newlist\n"
      ],
      "metadata": {
        "id": "V6nGY_yzph1I"
      },
      "execution_count": 12,
      "outputs": []
    },
    {
      "cell_type": "code",
      "source": [
        "#제목, 링크, 내용 담을 리스트 생성\n",
        "news_url_1 = []"
      ],
      "metadata": {
        "id": "PCZ4_Y_0pU8c"
      },
      "execution_count": 13,
      "outputs": []
    },
    {
      "cell_type": "code",
      "source": [
        "#1차원 리스트로 만들기(내용 제외)\n",
        "makeList(news_url_1,news_url)"
      ],
      "metadata": {
        "colab": {
          "base_uri": "https://localhost:8080/"
        },
        "id": "BnVOS4bWpm0t",
        "outputId": "b1172d66-971b-4f10-bab3-60b1ba4410ab"
      },
      "execution_count": 14,
      "outputs": [
        {
          "output_type": "execute_result",
          "data": {
            "text/plain": [
              "['https://www.yna.co.kr/',\n",
              " 'https://n.news.naver.com/mnews/article/001/0013629944?sid=101',\n",
              " 'http://www.bizwatch.co.kr/',\n",
              " 'https://n.news.naver.com/mnews/article/648/0000012204?sid=101',\n",
              " 'http://www.mk.co.kr/',\n",
              " 'https://n.news.naver.com/mnews/article/009/0005056923?sid=101',\n",
              " 'http://www.chosun.com/',\n",
              " 'https://n.news.naver.com/mnews/article/023/0003733013?sid=101',\n",
              " 'http://www.newsis.com',\n",
              " 'https://n.news.naver.com/mnews/article/003/0011578799?sid=101',\n",
              " 'http://www.segye.com',\n",
              " 'https://n.news.naver.com/mnews/article/022/0003761801?sid=101',\n",
              " 'https://moneys.mt.co.kr/',\n",
              " 'https://n.news.naver.com/mnews/article/417/0000875557?sid=101',\n",
              " 'http://www.fnnews.com/',\n",
              " 'https://n.news.naver.com/mnews/article/014/0004938220?sid=101',\n",
              " 'http://www.mk.co.kr/',\n",
              " 'https://n.news.naver.com/mnews/article/009/0005056226?sid=101',\n",
              " 'http://www.dailian.co.kr/',\n",
              " 'https://n.news.naver.com/mnews/article/119/0002665008?sid=101',\n",
              " 'http://news.jtbc.joins.com/',\n",
              " 'https://n.news.naver.com/mnews/article/437/0000324275?sid=101',\n",
              " 'http://www.bizwatch.co.kr/',\n",
              " 'https://n.news.naver.com/mnews/article/648/0000012204?sid=101',\n",
              " 'https://www.seoul.co.kr',\n",
              " 'https://n.news.naver.com/mnews/article/081/0003322969?sid=101',\n",
              " 'http://www.sedaily.com',\n",
              " 'https://n.news.naver.com/mnews/article/011/0004131075?sid=101',\n",
              " 'http://www.mbn.co.kr',\n",
              " 'https://n.news.naver.com/mnews/article/057/0001707748?sid=101',\n",
              " 'http://www.mk.co.kr/',\n",
              " 'https://n.news.naver.com/mnews/article/009/0005056624?sid=101',\n",
              " 'http://www.newsis.com',\n",
              " 'https://n.news.naver.com/mnews/article/003/0011576418?sid=101',\n",
              " 'https://biz.sbs.co.kr',\n",
              " 'https://n.news.naver.com/mnews/article/374/0000313479?sid=101',\n",
              " 'http://www.newsis.com',\n",
              " 'https://n.news.naver.com/mnews/article/003/0011580227?sid=101',\n",
              " 'http://www.mk.co.kr/',\n",
              " 'https://n.news.naver.com/mnews/article/009/0005056412?sid=101',\n",
              " 'http://www.heraldbiz.com/',\n",
              " 'https://n.news.naver.com/mnews/article/016/0002075100?sid=101',\n",
              " 'http://www.fnnews.com/',\n",
              " 'https://n.news.naver.com/mnews/article/014/0004938615?sid=101',\n",
              " 'http://www.heraldbiz.com/',\n",
              " 'https://n.news.naver.com/mnews/article/016/0002075037?sid=101',\n",
              " 'http://www.etoday.co.kr',\n",
              " 'http://www.edaily.co.kr/',\n",
              " 'https://n.news.naver.com/mnews/article/018/0005381933?sid=101',\n",
              " 'http://www.newsis.com',\n",
              " 'https://n.news.naver.com/mnews/article/003/0011578789?sid=101',\n",
              " 'http://news.sbs.co.kr/',\n",
              " 'https://n.news.naver.com/mnews/article/055/0001018714?sid=101',\n",
              " 'http://www.hankyung.com/',\n",
              " 'https://n.news.naver.com/mnews/article/015/0004783859?sid=101',\n",
              " 'http://imnews.imbc.com/',\n",
              " 'https://n.news.naver.com/mnews/article/214/0001240064?sid=101',\n",
              " 'http://tv.chosun.com/',\n",
              " 'https://n.news.naver.com/mnews/article/448/0000385712?sid=101',\n",
              " 'http://www.khan.co.kr/',\n",
              " 'https://n.news.naver.com/mnews/article/032/0003191026?sid=101',\n",
              " 'http://news.jtbc.joins.com/',\n",
              " 'https://n.news.naver.com/mnews/article/437/0000324138?sid=101',\n",
              " 'http://www.dailian.co.kr/',\n",
              " 'https://n.news.naver.com/mnews/article/119/0002664979?sid=101',\n",
              " 'https://jmagazine.joins.com/economist?cloc=joongang-home-jmnet',\n",
              " 'https://n.news.naver.com/mnews/article/243/0000035730?sid=101',\n",
              " 'http://www.dailian.co.kr/',\n",
              " 'https://n.news.naver.com/mnews/article/119/0002664757?sid=101',\n",
              " 'http://www.sedaily.com',\n",
              " 'https://n.news.naver.com/mnews/article/011/0004130660?sid=101',\n",
              " 'http://www.tf.co.kr/',\n",
              " 'https://n.news.naver.com/mnews/article/629/0000188398?sid=101',\n",
              " 'http://sports.hankooki.com/',\n",
              " 'http://www.chosun.com/',\n",
              " 'https://n.news.naver.com/mnews/article/023/0003732681?sid=101',\n",
              " 'https://biz.sbs.co.kr',\n",
              " 'https://n.news.naver.com/mnews/article/374/0000313143?sid=101',\n",
              " 'http://www.dt.co.kr/',\n",
              " 'https://n.news.naver.com/mnews/article/029/0002771341?sid=101',\n",
              " 'http://mtn.mt.co.kr',\n",
              " 'http://www.edaily.co.kr/',\n",
              " 'https://n.news.naver.com/mnews/article/018/0005381655?sid=101',\n",
              " 'https://www.seoul.co.kr',\n",
              " 'https://n.news.naver.com/mnews/article/081/0003322539?sid=101',\n",
              " 'http://www.mk.co.kr/',\n",
              " 'https://n.news.naver.com/mnews/article/009/0005055757?sid=101',\n",
              " 'http://www.ebn.co.kr',\n",
              " 'http://www.edaily.co.kr/',\n",
              " 'https://n.news.naver.com/mnews/article/018/0005382758?sid=101',\n",
              " 'http://realty.chosun.com/',\n",
              " 'https://biz.sbs.co.kr',\n",
              " 'https://n.news.naver.com/mnews/article/374/0000313406?sid=101',\n",
              " 'http://www.etoday.co.kr',\n",
              " 'http://mtn.mt.co.kr',\n",
              " 'http://www.kmib.co.kr/',\n",
              " 'https://n.news.naver.com/mnews/article/005/0001571620?sid=101',\n",
              " 'http://www.yonhapnewstv.co.kr',\n",
              " 'https://n.news.naver.com/mnews/article/422/0000573291?sid=102',\n",
              " 'http://www.mbn.co.kr',\n",
              " 'https://n.news.naver.com/mnews/article/057/0001707257?sid=101',\n",
              " 'https://www.seoul.co.kr',\n",
              " 'https://n.news.naver.com/mnews/article/081/0003322901?sid=101',\n",
              " 'http://www.hankyung.com/',\n",
              " 'https://n.news.naver.com/mnews/article/015/0004784331?sid=101',\n",
              " 'http://www.sedaily.com',\n",
              " 'https://n.news.naver.com/mnews/article/011/0004130146?sid=101',\n",
              " 'http://www.wowtv.co.kr/',\n",
              " 'https://n.news.naver.com/mnews/article/215/0001069895?sid=101',\n",
              " 'http://www.inews24.com/',\n",
              " 'https://n.news.naver.com/mnews/article/031/0000714947?sid=101',\n",
              " 'http://www.mt.co.kr/',\n",
              " 'https://n.news.naver.com/mnews/article/008/0004825292?sid=101',\n",
              " 'http://www.dt.co.kr/',\n",
              " 'https://n.news.naver.com/mnews/article/029/0002771074?sid=101',\n",
              " 'https://biz.sbs.co.kr',\n",
              " 'https://n.news.naver.com/mnews/article/374/0000313418?sid=101',\n",
              " 'https://www.seoul.co.kr',\n",
              " 'https://n.news.naver.com/mnews/article/081/0003322319?sid=101',\n",
              " 'http://www.thepublic.kr/',\n",
              " 'http://www.cnews.co.kr',\n",
              " 'http://www.etoday.co.kr',\n",
              " 'http://www.mt.co.kr/',\n",
              " 'https://n.news.naver.com/mnews/article/008/0004825601?sid=101',\n",
              " 'http://upinews.kr',\n",
              " 'https://www.yna.co.kr/',\n",
              " 'https://n.news.naver.com/mnews/article/001/0013622183?sid=101',\n",
              " 'http://www.incheonin.com',\n",
              " 'http://www.segye.com',\n",
              " 'https://n.news.naver.com/mnews/article/022/0003761625?sid=101',\n",
              " 'https://biz.sbs.co.kr',\n",
              " 'https://n.news.naver.com/mnews/article/374/0000313202?sid=101',\n",
              " 'http://www.newsis.com',\n",
              " 'https://n.news.naver.com/mnews/article/003/0011573446?sid=101',\n",
              " 'http://www.fnnews.com/',\n",
              " 'https://n.news.naver.com/mnews/article/014/0004937892?sid=101',\n",
              " 'http://biz.chosun.com/',\n",
              " 'https://n.news.naver.com/mnews/article/366/0000859957?sid=101',\n",
              " 'https://www.yna.co.kr/',\n",
              " 'https://n.news.naver.com/mnews/article/001/0013621729?sid=101',\n",
              " 'http://news.kbs.co.kr/',\n",
              " 'https://n.news.naver.com/mnews/article/056/0011387553?sid=101',\n",
              " 'http://www.dt.co.kr/',\n",
              " 'https://n.news.naver.com/mnews/article/029/0002771054?sid=101',\n",
              " 'http://www.mk.co.kr/',\n",
              " 'https://n.news.naver.com/mnews/article/009/0005055828?sid=101',\n",
              " 'http://www.dailian.co.kr/',\n",
              " 'https://n.news.naver.com/mnews/article/119/0002664266?sid=101',\n",
              " 'http://upinews.kr',\n",
              " 'http://www.yonhapnewstv.co.kr',\n",
              " 'https://n.news.naver.com/mnews/article/422/0000573275?sid=101',\n",
              " 'https://www.yna.co.kr/',\n",
              " 'https://n.news.naver.com/mnews/article/001/0013614005?sid=102',\n",
              " 'http://www.skyedaily.com',\n",
              " 'http://www.fntimes.com',\n",
              " 'https://www.joongang.co.kr',\n",
              " 'https://n.news.naver.com/mnews/article/025/0003243360?sid=101',\n",
              " 'https://www.asiae.co.kr/',\n",
              " 'https://n.news.naver.com/mnews/article/277/0005186821?sid=101',\n",
              " 'http://www.hankyung.com/',\n",
              " 'https://n.news.naver.com/mnews/article/015/0004783647?sid=101',\n",
              " 'https://biz.sbs.co.kr',\n",
              " 'https://n.news.naver.com/mnews/article/374/0000313068?sid=101',\n",
              " 'http://www.munhwa.com/',\n",
              " 'https://n.news.naver.com/mnews/article/021/0002544613?sid=101',\n",
              " 'http://imnews.imbc.com/',\n",
              " 'https://n.news.naver.com/mnews/article/214/0001239989?sid=101',\n",
              " 'http://www.edaily.co.kr/',\n",
              " 'https://n.news.naver.com/mnews/article/018/0005380322?sid=101',\n",
              " 'http://www.cnews.co.kr',\n",
              " 'http://www.newspim.com',\n",
              " 'http://www.newsway.kr',\n",
              " 'https://moneys.mt.co.kr/',\n",
              " 'https://n.news.naver.com/mnews/article/417/0000875140?sid=101',\n",
              " 'http://www.dt.co.kr/',\n",
              " 'https://n.news.naver.com/mnews/article/029/0002770813?sid=101',\n",
              " 'http://www.mt.co.kr/',\n",
              " 'https://n.news.naver.com/mnews/article/008/0004826179?sid=101',\n",
              " 'http://www.sentv.co.kr',\n",
              " 'http://www.edaily.co.kr/',\n",
              " 'https://n.news.naver.com/mnews/article/018/0005378851?sid=101']"
            ]
          },
          "metadata": {},
          "execution_count": 14
        }
      ]
    },
    {
      "cell_type": "code",
      "source": [
        "#NAVER 뉴스만 남기기\n",
        "final_urls = []\n",
        "for i in tqdm(range(len(news_url_1))):\n",
        "    if \"news.naver.com\" in news_url_1[i]:\n",
        "        final_urls.append(news_url_1[i])\n",
        "    else:\n",
        "        pass"
      ],
      "metadata": {
        "colab": {
          "base_uri": "https://localhost:8080/"
        },
        "id": "LmJNBuL_pqnN",
        "outputId": "1a28275f-2d7c-46cb-a4cb-73d077ce5935"
      },
      "execution_count": 15,
      "outputs": [
        {
          "output_type": "stream",
          "name": "stderr",
          "text": [
            "100%|██████████| 181/181 [00:00<00:00, 535002.84it/s]\n"
          ]
        }
      ]
    },
    {
      "cell_type": "code",
      "source": [
        "# 뉴스 내용 크롤링\n",
        "\n",
        "for i in tqdm(final_urls):\n",
        "    #각 기사 html get하기\n",
        "    news = requests.get(i,headers=headers)\n",
        "    news_html = BeautifulSoup(news.text,\"html.parser\")\n",
        "\n",
        "    # 뉴스 제목 가져오기\n",
        "    title = news_html.select_one(\"#ct > div.media_end_head.go_trans > div.media_end_head_title > h2\")\n",
        "    if title == None:\n",
        "        title = news_html.select_one(\"#content > div.end_ct > div > h2\")\n",
        "    \n",
        "    # 뉴스 본문 가져오기\n",
        "    content = news_html.select(\"div#dic_area\")\n",
        "    if content == []:\n",
        "        content = news_html.select(\"#articeBody\")\n",
        "\n",
        "    # 기사 텍스트만 가져오기\n",
        "    # list합치기\n",
        "    content = ''.join(str(content))\n",
        "\n",
        "    # html태그제거 및 텍스트 다듬기\n",
        "    pattern1 = '<[^>]*>'\n",
        "    title = re.sub(pattern=pattern1, repl='', string=str(title))\n",
        "    content = re.sub(pattern=pattern1, repl='', string=content)\n",
        "    pattern2 = \"\"\"[\\n\\n\\n\\n\\n// flash 오류를 우회하기 위한 함수 추가\\nfunction _flash_removeCallback() {}\"\"\"\n",
        "    content = content.replace(pattern2, '')\n",
        "\n",
        "    news_titles.append(title)\n",
        "    news_contents.append(content)\n",
        "\n",
        "    try:\n",
        "        html_date = news_html.select_one(\"div#ct> div.media_end_head.go_trans > div.media_end_head_info.nv_notrans > div.media_end_head_info_datestamp > div > span\")\n",
        "        news_date = html_date.attrs['data-date-time']\n",
        "    except AttributeError:\n",
        "        news_date = news_html.select_one(\"#content > div.end_ct > div > div.article_info > span > em\")\n",
        "        news_date = re.sub(pattern=pattern1,repl='',string=str(news_date))\n",
        "    # 날짜 가져오기\n",
        "    news_dates.append(news_date)\n",
        "\n",
        "print(\"검색된 기사 갯수: 총 \",(page2+1-page)*10,'개')\n",
        "print(\"\\n[뉴스 제목]\")\n",
        "print(news_titles)\n",
        "print(\"\\n[뉴스 링크]\")\n",
        "print(final_urls)\n",
        "print(\"\\n[뉴스 내용]\")\n",
        "print(news_contents)\n",
        "\n",
        "print('news_title: ',len(news_titles))\n",
        "print('news_url: ',len(final_urls))\n",
        "print('news_contents: ',len(news_contents))\n",
        "print('news_dates: ',len(news_dates))\n"
      ],
      "metadata": {
        "colab": {
          "base_uri": "https://localhost:8080/"
        },
        "id": "s9OLdVEqpvvO",
        "outputId": "50c0024f-3855-4162-d82c-ffd83a263f54"
      },
      "execution_count": 16,
      "outputs": [
        {
          "output_type": "stream",
          "name": "stderr",
          "text": [
            "100%|██████████| 81/81 [00:31<00:00,  2.60it/s]"
          ]
        },
        {
          "output_type": "stream",
          "name": "stdout",
          "text": [
            "검색된 기사 갯수: 총  100 개\n",
            "\n",
            "[뉴스 제목]\n",
            "['찬 바람 부는 청약시장…둔촌주공 1순위 마감도 불발', \"믿었던 '둔촌주공' 마저…내년 청약시장 더 어렵다\", '둔촌주공 장위자이 예상 밖 성적표...내년 분양시장 험난할 듯', '‘10만 청약설’ 틀렸다...둔촌주공 1순위 경쟁률 3.7대 1 그쳐', '일반공급도 저조…둔촌주공  1순위 청약 경쟁률 3.7대 1', '“둔촌 주공 청약 왜 이래?”…고분양가 인식·중도금 대출 제한 ‘허들’로 작용한 듯', '\\'장위자이 레디언트\\' 특공 5.2대 1… \"둔촌주공보다 낫네?\"', \"둔촌주공 특공 ' 미달'...내년 분양시장 '빨간불'\", '둔촌 주공 이어…수도권 대단지 쏟아진다', '청약 한파 속 둔촌주공·장위자이 분양 결과…실패? vs. 선방?', \"'부엌뷰'인데 고분양가…둔촌주공 1순위 청약도 '시들'\", \"믿었던 '둔촌주공' 마저…내년 청약시장 더 어렵다\", '둔촌주공 1순위도 흥행 부진', '둔촌주공, 16개 타입 중 절반이 1순위 마감 실패', \"'10만 명 청약설' 둔촌주공 흥행 실패…분양시장 빨간불\", '충격에 빠진 둔촌주공...입주할 때 프리미엄은 얼마? [매부리TV]', \"둔촌주공 재건축 '올림픽파크포레온'…특공부터 일부 미달(종합)\", '10만명 온다더니 2만명도 안돼…둔촌주공 1순위 3.7대 1', \"'둔촌주공' 마저 저조한 성적…내년 분양시장 '먹구름'\", '현금 10억 가진 무주택자 5000명 둔촌주공 선택했지만… [매부리레터]', '둔촌주공 예상밖 청약 부진 쇼크…공사 지연에 입주권 마저 풀린다 [부동산360]', '[상보]둔촌주공 1순위 미달없지만...경쟁률 3.69대 1', '둔촌주공 ‘찬바람’ 청약에 왜 중소형 증권사가 가슴 졸이나 [투자360]', \"'장위자이레디언트' 특공 5대 1…'둔촌'과 뭐가 달랐나\", \"[속보]둔촌주공 일반분양 1순위 경쟁률 3.7대1 '저조'\", \"서울 둔촌주공 '10만 청약설' 돌더니…부동산은 '꽁꽁'\", '\"22평서 다섯 식구 못 살아\"…둔촌주공 미달 사태 \\'쇼크\\'', '둔촌주공 재건축 분양 기대 못 미쳐‥분양 시장 빨간불', \"'10만 청약설' 둔촌주공 흥행 저조…내년 분양시장 '먹구름'\", '“너무 비쌌나” 둔촌주공 특공 청약 경쟁률 3.28대 1 마무리', '\"투룸서 애들 셋 데리고 살라고?\"…둔촌주공 특공 \\'미달\\'', \"5대 은행 부동산PF에 묶인 돈 17조...둔촌주공 찬바람에 '긴장'\", '“둔촌주공도 미달 우려인데” 마포 분양가 1평당 4000만원 넘어', '둔촌주공 1순위 경쟁률 3.7대 1…올해 서울 ‘최다 접수’ 기록', '고금리·고분양가 부담에…둔촌주공, 미계약 속출 우려도', '둔촌주공·장위자이…이번 주 6000가구 분양', '서울 청약 모처럼 큰 장 열린다...둔촌주공·장위4구역 6000가구', \"[이슈앤 직설] 둔촌주공·장위자이…'서울 대어급 분양'\", '10대 1 예상했는데… 둔촌주공·장위자이 청약경쟁률 저조', '\"둔촌주공 안되면 강동헤리티지자이\"…평당 분양가 2945만원', '“PF 앞날 달렸다” 둔촌주공에 촉각', '기대 반 우려 반, 저조한 성적표…둔촌주공 특공 경쟁률 3.28대 1', \"'장위 vs 둔촌'…'중도금대출·분양가·대형평수' 흥행 갈라\", \"[김대호 박사의 오늘의 키워드] 2연속 '빅스텝'·킹달러 저주·시진핑 아랍의 꿈·러시아 본토 공습·둔촌 주공\", '최대 재건축 둔촌주공 특공… 청약 경쟁률 3.3대 1 그쳤다', '[핫클릭] 둔촌주공 청약 시작…오늘 일반공급 1순위 진행 外', '둔촌주공 특별공급 평균 경쟁률 3.3대 1', '둔촌주공  최악의 시나리오 피했지만, 성적 저조', \"'대설' 전국 눈 또는 비…뉴욕증시, 경기침체 공포에 하락 [모닝브리핑]\", '\"둔촌주공 어쩌나\" 고심 커진 예비청약자', '\"최악은 지났다\"…둔촌주공 청약으로 향하는 눈', '[화물연대 파업] 둔촌주공, 콘크리트 타설 일부 작업 재개…정상화는 아직', '\"아꼈던 청약 통장 몰려\" vs \"미계약 예상\"…\\'둔촌주공\\' 엇갈린 시선', '[수도권으로 번지는 미분양] 둔촌 특공 `아이 3명 다자녀 전형`이 20평?', \"[이슈분석] '서울 불패도 옛말?' 잇단 '특공 미달'에 시장 촉각\", '“둔촌주공 경쟁률 낮아도 완판 기대 …내년 부동산시장의 바로미터 될 것”', '강북에 평당 분양가 4천만원 등장…\"둔촌주공 싸보이네\" 귀해지나', '둔촌주공 견본주택에 몰린 시민들', '코스피 한 달 만에 2400 붕괴… 불안불안한 금융시장', \"둔촌주공 청약할까 말까…논란의 '주방뷰' 보고 왔습니다\", '[청약셈법 복잡②]둔촌주공-장위자이 예상 당첨 커트라인은?', '둔촌주공 타설 재개.. 건설노조 파업 예고에 셧다운 위기감 고조', '둔촌주공·신반포4지구도 요청한 공사비 검증, 절차만 5개월?… 속 타는 건설사들', '본격 재개되는 서울 아파트 분양…청약시장 향배 가른다', '[ET] 둔촌주공 ‘부엌 뷰’ 논란에 특공 미달까지, 집값 바닥 신호?', '[기획] 알짜단지 동탄마저 미분양아파트 속출', '“애 셋 데리고 투룸에서 어떻게 살라고…”[매부리레터]', \"PF·분양시장 앞날, 둔촌주공에 달렸다…흥행 여부 '촉각'\", '둔촌주공 어제부터 청약 시작…오늘 일반공급 1순위 진행', '[르포] 레미콘 타설 멈춘 둔촌주공…\"궁여지책으로 대체공정만\"', \"10억 있어도 저층 가는데…둔촌주공 믿는 구석은 '욕세권'\", '둔촌주공 넘어선 마포더클래시…분양가 평당 4013만원', \"분양 시작했는데 입주권도 풀려…둔촌주공 실수요자 '고민'\", '둔촌주공·장위4구역 등 6100가구 오늘·내일 청약', '‘매머드’ 둔촌주공 출격…내주 2만2000가구 분양', \"[뉴스외전 경제 '쏙'] 최태원 이혼 665억 재산 분할‥주식은?\", '‘둔촌주공 분양’ 막 오른다…건설株 훈풍 탈까', \"둔촌주공·장위4구역 '6000가구' 신규 분양, 로또청약 아니어도 성공할까?\", '둔촌주공 재건축 특별공급 평균 경쟁률 3.2대1로 아쉬운 성적표', '\"집값 하락 방어수단 될라\"…분상제 거주의무 개선 속도', \"[포토]'둔촌주공' 견본주택 개관\"]\n",
            "\n",
            "[뉴스 링크]\n",
            "['https://n.news.naver.com/mnews/article/001/0013629944?sid=101', 'https://n.news.naver.com/mnews/article/648/0000012204?sid=101', 'https://n.news.naver.com/mnews/article/009/0005056923?sid=101', 'https://n.news.naver.com/mnews/article/023/0003733013?sid=101', 'https://n.news.naver.com/mnews/article/003/0011578799?sid=101', 'https://n.news.naver.com/mnews/article/022/0003761801?sid=101', 'https://n.news.naver.com/mnews/article/417/0000875557?sid=101', 'https://n.news.naver.com/mnews/article/014/0004938220?sid=101', 'https://n.news.naver.com/mnews/article/009/0005056226?sid=101', 'https://n.news.naver.com/mnews/article/119/0002665008?sid=101', 'https://n.news.naver.com/mnews/article/437/0000324275?sid=101', 'https://n.news.naver.com/mnews/article/648/0000012204?sid=101', 'https://n.news.naver.com/mnews/article/081/0003322969?sid=101', 'https://n.news.naver.com/mnews/article/011/0004131075?sid=101', 'https://n.news.naver.com/mnews/article/057/0001707748?sid=101', 'https://n.news.naver.com/mnews/article/009/0005056624?sid=101', 'https://n.news.naver.com/mnews/article/003/0011576418?sid=101', 'https://n.news.naver.com/mnews/article/374/0000313479?sid=101', 'https://n.news.naver.com/mnews/article/003/0011580227?sid=101', 'https://n.news.naver.com/mnews/article/009/0005056412?sid=101', 'https://n.news.naver.com/mnews/article/016/0002075100?sid=101', 'https://n.news.naver.com/mnews/article/014/0004938615?sid=101', 'https://n.news.naver.com/mnews/article/016/0002075037?sid=101', 'https://n.news.naver.com/mnews/article/018/0005381933?sid=101', 'https://n.news.naver.com/mnews/article/003/0011578789?sid=101', 'https://n.news.naver.com/mnews/article/055/0001018714?sid=101', 'https://n.news.naver.com/mnews/article/015/0004783859?sid=101', 'https://n.news.naver.com/mnews/article/214/0001240064?sid=101', 'https://n.news.naver.com/mnews/article/448/0000385712?sid=101', 'https://n.news.naver.com/mnews/article/032/0003191026?sid=101', 'https://n.news.naver.com/mnews/article/437/0000324138?sid=101', 'https://n.news.naver.com/mnews/article/119/0002664979?sid=101', 'https://n.news.naver.com/mnews/article/243/0000035730?sid=101', 'https://n.news.naver.com/mnews/article/119/0002664757?sid=101', 'https://n.news.naver.com/mnews/article/011/0004130660?sid=101', 'https://n.news.naver.com/mnews/article/629/0000188398?sid=101', 'https://n.news.naver.com/mnews/article/023/0003732681?sid=101', 'https://n.news.naver.com/mnews/article/374/0000313143?sid=101', 'https://n.news.naver.com/mnews/article/029/0002771341?sid=101', 'https://n.news.naver.com/mnews/article/018/0005381655?sid=101', 'https://n.news.naver.com/mnews/article/081/0003322539?sid=101', 'https://n.news.naver.com/mnews/article/009/0005055757?sid=101', 'https://n.news.naver.com/mnews/article/018/0005382758?sid=101', 'https://n.news.naver.com/mnews/article/374/0000313406?sid=101', 'https://n.news.naver.com/mnews/article/005/0001571620?sid=101', 'https://n.news.naver.com/mnews/article/422/0000573291?sid=102', 'https://n.news.naver.com/mnews/article/057/0001707257?sid=101', 'https://n.news.naver.com/mnews/article/081/0003322901?sid=101', 'https://n.news.naver.com/mnews/article/015/0004784331?sid=101', 'https://n.news.naver.com/mnews/article/011/0004130146?sid=101', 'https://n.news.naver.com/mnews/article/215/0001069895?sid=101', 'https://n.news.naver.com/mnews/article/031/0000714947?sid=101', 'https://n.news.naver.com/mnews/article/008/0004825292?sid=101', 'https://n.news.naver.com/mnews/article/029/0002771074?sid=101', 'https://n.news.naver.com/mnews/article/374/0000313418?sid=101', 'https://n.news.naver.com/mnews/article/081/0003322319?sid=101', 'https://n.news.naver.com/mnews/article/008/0004825601?sid=101', 'https://n.news.naver.com/mnews/article/001/0013622183?sid=101', 'https://n.news.naver.com/mnews/article/022/0003761625?sid=101', 'https://n.news.naver.com/mnews/article/374/0000313202?sid=101', 'https://n.news.naver.com/mnews/article/003/0011573446?sid=101', 'https://n.news.naver.com/mnews/article/014/0004937892?sid=101', 'https://n.news.naver.com/mnews/article/366/0000859957?sid=101', 'https://n.news.naver.com/mnews/article/001/0013621729?sid=101', 'https://n.news.naver.com/mnews/article/056/0011387553?sid=101', 'https://n.news.naver.com/mnews/article/029/0002771054?sid=101', 'https://n.news.naver.com/mnews/article/009/0005055828?sid=101', 'https://n.news.naver.com/mnews/article/119/0002664266?sid=101', 'https://n.news.naver.com/mnews/article/422/0000573275?sid=101', 'https://n.news.naver.com/mnews/article/001/0013614005?sid=102', 'https://n.news.naver.com/mnews/article/025/0003243360?sid=101', 'https://n.news.naver.com/mnews/article/277/0005186821?sid=101', 'https://n.news.naver.com/mnews/article/015/0004783647?sid=101', 'https://n.news.naver.com/mnews/article/374/0000313068?sid=101', 'https://n.news.naver.com/mnews/article/021/0002544613?sid=101', 'https://n.news.naver.com/mnews/article/214/0001239989?sid=101', 'https://n.news.naver.com/mnews/article/018/0005380322?sid=101', 'https://n.news.naver.com/mnews/article/417/0000875140?sid=101', 'https://n.news.naver.com/mnews/article/029/0002770813?sid=101', 'https://n.news.naver.com/mnews/article/008/0004826179?sid=101', 'https://n.news.naver.com/mnews/article/018/0005378851?sid=101']\n",
            "\n",
            "[뉴스 내용]\n",
            "['[\\n중도금 이자 후불 혜택 내세운 장위자이레디언트 1순위 3.1대 1에 그쳐서울 외 지역선 청약 신청 0건·미달 속출…\"옥석가리기 심화할 것\"\\n\\n\\n\\n청약시장 찬바람[연합뉴스 자료사진]    (서울=연합뉴스) 김치연 기자 = 고금리 기조와 집값 하락 우려에 청약시장에도 찬 바람이 불고 있다.    최대 재건축 단지로 분양시장의 주목을 받은 \\'올림픽파크 포레온\\'(둔촌주공)이 시장 기대에 미치지 못하는 흥행성적을 받은 가운데 내년 청약시장에서는 \\'가격 이점\\'이 확실한 단지만 살아남는 옥석 가리기가 심화할 것이란 관측이 나온다.    7일 한국부동산원 청약홈에 따르면 이날 1순위 기타지역(서울시 2년 미만 거주자 및 수도권 거주자) 청약을 받은 서울 강동구 둔촌동 올림픽파크 포레온은 전날보다 3천731명이 추가로 신청하는 데 그쳤다.    전날 1순위 청약에서 3천695가구 모집에 1만3천647명이 신청해 평균 3.7대 1의 경쟁률로 마감한 뒤, 이날도 신청 건수가 크게 늘지 않으면서 일부 주택형은 예비입주자 인원인 500%를 채우지 못해 2순위 청약으로 넘어가게 됐다.    전용면적 29㎡A, 59㎡A·D·E, 84㎡A·B·F·G만 1순위에서 청약 접수를 종료했다.    이날 1순위 해당 지역 청약을 받은 서울 성북구 \\'장위자이 레디언트\\'(장위 4구역)는 956가구 모집에 2천990명이 신청해 평균 경쟁률 3.1대 1로 마쳤다.    15가구를 모집에 492명이 몰린 97㎡가 32.8대 1로 가장 높은 경쟁률을 기록했고, 84㎡E도 1가구 모집에 20명이 몰렸다.    59㎡A와 59㎡B는 각각 6.8대 1과 7.0대 1의 경쟁률을 기록하며 이날 청약 접수를 마감했다.    다만 이들 주택형을 제외하고는 1.3대 1에서 4.4대 1 수준의 경쟁률로 모두 예비입주자 인원을 채우지 못했다.    특히 소형 평수인 49㎡E에서는 11가구 모집에 신청이 10건에 그쳐 미달이 발생하기도 했다.    장위자이 레디언트는 84㎡ 기준 약 9억원 수준으로, 전 주택형 분양가가 12억원을 넘지 않아 중도금 대출이 가능하다. 이에 더해 중도금 전액 이자 후불제 혜택도 내세웠지만 1순위 해당 지역에서 전 타입이 마감되지는 못했다.    \\'흥행불패\\'로 꼽히던 서울 대단지에서도 잇따라 시장 기대치에 미치지 못하는 청약 성적이 나오면서 청약시장 찬바람은 더 거세지는 분위기다.    서울 외 지역 아파트 분양시장의 열기는 더 빠르게 식고 있다.    전남 함평군 \\'함평 엘리체 시그니처\\'는 지난 5일부터 이틀간 특별공급과 1순위 청약 신청을 받았지만 단 1건도 접수되지 않았다.    광주 북구에 지어지는 \\'산이고운 신용파크\\' 역시 227가구 1순위 청약에 71건만 접수돼 모든 주택형에서 미달이 발생했다.    전북 군산시의 \\'군산 신역세권 예다음\\'도 563가구에 대해 1순위 청약 신청을 받았지만, 접수 건수는 101건에 불과했다.    신도시도 상황은 마찬가지다.    파주 운정신도시 \\'A2블록 호반써밋\\'은 지난 2일부터 6일까지 1천31가구에 대한 청약을 2순위까지 진행했으나 269명만 청약을 해 전 주택형이 미달 상태로 청약 접수를 마쳤다.    충남내포신도시 \\'대광로제비앙\\'도 601가구를 모집했으나 263명이 신청하는 데 그쳤다.    집값 하락 우려와 금리 인상에 따른 대출이자 부담이 커지면서 수요자들이 묻지마 청약을 하기보다는 주변 시세보다 분양가 이점이 확실한 단지를 \\'옥석 가리기\\'하는 현상이 앞으로 더 심화할 것이란 전망이 나온다.    국민은행 박원갑 수석부동산전문위원은 \"둔촌주공 청약 결과는 아무리 대단지라도 분양가 메리트가 없는 단지는 실수요자도 청약하지 않는다는 것을 보여준다\"며 \"내년에는 전반적으로 청약 경쟁률이 낮아지는 가운데 주변 시세보다 분양가가 확실히 낮은 단지로 수요가 몰리는 옥석 가리기와 초양극화가 심화할 것\"이라고 내다봤다.    chic@yna.co.kr\\n]', '[\\n올림픽파크 포레온, 청약 흥행 실패 \"고분양가 탓\"\"청약 시장 더 위축될 것…내년 분양 시장 빨간불\"서울 분양 시장 \\'가늠자\\'로 꼽히던 올림픽파크 포레온(둔촌주공 아파트)의 청약 결과가 기대 이하로 집계됐다. 금리인상과 더불어 \\'부엌뷰\\' 논란, 중도금 대출 불가 그리고 \\'고분양가\\' 등이 원인으로 꼽힌다.\\xa0전문가들은 올림픽파크 포레온 미분양 가능성과 함께 앞으로 청약 시장이 더욱 어려워질 것이라고 전망했다. 이번 청약 결과로 수요자들의 기대 심리가 더욱 위축되면서 \\'청약 양극화\\'도 심화할 것이라는 설명이다.\\xa0\\n\\n\\n\\n올림픽파크 포레온 견본주택./사진=이명근 기자 qwe123@7일 한국부동산원 청약홈에 따르면 전날(6일) 진행한 서울 강동구 올림픽파크 포레온 1순위(서울 지역) 일반분양 3695가구에 총 1만3647명이 지원하면서 3.69대 1의 청약 경쟁률을 기록했다.\\xa0▷관련기사: 둔촌주공 1순위 결국 서울서 마감 못했다…1.3만명 그쳐(12월7일)올림픽파크 포레온 청약에서 미달이 난 평형은 없었지만 5개 타입을 제외한 총 11개 타입에서 1순위 서울지역 마감에 실패했다.올림픽파크 포레온은 \\'강남 4구\\'로 꼽히는 강동구에 위치하면서도 분양가가 주변 시세보다 저렴해 청약 수요가 충분하다는 예측이 많았다. 일각에서는 최대 10만명까지 청약 통장을 사용할 것이라고 예측하면서 \\'10만 청약설\\'이 돌기도 했지만 기대에 한참 미치지 못했다.\\xa0올해 서울 지역 평균 청약 경쟁률에도 한참 못 미친다. 부동산R114에 따르면 11월 기준으로 올해 서울 청약 평균 경쟁률은 26.4대 1이다. 지난달 분양한 서울 중랑구 리버센 SK VIEW 롯데캐슬 1순위 청약 평균 경쟁률은 8.31대 1이었다.\\xa0박지만 월용청약연구소 대표는 \"최소 6만명에서 최대 10만명까지 청약할 것으로 예상했는데 예상치의 7분의 1 수준으로\\xa0낮게 나왔다\"면서 \"올림픽파크 포레온 입지 등 조건이 좋음에도 이러한 청약 결과가 나온 것은 청약 수요가 얼마나 위축됐는지를 보여준다\"고 말했다. \\xa0올림픽파크 포레온 청약 경쟁률이 예상치보다 낮은 이유로는 \\'고분양가\\'가 꼽힌다. 인근 시세보다 저렴한 분양가지만, 주택 시장이 빠른 속도로 침체하면서 수요자들이 자금 마련에 부담을 느꼈다는 설명이다. \\xa0▷관련기사: [둔촌주공 체크리스트]분양가에 4억 보태면 강동 대신 \\'강남\\'(11월16일)박원갑 KB국민은행 부동산수석전문위원은 \"둔촌주공 청약 흥행 실패에는 부엌뷰 논란과 더불어 고금리, 2년 실거주, 전매제한 8년 등 다양한 이유가 있다\"면서도 \"결정적으로는 수요자들이 분양가가 생각보다 높다고 인식했기 때문\"이라고 지적했다.\\n\\n\\n\\n올림픽파크 포레온이 1순위 서울 지역에서 청약 마감에 실패하자 미계약, 미분양\\xa0가능성도 제기됐다.\\xa0송승현 도시와경제 대표는 \"두 자릿수 경쟁률을 채우지 못할 경우 미계약에 이어 미분양까지도 이어질 수 있다\"며 \"전용 84㎡는 분양가 12억원이 초과하면서 중도금 대출도 불가능해 계약을 포기하는 사람이 늘어날 수 있다\"고 내다봤다.\\xa0서울 분양 시장 가늠자로 불리던 올림픽파크 포레온 청약 경쟁률이 기대보다 낮게 나오면서 향후 청약 시장에도 \\'적신호\\'가 켜졌다. 내년 분양 예정 단지들을 기다리며 올림픽파크 포레온 경쟁률을 지켜보던 수요자들이 청약 심리가 더욱 위축될 수 있다는 설명에서다.\\xa0내년 초에는 동대문구 \\'휘경자이 디센시아\\'(휘경3구역)과 신반포 \\'래미안 원펜타스\\'(신반포15차), \\'신반포 메이플자이\\' 등 분양이 예정됐다.\\xa0박지만 대표는 \"시세보다 저렴한 분양가에도 청약 수요가 낮게 나왔다는 것은 그만큼 수요가 크게 위축됐기 때문\"이라며 \"분양가가 지금과 비슷하거나 더 높아지면 내년 청약 시장은 더 위축될 것\"이라고 내다봤다.\\xa0더불어 내년 분양 시장이 위축되면서 분양 일정이 미뤄지는 한편, 청약 수요자들의 \\'옥석가리기\\'는 더욱 심화할 전망이다.\\xa0여경희 부동산R114 수석연구원은 \"자금 조달 여건이 어려운 단지들에서는 청약 일정을 더 미룰 가능성이 있다\"면서 \"수요자들의 눈높이가 높아지고 가격 민감도도 커지면서 청약 양극화는 더욱 심해질 것\"이라고 말했다.\\xa0\\n]', '[\\n\\n\\n\\n\\n [이가람 기자]올해 분양시장 대어였던 서울 강동구 둔촌동 ‘올림픽파크포레온’과 서울 강북구 장위동 ‘장위자이레디언트’의 청약 경쟁률이 나란히 예상을 밑돌았다.7일 한국부동산원에 따르면 이날 진행된 장위자이레디언트 1순위 해당지역 청약은 956가구 모집에 2990명이 몰려 평균 경쟁률 3.13대 1을 기록했다. 전날 진행된 특별공급 경쟁률은 5.25대 1이었다.1순위 해당지역에서 접수가 마감된 주택형은 16개 타입 중 전용면적 ▲59㎡A ▲59㎡B ▲84㎡E ▲97㎡ 등 4개 타입에 그쳤다. 최고 경쟁률은 전용 97㎡이었다. 15가구 모집에 492명이 접수하면서 32.8대 1의 경쟁률을 나타냈다. 전용 84E㎡도 1가구 모집에 20명이 몰려 경쟁률이 20대 1로 높았다. 반면 전용 49E㎡는 11명 모집에 10명으로 한 명이 미달됐다.올림픽파크포레온도 전날 1순위 해당지역 청약에서 3695가구 모집에 1만3647명이 신청해 평균 경쟁률 3.69대 1로 마감한 바 있다. 전용 29㎡(12.8대 1)를 제외한 모든 타입이 한 자릿수에 그쳤고, 대출이 가능했던 전용 59㎡(4.9대 1) 역시 경쟁률이 저조했다. 이날 1순위 기타지역 청약에서도 3731명만이 추가 신청했다.정비사업 기대주로 분양시장의 관심을 집중시킨 아파트 단지들이 전문가들의 기대에 미치지 못하는 성적표를 받으면서 내년 청약시장 분위기는 더욱 얼어붙을 것이라는 관측이 나온다.박원갑 국민은행 수석부동산전문위원은 “둔촌주공 청약 결과는 아무리 대단지라도 분양가 메리트가 없는 단지는 실수요자도 청약하지 않는다는 사실을 드러내 준다”며 “내년에는 전반적으로 청약 경쟁률이 낮아지는 가운데 주변 시세보다 분양가가 확실히 낮은 단지로 수요가 몰리는 옥석 가리기와 초양극화가 심화할 것”이라고 내다봤다.\\n]', '[\\n분양가·금리 부담 작용한 듯\\n\\n\\n\\n서울 강동구 둔촌주공 아파트 공사 모습. /시공사업단\\t\\t\\t\\t\\t\\t\\t\\t\\t\\t국내 최대 재건축 단지로 관심을 끈 서울 강동구 둔촌주공아파트(올림픽파크 포레온)가 기대 이하의 청약 성적표를 받았다. 한때 ‘10만 청약설’까지 나왔지만, 1순위 청약에 1만3000여 명이 신청하면서 평균 경쟁률 3.7대1을 기록했다. 서울 강남권에서 오랜만에 나오는 대단지 아파트여서 청약 수요가 몰릴 것이라던 예상이 빗나간 것이다. 최근 금리 부담과 집값 추가 하락 우려에 극도로 위축된 주택 매수 심리가 나타난 결과라는 분석과 함께 주택 경기 침체가 상당 기간 지속할 수 있다는 관측이 나온다.6일 한국부동산원 청약홈에 따르면, 이날 올림픽파크 포레온 일반 분양 3695가구(특별공급 제외)의 1순위(서울 2년 이상 거주) 청약에 1만3647명이 신청했다. 미달한 주택형은 없었지만, 평균 경쟁률은 3.69대1에 그쳤다. 전용면적 84㎡ A 타입(209가구)에 가장 많은 1968명이 신청해 9.4대1 경쟁률을 기록했지만, 대부분 주택형이 경쟁률 5대1을 밑돌았다. 전용 39㎡는 541가구에 560명만 신청해 간신히 미달을 면했다.애초 부동산 시장에선 올림픽파크 포레온의 평균 경쟁률이 20대1을 무난히 넘길 것이란 관측이 많았다. 분양가가 예상보다 높게 책정됐지만, 주변 시세보다 3억~4억원 정도 저렴한 것이 강점으로 꼽혔다. 1만2000가구가 넘는 초대형 단지인 점, ‘강남 4구’인 데다가 올림픽공원과 바로 붙어 있는 입지를 감안하면 청약 수요가 충분할 것이란 논리였다.그러나 실수요자가 가장 선호하는 전용 84㎡ 물량이 모두 분양가 12억원을 넘어 중도금 대출을 받을 수 없게 됐고, 2년 실거주 의무, 8년 전매(轉賣) 금지 같은 조건 때문에 청약을 포기한 무주택 수요자가 예상보다 많았다는 분석이 나온다. 고종완 한국자산관리연구원장은 “최근 집값이 급격히 내리지만, 둔촌주공 청약 경쟁률이 평균 5대1도 안 되는 건 집을 사려는 수요가 극도로 위축됐다는 증거”라며 “만약 당첨자의 계약이 지지부진하면 서울은 물론 수도권 주택 시장이 장기 침체로 이어질 수 있다”고 말했다.올림픽파크 포레온은 예비 정원을 채우지 못한 11개 주택형을 대상으로 7일 1순위 기타지역(수도권) 청약을 접수한다. 이 단지는 모집 가구 수의 5배수까지 예비 입주자를 선정해야 청약이 마감된다.\\n]', \"[\\n기사내용 요약84㎡A 경쟁률 9.42…부엌뷰 논란 84㎡E 2.7대 1 \\n\\n\\n\\n[서울=뉴시스] 최동준 기자 = 1일 서울 강동구 올림픽파크 포레온(둔촌주공 재건축 단지) 견본주택을 찾은 시민들이 상담을 받고 있다. 2022.12.01. photocdj@newsis.com[서울=뉴시스] 강세훈 기자 = 서울 강동구 둔촌주공 아파트(올림픽파크 포레온)가 일반공급 1순위 해당지역 청약에서 평균 3.7대 1의 저조한 경쟁률을 기록했다. 6일 한국부동산원 청약홈에 따르면 이날 진행된 올림픽파크 포레온 일반공급 1순위 당해지역(서울시 2년 이상 거주자) 청약은 3695가구 모집에 1만3647명이 신청해 평균 경쟁률 3.7대 1을 기록했다.전용면적  29㎡A 주택형이 3가구 모집에 64명이 몰려 청약 경쟁률이 12.8대 1로 가장 높았다. 반면 전용면적 39㎡A 주택형은 541가구 모집에 560명이 신청에 1.04대 1을 기록했다. 전용면적 84㎡ 주택형 중에서는 84㎡A 주택형이 209가구 모집에 1968명이 몰려 경쟁률 9.42대 1을 기록했다. '부엌뷰' 논란이 일었던 전용면적 84㎡E 주택형 경쟁률은 2.69대 1에 그쳤다. 전용면적 84㎡ 타입 가운데 가장 낮은 경쟁률이다. 이 밖에 ▲49㎡ 1.55대 1 ▲59㎡A타입 5.21대 1 ▲59㎡B타입 3.71대 1 ▲59㎡C타입 4.01대 1 ▲59㎡D타입 8.81대 1 ▲59㎡E타입 6.17대 1 등을 기록했다.또 ▲84㎡B타입 6.57대 1 ▲84㎡ C타입 2.51대 1 ▲84㎡D타입 2.47대 1 ▲84㎡F타입 3.89대 1 ▲84㎡G 타입 4.00대  1 ▲84㎡H타입 4.13대 1을 기록했다. 올림픽파크 포레온은 지하 3층~지상 35층, 85개동, 총 1만2032가구 규모의 신도시급 단지다. 이 중 4786가구가 일반분양으로 공급된다. 전날 진행된 특별공급 청약에는 1091가구 모집에 3580명이 신청해 평균 3.28대 1의 경쟁률을 기록했다. 업계에서는 해당 단지의 흥행 여부가 앞으로의 청약시장을 예측할 '바로미터'가 될 것으로 보고 있는 가운데, 특별공급에 이어 일반공급 청약 경쟁률도 예상보다 저조한 결과가 나온 것으로 업계에서는 받아들이고 있다. 3.3㎡당 평균 3829만원으로 책정된 분양가가 다소 높다는 인식이 반영된 것으로 풀이된다.둔촌주공 일반분양은 전용 85㎡초과 물량이 없어 100% 가점제로 진행될 예정이다.분양가는 ▲29㎡ 4억9300만~5억2340만원 ▲39㎡ 6억7360만~7억1520만원 ▲49㎡ 8억2970만~8억8100만원 ▲59㎡ 9억7940만~10억6250만원 ▲84㎡ 12억3600만~13억2040만원 등이다. 일반공급 1순위 청약은 7일 기타지역(서울시 2년 미만 거주자 및 수도권 거주자), 8일 2순위 신청을 받는다. 당첨자 발표는 이달 15일이며, 계약일은 내년 1월3~17일이다.입주는 2025년 1월 예정이다．\\n]\", '[\\n업계 \"2년 실거주 요건 탓 자비로 잔금 내야 하는 특수성도\" 분석\"정당 계약일 內 계약하지 않아 예비 당첨자 물량도 있을 것\" 관측도 \\n\\n\\n\\n   연합뉴스    \\xa0  단군 이래 최대 재건축 단지로 분양시장의 주목을 받은 \\'올림픽파크 포레온\\'(둔촌주공)이 1순위 청약에서도 한 자릿수 경쟁률을 기록했다.  \\xa0  서울 강남권에서 오랜만에 나온 대단지 아파트가 시장 기대치에 미치지 못하는 흥행성적을 받으면서, 내년 청약시장 분위기가 더 냉각될 것이란 관측도 나온다.  \\xa0  6일 연합뉴스와 한국부동산원 청약홈에 따르면 이날 1순위 청약을 받은 서울 강동구 둔촌동 올림픽파크 포레온은 3천695가구 모집에 1만3천647명이 신청해 평균 3.7대 1의 경쟁률로 마감됐다.  \\xa0  두 자릿수 청약 경쟁률은 보인 주택형은 가구 모집에 64명이 신청한 전용면적 29㎡A(12.8대 1) 뿐이었다.  \\xa0  소형 평수인 39㎡A와 49㎡A는 각각 1대 1과 1.6대 1의 경쟁률을 기록해 저조한 성적을 거뒀다.  \\xa0  1순위 해당지역 청약에서 예비입주자 인원까지 채워 청약 접수를 종료한 주택형은 29㎡A, 59㎡D·E, 84㎡A·B 등 5개뿐이었다.  \\xa0  84㎡A는 209가구 모집에 1천968명이 청약통장을 던져 29㎡A를 제외하면 가장 높은 경쟁률(9.4대 1)을 기록했고, 59㎡D도 54가구 모집에 476명이 청약해 8.8대 1의 경쟁률이 나왔다.  \\xa0  59㎡에서는 A형(5.2대 1), B형(3.7대 1), C형(4.0대 1), E형(6.2대 1) 등 경쟁률을 기록했다. 1천488가구 모집에 7천362명 신청, 평균 경쟁률 4.9대 1이었다.  \\xa0  전 주택형이 12억원을 초과해 중도금 대출이 불가한 84㎡에서는 B형(6.6대 1), C형(2.5대 1), D형(2.5대 1), E형(2.7대 1), F형(3.9대 1), G형(4.0대 1), H형(4.1대 1) 등 총 1천237가구 모집에 5천5명이 신청해 평균 경쟁률 4.0대 1을 기록했다.  \\xa0  특히 주방 창문 간 거리가 좁아 창을 통해 맞은편 집이 마주 보이는 구조로 설계돼 \\'주방뷰\\' 논란이 일었던 타입인 59㎡C와 84㎡E도 다른 주택형과 비교할 때 비교적 낮지 않은 경쟁률을 보였다.  \\xa0  지난달 청약에 나선 서울 강동구 \\'더샵 파크솔레이유\\'가 일반공급 53가구 모집에 831명이 몰려 평균 15.7대 1의 경쟁률을 기록한 것과 비교해도 올림픽파크 포레온의 경쟁률은 비교적 낮다는 평가가 나온다.  \\xa0  함영진 직방 빅데이터랩장은 \"순위 내 마감으로 완판은 했지만, 흥행은 시장 기대치에 미치지 못한 결과로 볼 수 있다\"며 \"84㎡부터는 중도금 대출이 안 되고, 59㎡도 분양가가 9억원을 넘어가면서 특별공급 물량으로 59㎡과 84㎡이 나오지 않다 보니 일반공급 물량이 많았던 특수성이 있다\"고 했다.  \\xa0  함 랩장은 \"분양가상한제 적용 단지지만 수요자 눈높이보다 분양가가 높기도 했고, 2년 실거주 요건 때문에 자비로 잔금을 내야 하는 특수성도 작용했다\"며 \"정당계약일 안에 계약하지 않아 예비당첨자로 넘어가는 물량도 있을 것으로 보인다\"고 내다봤다.  \\xa0  전날 진행된 이 단지의 특별공급 1천91가구 모집에는 3천580명이 신청해 평균 3.3대 1의 경쟁률을 나타냈다.  \\xa0  29~49㎡ 소형 평수를 대상으로 진행된 특별공급은 다자녀 가구 전형 등 일부 전형에서 경쟁률이 1대 1을 밑돌기도 했다.  \\xa0  청약은 7일 기타지역(서울시 2년 미만 거주자 및 수도권 거주자), 8일 2순위 신청을 받는다. 당첨자 발표는 오는 15일이며, 계약일은 내년 1월 3~17일이다.  \\xa0  한편 이날 특별공급 청약을 받은 서울 성북구 \\'장위자이 레디언트\\'(장위 4구역)는 374가구 모집에 1천962명이 신청해 평균 5.2대 경쟁률을 기록했다.\\n]', \"[\\n\\n\\n\\n\\n장위자이 레디언트 조감도. /GS건설 제공 올해 서울 강동구 둔촌주공 재건축(올림픽파크포레온) 단지와 함께 서울 청약 기대주로 꼽힌 강북구 장위4구역을 재개발해 공급하는 '장위자이 레디언트' 특별공급이 평균 5.2대 1을 기록했다.7일 한국부동산원 청약홈에 따르면 전날 진행된 장위자이 레디언트 특별공급 청약은 374가구 모집에 1962명이 신청해 평균 경쟁률 5.24대 1을 기록했다. 장위자이 레디언트는 GS건설이 서울 강북구 장위동 장위4구역을 재개발하고 공급하는 단지로 2840가구 규모다. 특히 59㎡(이하 전용면적)B 타입은 63가구 모집에 709명이 접수해 11.3대 1 평균 경쟁률을 나타냈다. 59㎡A 타입은 37가구 모집에 295명이 신청해 7.9대 1의 경쟁률을 기록하면서 59㎡의 경쟁률이 대체로 높았다. 72㎡는 185명 모집에 647명이 신청해 3.4대 1의 경쟁률을 보였다.장위자이 레디언트는 서울 성북구 장위동 일대에 지하 3층~최고 31층, 31개동 총2840가구 대단지로 조성된다. 49~97㎡ 1330가구가 일반분양된다. 입주예정일은 2025년 3월이다. 분양가격은 ▲49㎡B 타입 기준 6억9430만원대 ▲59㎡A타입 7억5940만원대 ▲72㎡타입 8억9910만원대 ▲84㎡A 타입 10억2350만원대(각각 최고가 기준)다. 분양 일정은 6일 특별공급을 시작으로 7일 해당지역 1순위, 8일 기타지역 1순위 청약이 진행되며 당첨자 발표는 오는 16일이다. 정당계약은 27일부터 29일까지 3일간 진행된다. 전 타입 중도금 대출이 가능하며 중도금 이자 후불제도를 제공한다. 같은 날 1순위 청약을 진행한 올림픽파크포레온은 일반분양 3695가구에 총 1만3647명이 청약을 신청, 평균 3.69대 1의 경쟁률로 집계됐다.\\n]\", \"[\\n\\n\\n\\n\\n총가구 수 1만2032가구 규모로 일반분양 물량만 4786가구에 달하는 둔촌주공을 재건축하는 올림픽파크 포레온 분양이 5일부터 시작됐다. 사진은 5일 서울 강동구에 위치한 견본주택의 단지 모형 모습. 사진=뉴스1 [파이낸셜뉴스] '단군 이래 최대' 재건축사업으로 불리는 둔촌주공 아파트를 재건축한 '올림픽파크 포레온'이 특별공급에서부터 모집수를 채우지 못했다. 둔촌주공은 향후 청약시장의 성패를 예측할 ‘가늠자’로 여겨졌던 만큼 특별청약 미달에 이어 본청약 결과까지 미달이 날 경우 내년 분양시장도 한파가 부는 것 아니냐는 불안이 커지고 있다.   다만 이번에 특별공급에서 미달된 모집수는 생애최초 전형으로 옮겨가 전체 특별공급 내 모집수는 마감된 만큼 일반공급으로 넘어가는 물량은 없는 상태다.   5일 한국부동산원 청약홈에 따르면 이날 진행된 서울 강동구 둔촌주공 아파트(올림픽파크 포레온)의 특별공급 결과 총 1091가구 모집에 3580명이 신청해 평균 3.3대 1의 경쟁률을 기록했다.   해당 단지는 조합원 물량을 제외한 일반분양 물량 총 4786가구 중 특별공급으로 1091가구를 공급했다. 특별공급으로 나온 평형은 △29㎡ 5가구 △39㎡ 609가구 △49㎡ 477가구로 모두 소형 평형이었다. 접수 유형별로는 신혼부부(507가구)가 가장 많고, 생애최초(254가구), 기관추천(206가구), 노부모 부양(62가구), 다자녀 가구(62)가구 순이었다.   이날 청약 결과 생애최초 전형으로 공급된 29㎡는 1가구 모집에 80명이 신청했고, 39㎡ 는 159가구 모집에는 629명이 청약했다. 49㎡은 94가구 모집에 1870명이 몰려 19.9대 1의 경쟁률을 기록했다.   신혼 부부 전형으로 나온 29㎡ 3가구에는 13명이 신청했고, 49㎡는 203가구 모집에 653명이 청약했다. 49㎡ 노부모 부양 전형에도 28가구 모집에 41명이 신청, 같은 면적 기관 추천 전형 90가구에도 125명이 청약했다.   그러나 일부 전형에서는 특별공급에서도 미달이 나왔다. 다자녀 가구 대상으로 나온 49㎡는 62가구를 모집했으나 45명이 신청하는 데 그쳤다. 39㎡ 신혼부부 전형 역시 301가구 모집 중 90명, 39㎡ 노부모 부양 전형에는 34가구 중 5명, 같은 면적 기관추천 전형은 115가구 중 28명이 신청해 모두 공급 가구 수에 못 미쳤다.   업계에서는 해당 단지의 흥행 여부가 앞으로의 청약시장을 예측할 '바로미터'가 될 것으로 보고 있는 가운데, 특별공급 청약 경쟁률 일부가 1대 1보다 낮아진 것은 3.3㎡당 평균 3829만원으로 책정된 분양가가 다소 높다는 인식이 반영된 것으로 풀이된다.   둔촌주공은 '강남4구'로 불리는 강동구 둔촌동에 공급되는 최고 35층 높이 총 1만2032가구 규모의 대단지 아파트로, 도보 10분 거리에 지하철 5호선 둔촌동역과 9호선 둔촌오륜역 두 역을 모두 이용할 수 있는 더블역세권 입지를 갖추고 있다. 수영장, 스카이라운지 등 대단지만 갖출 수 있는 다양한 커뮤니티 시설도 장점이다.   오는 6일부터 본격적으로 시작되는 1순위 일반분양에서는 전용면적 29~84㎡ 16개 평형 총 3695가구가 공급된다. 둔촌주공은 일반분양에 전용 85㎡초과 물량이 없어 100% 가점제로 진행될 예정이다.   분양가는 △29㎡ 4억9300만~5억2340만원 △39㎡ 6억7360만~7억1520만원 △49㎡ 8억2970만~8억8100만원 △59㎡ 9억7940만~10억6250만원 △84㎡ 12억3600만~13억2040만원 등이다.   특히 이 단지는 정부가 중도금 대출보증 하한선을 9억원에서 12억원으로 상향한 이후 처음으로 공급되는 서울지역 대단지 분양이다. 때문에 둔촌주공는 분양가가 10억5000만원 수준인 전용 59㎡까지는 중도금 대출보증이 가능하지만 전용 84㎡ 분양가는 13억원 수준으로 중도금 대출 보증이 불가능해 경쟁률 차이가 클 것으로 예상된다.   또 전용면적 84㎡ E형과 59㎡ C형은 주방 창문을 통해 맞은편 집 내부가 보일 정도로 간격이 좁게 설계되면서 '부엌뷰' 논란도 일으킨 바 있어 경쟁률에 편차가 발생할 수 있다는 분석도 나온다.   다만 전국의 집값 하락세가 점점 가팔라지면서 최근 고점보다 7억~8억원씩 하락한 잠실 엘스·리센츠·트리지움이나 16억5000만원 선에 매물이 나와 있는 가락동 헬리오시티 등 인근 아파트와의 시세 차이를 비교하는 예비청약자들의 셈법도 복잡해지고 있다.   올림픽파크 포레온의 청약은 이날 특별공급을 시작으로 6일 1순위 해당지역, 7일 1순위 기타지역, 8일 2순위 접수로 진행된다. 당첨자는 다음달 15일에 발표되며, 정당 계약은 2023년 1월3일부터 17일까지 15일간 진행된다. 입주는 2025년 1월 예정이다. 시공사는 현대건설·HDC현대산업개발·대우건설·롯데건설이다．\\n\\t\\t]\", '[\\n서울 강북 장위·강동 길동철산 주공·안양 평촌 등연말 대단지 분양 잇따라\"둔촌주공 청약결과 따라다른 분양단지 영향 줄듯\"\\n\\n\\n\\n올림픽파크 포레온(둔촌주공)에 이어 연내 수도권에서 1000가구 이상 대단지 공급이 잇따를 전망이다. 사진은 경기도 수원시 아파트 전경. 【연합뉴스】서울 둔촌주공아파트를 재건축한 \\'올림픽파크 포레온\\'이 6일부터 일반분양 물량에 대한 청약 접수를 한다. 전국 최대 규모 단지인 만큼 흥행 실적에 대한 관심이 뜨겁다. 이달 들어 수도권에 공급되는 1000가구 이상 대단지 아파트가 9곳에 달하는 가운데 올림픽파크 포레온의 청약 결과가 시장에 상당한 영향을 미칠 것으로 분석되기 때문이다. 이날 부동산 정보업체 리얼투데이에 따르면 12월 한 달간 수도권 9곳에서 1000가구 이상 대단지 아파트 물량이 총 2만7842가구 규모로 나온다. 이 중 일반분양 물량은 1만3446가구다. 서울에 공급되는 대단지 아파트는 총 3곳으로 일반분양 물량은 6335가구다.가장 관심을 받는 곳은 4786가구가 공급되는 올림픽파크 포레온이다. 한국부동산원 청약홈에 따르면 전날 진행된 올림픽파크 포레온 특별공급 청약에는 1091가구 모집에 3580건이 신청됐다. 평균 경쟁률은 3.28대1이다. 일부 전형 경쟁률은 1대1에도 미치지 못해 청약 실적에 대한 우려의 목소리가 나왔다. 다만 대부분 물량이 소형(전용면적 29~49㎡)으로만 나와 \\'다자녀 특별공급\\' 등의 경우 인기가 적을 수밖에 없었다는 해석도 있다.실수요자들이 선호하는 전용면적 59~84㎡ 물량은 6일 1순위 청약 접수를 했다. 최환석 하나은행 부동산투자자문센터장은 \"흥행한다면 금리 부담이 있긴 해도 시장 수요는 충분하다는 신호를 줄 것\"이라며 \"반대로 흥행에 실패하면 청약시장이 극도로 위축될 수 있다. 수요자들이 앞으로 나올 청약에 굉장히 보수적으로 움직일 확률이 높다\"고 밝혔다. 이어 \"이도저도 아닌 결과가 나온다면 \\'옥석 가리기\\' 현상이 심화될 것\"이라며 \"입지가 애매하거나 단지 규모가 작거나 가격이 싸지 않으면 미분양이 많이 날 수 있다\"고 덧붙였다. 당장 서울 성북구 장위뉴타운 중에서도 알짜 입지로 꼽히는 장위자이 레디언트가 직격탄을 맞을 수 있다. 장위자이 레디언트는 이날 특별공급을 시작으로 7일부터 일반분양을 진행한다. 전체 2840가구 가운데 1330가구가 일반분양된다. 올림픽파크 포레온과 같은 강동구에 위치한 \\'강동 헤리티지 자이\\'도 곧 분양에 나선다. 신동아 1·2차 아파트를 재건축한 이곳은 전체 1299가구 가운데 219가구에 대한 일반분양을 실시한다.\\n\\n\\n\\n서울에 비해 상대적으로 주거 선호도가 낮은 경기·인천 지역에서도 대단지 아파트가 줄줄이 분양될 예정이다. 권대중 명지대 부동산학과 교수는 \"올림픽파크 포레온 미분양 물량이 나오면 경기 하강에 따른 미분양이라 여겨질 것\"이라며 \"그렇다면 수도권에서 30% 이상은 미분양이 날 수도 있다\"고 말했다. 경기도 광명시에선 철산주공8·9단지를 재건축한 \\'철산자이 더 헤리티지\\'가 곧 일반분양에 나선다. 이곳은 지하 3층~지상 40층, 전용면적 59~114㎡, 3804가구 규모로 설계됐다. 일반분양 물량은 1631가구다. 분양가는 3.3㎡당 2896만원으로 확정돼 전용면적 84㎡ 분양가는 9억원이 넘을 것으로 보인다.또 다른 대단지로는 경기도 안양시에서 나올 \\'평촌 센텀퍼스트\\'가 있다. DL이앤씨와 코오롱글로벌이 공급하는 이곳은 전체 2886가구 가운데 1228가구가 일반분양 물량이다. 경기도 평택시 화양지구에선 현대엔지니어링이 \\'힐스테이트 평택 화양\\'을 선보인다. 전용면적 72~84㎡, 총 1571가구 규모다.이외에도 경기도 수원시에선 \\'지동 중흥S-클래스(1154가구)\\'가, 파주시에선 \\'호반써밋 이스트파크(1110가구)\\'가 각각 공급된다. 인천시에선 주안10구역 재개발로 \\'더샵 아르테\\'가 전체 1146가구 규모로 지어진다. 이 중 전용면적 39~84㎡ 770가구가 일반분양된다.한 분양업계 관계자는 \"일반적으로 대단지는 공용 관리비가 저렴하고 가격 방어율도 높아 인기가 많다\"면서도 \"올림픽파크 포레온이 워낙 상징성이 있다 보니 뒤따라 이어오는 대단지 청약시장에 심리적으로 영향을 미칠 것\"이라고 설명했다.\\n]', '[\\n둔촌주공, 1순위 당해지역 미달 없지만 5배수 정원 모집은 실패장위자이 특공, 5.2대 1 경쟁률 기록…다자녀 전형 미달\"시장 침체기, 선별청약 분위기 고려 부진한 성적 아냐\"\\n\\n\\n\\n국내 최대 규모 재건축 단지로 주목받은 올림픽파크포레온(둔촌주공) 1순위 청약에서 한 자릿수 경쟁률을 기록했다.ⓒ데일리안 배수람 기자[데일리안 = 배수람 기자] 국내 최대 규모 재건축 단지로 주목받은 올림픽파크포레온(둔촌주공) 1순위 청약에서 한 자릿수 경쟁률을 기록했다.같은 날 특별공급을 진행한 장위자이레디언트(장위4구역)은 일부 전형에서 미달이 발생했다. 서울에서 모처럼 공급되는 신축 단지들이 시장 기대에 미치지 못하는 청약경쟁률을 기록했으나, 전문가들은 현재 시장 상황을 고려하면 결코 부진한 성적이 아니라고 입을 모은다.7일 한국부동산원 청약홈에 따르면 전날(6일) 진행한 서울 강동구 일원 올림픽파크포레온 1순위(서울지역) 청약경쟁률은 3.69대 1이다. 특별공급 물량을 제외한 3659가구에 총 1만3647명이 접수했다.두 자릿수 경쟁률을 기록한 주택형은 전용 29㎡A가 유일했다. 총 3가구 모집에 64명이 접수했다. 소형평수인 39㎡A와 49㎡A는 각각 1.04대 1, 1.6대 1의 상대적으로 저조한 경쟁률을 나타냈다.1순위 당해지역 청약에서 미달이 나온 주택형은 없었으나 총 16개 타입 중 11개 타입은 예비 정원(모집 가구수의 5배수)을 채우지 못했다. 이곳 단지는 이날 1순위 기타지역 청약을 받고 있다. 8일 2순위 청약을 진행한 후 15일께 당첨자 발표가 이뤄질 예정이다.윤지해 부동산R114 수석연구원은 \"5배수 조건 때문에 청약을 더 받는 거지, 엄밀하게는 1순위 당해 지역에서 청약은 끝난 것\"이라며 \"오늘 진행되는 기타지역 청약에 서울 2년 미만 거주자, 경기, 인천 등 수도권에서 자금력 있는 무주택자들이 들어오면 1순위 누적 경쟁률은 10대 1까지 나올 수 있다고 본다\"고 설명했다.김효선 NH농협은행 부동산수석전문위원은 \"둔촌주공은 금리 인상으로 중도금 대출이 돼도 부담스럽고, 아예 안 되는 평형도 있는데 전부터 입지나 브랜드 등이 탄탄해 계속 관심을 두는 수요자들이 많았던 단지\"라며 \"4000가구 이상 되는 물량이 미달 없이 청약됐다는 건 선방한 것\"이라고 평가했다.\\n\\n\\n\\n같은 시기 공급되는 장위자이레디언트는 앞서 6일 특별공급 청약 접수를 진행했다.ⓒ데일리안 황보준엽 기자이어 \"이미 현금 여력을 따져보고 들어갔다고 판단되는데 막상 당첨되면 고민이 있을 순 있어서 아예 미계약이 없을 순 없겠지만 큰 변수 없이 사업이 진행될 것\"이라며 \"2순위나 무순위까지 가는 경우가 생기더라도 사업에 지장을 줄 정도는 아닐 것\"이라고 덧붙였다.같은 시기 공급되는 장위자이레디언트는 앞서 6일 특별공급 청약 접수를 진행했다. 그 결과 374가구 모집에 1962명이 신청해 평균 5.2대 1의 경쟁률을 기록했다.유형별로 보면 생애최초는 71가구에 1233명 몰리며 17.4대 1, 신혼부부는 145가구 모집에 650명이 접수해 4.5대 1의 경쟁률을 기록했다. 노부모 전형은 16가구 모집에 22명이 신청해 1.4대 1을 냈다. 미달은 71가구 모집에 18명이 지원한 다자녀가구 전형에서 나왔다. 이곳 단지는 이날 1순위 당해지역, 8일 기타지역, 9일 2순위 청약 접수를 받는다.장위자이레디언트 역시 무난하게 청약 마감할 거라는 게 업계의 중론이다. 이곳 단지는 모든 평형이 분양가 12억원을 넘지 않아 중도금 대출이 가능하다. 또 중도금 전액 이자 후불제 혜택이 제공돼 입주시까지 계약금 10%만 있으면 돼 자금 부담이 상대적으로 덜하다.윤 연구원은 \"서울에서 분양가상한제를 적용받는 단지 가운데 청약에 실패한 경우는 없다, 지난해와 시장 분위기가 다른 건 묻지마 청약에서 올해는 선별 청약으로 바뀌었다는 것\"이라며 \"금리라는 변수가 과도하게 작용했지만 서울은 여전히 양적으로 공급이 부족하다\"고 진단했다.또 다른 부동산 전문가는 \"둔촌주공과 같은 시기 분양하지만 단순 비교할 단지로 보긴 어렵다. 핵심지에서 나오는 단지들은 여전히 청약결과가 긍정적이라고 보면 된다\"며 \"다만 서울에서 내 집 마련을 하려는 수요자들 가운데 자금 상황이 된다면 둔촌주공을 택했을 가능성이 커서 장위자이는 상대적으로 경쟁률이 낮을 것\"이라고 말했다.\\n\\t\\t]', '[\\n[앵커]\\'10만 청약설\\'까지 돌았던 둔촌주공아파트, 막상 뚜껑을 열어보니 청약 경쟁률이 높지 않았습니다. 값이 싸지 않다는 평가 속에 앞집 주방이 들여다보이는 \\'부엌뷰\\' 논란에다가 최근 침체된 시장도 영향을 준 것으로 보입니다.장서윤 기자입니다.[기자]역대 가장 큰 재건축단지인 둔촌주공 견본주택엔 \\'10만명 청약 기대\\' 같은 제목의 기사들이 걸려 있습니다.다자녀가구를 비롯한 특별분양에서 미달 사태가 잇따랐고, 어제 발표된 1순위 일반분양도 기대를 빗나갔습니다.1만3600여명이 신청해 3.7대 1의 경쟁률을 기록한 겁니다.부동산 시장은 침체됐는데 분양가는 상대적으로 높았던 탓이 크다는 지적이 나옵니다.[인근 중개업소 관계자 : 방 겸 거실 해서 5억이 넘어가는 것은 가격이 만만치 않잖아요. 거기다가 현금 다 내야 하고, 또 8년 못 팔고.]여기에 가장 인기가 많은 전용면적 84제곱미터부턴 중도금 대출을 받을 수 없는 영향도 있습니다.분양가가 중도금 대출 상한선인 12억원을 넘기 때문입니다.이 때문에 현금을 마련하기 어려운 서민들은 청약을 포기할 수밖에 없습니다.몇몇 동의 경우 앞동과 뒷동이 너무 가까워 서로 부엌이 보인다는 논란도 흥행에 찬물을 끼얹었습니다.주방 창문을 열면 앞집 주방 창문이 보여 논란이 된 이른바 \\'부엌뷰\\' 견본입니다.같은 평수 중 상대적으로 낮은 2.7대 1의 경쟁률을 기록했습니다.둔촌주공 같은 새 아파트는 모집 가구수의 5배를 예비 입주자로 받아야 청약이 마감됩니다.재건축조합측은 \"실수요자가 많아 미분양은 없을 것\"이란 입장입니다.\\n\\t\\t]', '[\\n올림픽파크 포레온, 청약 흥행 실패 \"고분양가 탓\"\"청약 시장 더 위축될 것…내년 분양 시장 빨간불\"서울 분양 시장 \\'가늠자\\'로 꼽히던 올림픽파크 포레온(둔촌주공 아파트)의 청약 결과가 기대 이하로 집계됐다. 금리인상과 더불어 \\'부엌뷰\\' 논란, 중도금 대출 불가 그리고 \\'고분양가\\' 등이 원인으로 꼽힌다.\\xa0전문가들은 올림픽파크 포레온 미분양 가능성과 함께 앞으로 청약 시장이 더욱 어려워질 것이라고 전망했다. 이번 청약 결과로 수요자들의 기대 심리가 더욱 위축되면서 \\'청약 양극화\\'도 심화할 것이라는 설명이다.\\xa0\\n\\n\\n\\n올림픽파크 포레온 견본주택./사진=이명근 기자 qwe123@7일 한국부동산원 청약홈에 따르면 전날(6일) 진행한 서울 강동구 올림픽파크 포레온 1순위(서울 지역) 일반분양 3695가구에 총 1만3647명이 지원하면서 3.69대 1의 청약 경쟁률을 기록했다.\\xa0▷관련기사: 둔촌주공 1순위 결국 서울서 마감 못했다…1.3만명 그쳐(12월7일)올림픽파크 포레온 청약에서 미달이 난 평형은 없었지만 5개 타입을 제외한 총 11개 타입에서 1순위 서울지역 마감에 실패했다.올림픽파크 포레온은 \\'강남 4구\\'로 꼽히는 강동구에 위치하면서도 분양가가 주변 시세보다 저렴해 청약 수요가 충분하다는 예측이 많았다. 일각에서는 최대 10만명까지 청약 통장을 사용할 것이라고 예측하면서 \\'10만 청약설\\'이 돌기도 했지만 기대에 한참 미치지 못했다.\\xa0올해 서울 지역 평균 청약 경쟁률에도 한참 못 미친다. 부동산R114에 따르면 11월 기준으로 올해 서울 청약 평균 경쟁률은 26.4대 1이다. 지난달 분양한 서울 중랑구 리버센 SK VIEW 롯데캐슬 1순위 청약 평균 경쟁률은 8.31대 1이었다.\\xa0박지만 월용청약연구소 대표는 \"최소 6만명에서 최대 10만명까지 청약할 것으로 예상했는데 예상치의 7분의 1 수준으로\\xa0낮게 나왔다\"면서 \"올림픽파크 포레온 입지 등 조건이 좋음에도 이러한 청약 결과가 나온 것은 청약 수요가 얼마나 위축됐는지를 보여준다\"고 말했다. \\xa0올림픽파크 포레온 청약 경쟁률이 예상치보다 낮은 이유로는 \\'고분양가\\'가 꼽힌다. 인근 시세보다 저렴한 분양가지만, 주택 시장이 빠른 속도로 침체하면서 수요자들이 자금 마련에 부담을 느꼈다는 설명이다. \\xa0▷관련기사: [둔촌주공 체크리스트]분양가에 4억 보태면 강동 대신 \\'강남\\'(11월16일)박원갑 KB국민은행 부동산수석전문위원은 \"둔촌주공 청약 흥행 실패에는 부엌뷰 논란과 더불어 고금리, 2년 실거주, 전매제한 8년 등 다양한 이유가 있다\"면서도 \"결정적으로는 수요자들이 분양가가 생각보다 높다고 인식했기 때문\"이라고 지적했다.\\n\\n\\n\\n올림픽파크 포레온이 1순위 서울 지역에서 청약 마감에 실패하자 미계약, 미분양\\xa0가능성도 제기됐다.\\xa0송승현 도시와경제 대표는 \"두 자릿수 경쟁률을 채우지 못할 경우 미계약에 이어 미분양까지도 이어질 수 있다\"며 \"전용 84㎡는 분양가 12억원이 초과하면서 중도금 대출도 불가능해 계약을 포기하는 사람이 늘어날 수 있다\"고 내다봤다.\\xa0서울 분양 시장 가늠자로 불리던 올림픽파크 포레온 청약 경쟁률이 기대보다 낮게 나오면서 향후 청약 시장에도 \\'적신호\\'가 켜졌다. 내년 분양 예정 단지들을 기다리며 올림픽파크 포레온 경쟁률을 지켜보던 수요자들이 청약 심리가 더욱 위축될 수 있다는 설명에서다.\\xa0내년 초에는 동대문구 \\'휘경자이 디센시아\\'(휘경3구역)과 신반포 \\'래미안 원펜타스\\'(신반포15차), \\'신반포 메이플자이\\' 등 분양이 예정됐다.\\xa0박지만 대표는 \"시세보다 저렴한 분양가에도 청약 수요가 낮게 나왔다는 것은 그만큼 수요가 크게 위축됐기 때문\"이라며 \"분양가가 지금과 비슷하거나 더 높아지면 내년 청약 시장은 더 위축될 것\"이라고 내다봤다.\\xa0더불어 내년 분양 시장이 위축되면서 분양 일정이 미뤄지는 한편, 청약 수요자들의 \\'옥석가리기\\'는 더욱 심화할 전망이다.\\xa0여경희 부동산R114 수석연구원은 \"자금 조달 여건이 어려운 단지들에서는 청약 일정을 더 미룰 가능성이 있다\"면서 \"수요자들의 눈높이가 높아지고 가격 민감도도 커지면서 청약 양극화는 더욱 심해질 것\"이라고 말했다.\\xa0\\n]', '[\\n고금리 부담에 주방뷰 논란까지 경쟁률 3.7대1 저조… 미달 없어\\n\\n\\n\\n둔촌주공 견본주택 외관서울 강동구 둔촌동 올림픽파크 포레온(둔촌주공아파트 재건축사업)의 1순위 해당지역 청약에서 미달과 같은 최악의 시나리오는 피했지만, 경쟁률 3.69대1이라는 저조한 성적표를 받았다. 고금리에 대출이자 부담이 커진 데다, 집값 하락세로 가격 경쟁력이 떨어진 점이 영향을 미친 것으로 보인다.6일 한국부동산원 청약홈에 따르면 이날 올림픽파크 포레온의 1순위 해당지역 청약을 진행한 결과 3695가구 모집에 1만 3647가구가 접수, 평균 경쟁률 3.69대1을 기록했다.29·39·49·59·84㎡ 등 5개 면적의 16개 타입 모두 모집 가구 수 이상이 지원해 미달 타입은 없었다. 다만 16개 타입 중 11개는 5배수까지 뽑아야 하는 예비 정원을 채우지 못해 1순위 기타지역 모집까지 넘어갔다. 이 단지는 모집 가구 수의 5배수까지 예비 입주자를 선정해 당첨자를 포함하면 경쟁률 6대1 이상을 기록해야 청약이 마감된다.최고 경쟁률은 전용 29㎡ A타입에서 나왔다. 5가구 모집에 64명이 청약해 12.80대1의 경쟁률을 보였다. 84㎡ A타입 9.42대1, 59㎡ D타입 8.81대1 순으로 인기가 높았다. 이웃집과 1.8~2.8m밖에 떨어져 있지 않아 ‘주방 뷰’ 논란이 있던 84㎡ E타입은 563가구 모집에 1512가구가 지원해 2.69대1의 경쟁률을 보였다. 경쟁률이 가장 낮은 타입은 전용 39㎡ A타입으로 1.04대1이었다. 일각에서는 계약 포기가 속출할 것이라는 우려가 제기되고 있지만, 전문가들은 미분양 가능성은 작다고 보고 있다. 임병철 부동산R114 리서치팀장은 “1순위 해당지역에서 미달이 없었다는 게 현 부동산 시장으로선 다행”이라며 “이런 입지와 조건의 아파트마저 1순위에서 미달이 나면 다른 민간 건설사도 공급을 주저하게 되고 예비 청약자들도 청약통장 쓰는 것을 미루게 되면서 시장이 위축될 수밖에 없기 때문”이라고 말했다.\\n]', \"[\\n8일 2순위 청약 진행\\n\\n\\n\\n서울 강동구 둔촌동에 마련된 둔촌주공아파트(올림픽파크포레온) 견본주택에서 설명을 듣는 방문객들. 연합뉴스[서울경제] 국내 최대 재건축 단지인 서울 강동구 올림픽파크포레온(둔촌주공아파트)이 1순위 청약 마감에 실패했다. 청약 열기가 식어가는 가운데 '서울 청약 불패’ 신화까지 깨지는 모양새다.7일 한국부동산원 청약홈에 따르면 서울 강동구 둔촌동 ‘올림픽파크포레온’은 1순위(당해지역·기타지역) 청약에는 3695가구 모집에 1만 7378명이 지원했다. 평균 경쟁률은 4.70대 1이다.단지는 총 16개 타입에 대한 1순위 신청을 받았는데 이 중 8개 타입이 마감에 실패했다. 미달된 타입은 없었으나 39㎡A·49㎡A·59㎡B·59㎡C·84㎡C·84㎡D·84㎡E·84H㎡에서 예비 당첨자 5배수를 채우지 못했다. 마감되지 못한 타입은 2순위 청약으로 넘어간다.1순위 해당 지역 평균 경쟁률은 그동안 서울 아파트 청약 경쟁률이 수십 대 1, 많게는 수백 대 1을 기록한 것에 비하면 초라한 성적표다. 부동산R114에 따르면 서울 아파트 평균 청약 경쟁률은 2020년 87.97 대 1, 지난해 164.13 대 1을 기록했으며 올해도 21.98 대 1을 기록했다. 올림픽파크포레온 역시 ‘10만 청약설’이 제기되며 20 대 1은 훌쩍 넘길 것이라는 관측도 제기됐으나 이에 훨씬 미치지 못했다.한편 단지는 8일 2순위 청약을 진행한다. 당첨자발표는 12월 15일, 정당계약은 다음 달인 2023년 1월 3일부터 17일까지다.\\n]\", '[\\n\\t\\t\\t【 앵커멘트 】  우리 경제도 걱정입니다.  당장 부동산 시장, 매매에 이어 분양 시장에도 빨간 불이 커졌거든요.  몇달 전까지만 해도 무조건 분양받겠다는 사람이 10만 명을 넘었다던 서울 강동구 둔촌주공 아파트마저 흥행에 실패하면서 미계약 우려가 나오고 있습니다.  보도에 장명훈 기자입니다.【 기자 】  서울 강동구 둔촌주공 아파트의 모델하우스.  1만 2천 가구 대단지, 더블 역세권이라는 장점에 청약자들의 높은 관심을 받았습니다.▶ 인터뷰 : 1순위 청약신청자- \"청약은 했어요. 여기가 34평이 23억씩 했으니까 직전에. 13억 원대면 괜찮다….\"  하지만 뚜껑을 열어보니 청약 성적은 신통치 않습니다.▶ 스탠딩 : 장명훈 / 기자- \"10만 명이 몰릴 것이라는 예상과 달리 특별공급과 일반청약 1순위에 2만 명도 채 지원하지 않아 저조한 경쟁률을 기록했습니다.\"  전용 39㎡는 541가구에 560명만 신청해 간신히 미달을 면하기도 했습니다.집값 하락세가 가팔라지는 상황에서 인근 시세와 비슷한 평당 3천8백만 원의 분양가가 청약 심리를 얼어붙게 한 겁니다.▶ 인터뷰(☎) : 부동산 중개업소- \"아무래도 84㎡는 대출이 안 되니까…. 전매(제한)에다가 2년 의무 거주하도록 하는 게 그 부분이 사실 까다로운 거죠.\"  시장에선 최종 청약 경쟁률이 5대 1을 넘지 못할 경우 미계약 사태를 우려합니다.▶ 인터뷰 : 박합수 / 건국대 부동산대학원 겸임교수- \"둔촌주공의 미계약분이 늘어나게 되면 일부 분양시장에서 시기를 미룰 가능성이 있고…. 분양 시장도 우량지역과 그렇지 않은 지역으로 양극화될 것으로…\"  한편, 분양가가 12억 원이 안 돼 중도금 대출을 받을 수 있었던 서울 강북의 대단지 아파트는 특별공급 경쟁률이 5대 1을 넘어서며 대조되는 모습을 보였습니다.  MBN뉴스 장명훈입니다.   영상취재 : 조영민 기자  영상편집 : 김민지  그래픽 : 정민정\\n]', '[\\n이현철 소장 매부리TV 인터뷰입주시점 주변 시세 더 떨어져도고정된 분양가는 내려갈수 없어대단지 입주효과로 역전세난에 마이너스P까지 겹치게 되면주변 부동산 추가 하락 이끄는중대한 변수될 가능성 높아[홍장원의 인터뷰] 이현철 아파트사이클연구소장이 둔촌주공 입주시점에 마이너스 프리미엄 가능성이 있다고 내다봤습니다.\\n\\n\\n\\n 이현철 소장 매부리TV 인터뷰이 소장은 최근 매일경제 재테크 유튜브채널 매부리TV와의 인터뷰를 통해 “둔촌주공 입주시점에 주변시세를 눈여겨 봐야 한다”며 “시세는 유동적이지만 분양가는 고정되어 있다”라고 설명했습니다.\\n\\n\\n\\n 이현철 소장 매부리TV 인터뷰이 소장의 설명은 다음과 같습니다. 지금 둔촌주공을 분양받은 사람들은 2년 뒤 주변시세가 적어도 지금과 비슷하거나 떨어지더라도 소폭 떨어지는데 베팅한 사람들이라는 얘기입니다.현재 시세 기준으로 본다면 둔촌주공을 분양 받은 사람들은 적어도 손해보지 않는 게임을 한다고 볼 수 있습니다.\\n\\n\\n\\n 이현철 소장 매부리TV 인터뷰하지만 비교대상이 되는 주변 아파트 가격이 뚝뚝 떨어진다면 상황은 달라집니다.주변 아파트 시세가 떨어진다고 해서 분양가가 그에 맞춰 탄력적으로 떨어지지는 않습니다. 현 시점에서는 돈이 남을 것으로 기대되는 청약이 입주시점에서는 그렇지 않는 상황이 될 여지가 있다는 것입니다.이 소장은 입주시점에 주변 시세가 분양가보다 떨어지면 ‘그야말로 난리가 난다’고 설명합니다.그는 “대규모 입주로 주변전셋값이 뚝뚝 떨어지면서 매매가가 동반 하락하는 현상이 나타날 공산이 크다”며 “2008년 잠실에서 대단지 아파트가 입주할 때도 비슷한 상황이 펼쳐졌다”고 설명했습니다.\\n\\n\\n\\n 이현철 소장 매부리TV 인터뷰그는 또 “기존에 주택을 보유한 사람은 기존 집을 팔고 잔금을 치뤄야 하는데 이것도 녹록지 않을 수 있다”며 “둔촌주공이 트리거가 되어 입주 시점에서 주변 부동산 시세를 한층 밑으로 끌어내릴 수 있다”고 전망했습니다.\\n\\n\\n\\n 이현철 소장 매부리TV 인터뷰이 소장은 일각에서 평면 구조 얘기가 나오는 것도 달라진 시장 때문이라고 지적합니다.그는 “부동산 시세가 상승할 때는 평면에 대한 지적은 전혀 찾아볼 수 없었다”면서 “상황이 반대가 되자 과거에 가격에만 집중하던 사람들이 불안을 느끼면서 트집거리를 잡게 된다”고 심리변화를 설명했습니다.\\n\\n\\n\\n 이현철 소장 매부리TV 인터뷰\\n\\n\\n\\n 이현철 소장 매부리TV 인터뷰매부리TV ‘홍장원의 인터뷰’코너에서는 매주 3~4회 부동산·주식 투자자들이 꼭 만나고 싶은 업계 구루를 초청해 심층 인터뷰를 진행합니다. 자녀 입시에 관심이 많으신 학부모님들이 공감할 교육 관련 콘텐츠도 올라갑니다. 아래 기자페이지 구독 버튼을 누르시면 다음 연재 기사를 놓치지 않고 찾아보실 수 있습니다.\\n]', \"[\\n기사내용 요약5일 올림픽파크 포레온 특공…3580명 신청다자녀 49㎡ 62가구 모집 중 45명만 청약신혼부부·노부모·기관추천 39㎡ 모두 미달6일부터 3695가구 일반공급…100% 가점제'분양가 13억원대' 84㎡는 중도금대출 불가\\n\\n\\n\\n[서울=뉴시스] [서울=뉴시스] 고가혜 기자 = '단군 이래 최대' 재건축사업으로 불리는 둔촌주공 아파트를 재건축한 '올림픽파크 포레온'이 특별공급에서부터 모집수를 채우지 못하면서 한 자릿수 평균 경쟁률을 기록했다.5일 한국부동산원 청약홈에 따르면 이날 진행된 서울 강동구 둔촌주공 아파트(올림픽파크 포레온)의 특별공급 결과 총 1091가구 모집에 3580명이 신청해 평균 3.3대 1의 경쟁률을 기록했다.해당 단지는 조합원 물량을 제외한 일반분양 물량 총 4786가구 중 특별공급으로 1091가구를 공급했다. 특별공급으로 나온 평형은 ▲29㎡ 5가구 ▲39㎡ 609가구 ▲49㎡ 477가구로 모두 소형 평형이었다. 접수 유형별로는 신혼부부(507가구)가 가장 많고, 생애최초(254가구), 기관추천(206가구), 노부모 부양(62가구), 다자녀 가구(62)가구 순이었다.이날 청약 결과 생애최초 전형으로 공급된 29㎡는 1가구 모집에 80명이 신청했고, 39㎡ 는 159가구 모집에는 629명이 청약했다. 49㎡은 94가구 모집에 1870명이 몰려 19.9대 1의 경쟁률을 기록했다.신혼 부부 전형으로 나온 29㎡ 3가구에는 13명이 신청했고, 49㎡는 203가구 모집에 653명이 청약했다. 49㎡ 노부모 부양 전형에도 28가구 모집에 41명이 신청, 같은 면적 기관 추천 전형 90가구에도 125명이 청약했다.그러나 일부 전형에서는 특별공급에서도 미달이 나왔다. 다자녀 가구 대상으로 나온 49㎡는 62가구를 모집했으나 45명이 신청하는 데 그쳤다. 39㎡ 신혼부부 전형 역시 301가구 모집 중 90명, 39㎡ 노부모 부양 전형에는 34가구 중 5명, 같은 면적 기관추천 전형은 115가구 중 28명이 신청해 모두 공급 가구 수에 못 미쳤다.업계에서는 해당 단지의 흥행 여부가 앞으로의 청약시장을 예측할 '바로미터'가 될 것으로 보고 있는 가운데, 특별공급 청약 경쟁률 일부가 1대 1보다 낮아진 것은 3.3㎡당 평균 3829만원으로 책정된 분양가가 다소 높다는 인식이 반영된 것으로 풀이된다.\\n\\n\\n\\n[서울=뉴시스] 최동준 기자 = 1일 서울 강동구 올림픽파크 포레온(둔촌주공 재건축 단지) 견본주택을 찾은 시민들이 모형도를 살펴보고 있다. 2022.12.01. photocdj@newsis.com둔촌주공은 '강남4구'로 불리는 강동구 둔촌동에 공급되는 최고 35층 높이 총 1만2032가구 규모의 대단지 아파트로, 도보 10분 거리에 지하철 5호선 둔촌동역과 9호선 둔촌오륜역 두 역을 모두 이용할 수 있는 더블역세권 입지를 갖추고 있다. 수영장, 스카이라운지 등 대단지만 갖출 수 있는 다양한 커뮤니티 시설도 장점이다.오는 6일부터 본격적으로 시작되는 1순위 일반분양에서는 전용면적 29~84㎡ 16개 평형 총 3695가구가 공급된다. 둔촌주공은 일반분양에 전용 85㎡초과 물량이 없어 100% 가점제로 진행될 예정이다.분양가는 ▲29㎡ 4억9300만~5억2340만원 ▲39㎡ 6억7360만~7억1520만원 ▲49㎡ 8억2970만~8억8100만원 ▲59㎡ 9억7940만~10억6250만원 ▲84㎡ 12억3600만~13억2040만원 등이다.특히 이 단지는 정부가 중도금 대출보증 하한선을 9억원에서 12억원으로 상향한 이후 처음으로 공급되는 서울지역 대단지 분양이다. 때문에 둔촌주공는 분양가가 10억5000만원 수준인 전용 59㎡까지는 중도금 대출보증이 가능하지만 전용 84㎡ 분양가는 13억원 수준으로 중도금 대출 보증이 불가능해 경쟁률 차이가 클 것으로 예상된다.또 전용면적 84㎡ E형과 59㎡ C형은 주방 창문을 통해 맞은편 집 내부가 보일 정도로 간격이 좁게 설계되면서 '부엌뷰' 논란도 일으킨 바 있어 경쟁률에 편차가 발생할 수 있다는 분석도 나온다.다만 전국의 집값 하락세가 점점 가팔라지면서 최근 고점보다 7억~8억원씩 하락한 잠실 엘스·리센츠·트리지움이나 16억5000만원 선에 매물이 나와 있는 가락동 헬리오시티 등 인근 아파트와의 시세 차이를 비교하는 예비청약자들의 셈법도 복잡해지고 있다.올림픽파크 포레온의 청약은 이날 특별공급을 시작으로 6일 1순위 해당지역, 7일 1순위 기타지역, 8일 2순위 접수로 진행된다. 당첨자는 다음달 15일에 발표되며, 정당 계약은 2023년 1월3일부터 17일까지 15일간 진행된다. 입주는 2025년 1월 예정이다. 시공사는 현대건설·HDC현대산업개발·대우건설·롯데건설이다．\\n]\", \"[\\n\\t\\t\\t[앵커]\\xa0부동산 소식 연달아 전해드리겠습니다.\\xa0둔촌주공 아파트, 특별공급에 이어 일반 1순위 청약 결과도 나왔습니다.\\xa0그런데 평균 경쟁률이 3.7대 1에 불과했습니다.\\xa010만 청약설까지 나왔었는데, 기대에 못 미치는 결과라는 분석입니다.\\xa0최지수 기자, 일단 몇 년 전 청약과 비교하면 낮은 수치긴 하네요?\\xa0[기자]\\xa0네 그렇습니다.\\xa0서울에서 2년 이상 거주한 사람들을 대상으로 진행된 1순위 청약에서 3695가구 모집에 1만 3647명이 지원했습니다.\\xa0평균 경쟁률이 약 3.7 대 1입니다.\\xa010만 청약설까지 제기됐는데 실제로는 1만 명이 조금 넘는 인원이 몰린 셈인데요.또 특별공급 경쟁률이 3.3대 1이었는데, 이와 별반 다르지 않은 한 자릿수 초반대 경쟁률이 나온 겁니다.\\xa0두 자릿수 청약 경쟁률은 보인 주택형은 29㎡A 타입 하나였는데, 12.8대 1을 기록했습니다.\\xa0가장 인기가 높았던 84㎡A는 209가구 모집에 1천970여 명이 접수해 두 번째로 높은 경쟁률인 9.4대 1을 기록했습니다.\\xa0일명 '주방 뷰 논란'이 불거진 84㎡E 타입은 경쟁률이 2.7대 1로 저조했고요.중도금 대출이 가능한 59제곱미터는 1천488가구 모집에 7362명 신청해 평균 경쟁률 4.9대 1을 기록했습니다.\\xa0소형 평형인 39㎡A와 49㎡A는 각각 1대 1과 1.6대 1의 경쟁률로 저조한 성적을 거뒀습니다.\\xa0[앵커]\\xa0결과를 두고 시장의 평가가 엇갈린다고요?\\xa0[기자]\\xa0네 그렇습니다.\\xa0이 정도면 선방했다는 의견과 기대에 못 미치는 결과라는 평이 동시에 나옵니다.\\xa0선방했다는 평에 대해선 지금 시장이 하락세이고, 84제곱미터 이상은 중도금 대출이 아예 불가능함에도 불구하고 3.7대 1의 경쟁률을 기록하며 미달 없이 마감된 것에 대해 긍정적으로 보고 있고요.반대로 기대에 못 미친다는 분석으로는, 국내 최대 규모 가구에, 강남 3구에 준하는 입지로 많게는 10만 명까지도 전망했는데 이에 훨씬 못 미치는 결과라는 겁니다.\\xa0둔촌주공에 예상보다 적은 인원이 몰린 것에는 높은 분양가와 금리 인상기로 인한 이자 부담이 주된 이유로 꼽힙니다.\\xa0다만 경쟁률보다 청약이 끝나고 실제 계약률이 어느 정도를 기록할지가 더 관심사라는 분석도 나옵니다.\\xa0SBS Biz 최지수입니다.\\n\\t\\t]\", '[\\n기사내용 요약고금리·고분양가 부담에…미계약 속출 우려주택 구입 욕구 점점 감소하는 모습 나타나 내년 시장에 악영향…가격 민감도 높아질 듯\\n\\n\\n\\n[서울=뉴시스] 정병혁 기자 = 특별공급 결과 일부 유형 미달을 기록한 서울 강동구 \\'올림픽파크 포레온\\'(둔촌주공 재건축)이 일반공급 1순위 해당지역 청약에서 평균 3.7대 1의 저조한 경쟁률을 기록했다. 한국부동산원 청약홈에 따르면 이날 진행된 올림픽파크 포레온 일반공급 1순위 당해지역(서울시 2년 이상 거주자) 청약은 3695가구 모집에 1만3647명이 신청해 평균 경쟁률 3.7대 1을 기록했다. 사진은 7일 오전 서울 강동구 올림픽파크 포레온 건설현장의 모습. 2022.12.07. jhope@newsis.com[서울=뉴시스] 강세훈 기자 = 분양시장 최대어로 주목받아온 서울 강동구 올림픽파크 포레온(둔촌주공) 1순위 청약이 예상보다 저조한 성적표를 냈다. 주택 시장이 침체기인데다 부담스러운 분양가와 이자 부담에 실수요자들의 호응을 얻지 못했다는 평가가 나온다. 분양시장에서 주택 구입 욕구가 크게 감소했음을 방증하는 사례로 꼽히고 있어 향후 분양시장에도 악영향이 불가피할 전망이다. 7일 한국부동산원 청약홈에 따르면 전날 진행된 올림픽파크 포레온 일반공급 1순위 당해지역 청약은 3695가구 모집에 1만3647명이 신청해 평균 경쟁률 3.7대 1을 기록했다. 지난 5일 특별공급 청약에서 평균 3.3대 1의 경쟁률을 기록한 데 이어 이날 일반공급 경쟁률도 저조한 성적을 거뒀다.둔촌주공이 강남4구에서 나오는 1만2032가구 규모 대단지란 점에서 10만 청약설이 나오는 등 다른 분양 단지와 분위기가 다를 것이란 기대감이 컸지만 예상밖에 초라한 성적을 낸 것이다. 대형 건설사의 한 관계자는 \"분양 시장 분위기가 식었다고 해도 둔촌주공 만큼은 최소 10대 1의 경쟁률은 나올 줄 알았는데 예상밖의 결과\"라고 평가했다. 부동산 업계에서는 주택 시장 침체기가 길어질 수 있다는 우려가 커진 데다 3.3㎡당 평균 3829만원으로 책정된 둔촌주공 분양가가 다소 높다는 인식이 확산한 게 부진한 청약경쟁률의 요인으로 꼽고 있다. 둔촌주공 전용면적 84㎡ 분양가는  12억3600만~13억2040만원으로 발코니 확장 비용 등을 더하면 14억원 수준이다. 그런데 최근 송파구 가락동 \\'헬리오시티\\' 전용면적 84㎡는 지난달 11일 16억8000만원(3층)에 거래됐고, 호가는 16억2000만원까지 떨어지면서 강동구와 송파구 입지 차이를 고려해 둔촌주공 경쟁력이 크지 않다는 심리가 팽배해졌다.또한 전용면적 84㎡ 분양가는 12억원을 초과하면서 중도금 대출이 불가능했던 점도 영향을 끼친 것으로 보인다. 대출금리 상승에 따른 이자 부담이 상당하기 때문이다.  여경희 부동산R114 수석연구원은 \"부동산 시장의 전반적인 약세 분위기가 반영된 것\"이라며 \"너무 많은 분양물량이 한꺼번에 나온데다 전용면적 84㎡ 주택형의 경우 중도금 대출이 나오지 않는 부분 때문에 경쟁률이 좀 낮게 나온 것 같다\"고 분석했다.이처럼 둔촌주공 청약 경쟁률이 10대 1에 못미치는 만큼 계약률이 저조할 가능성도 배제할 수 없는 상황이다. 강북구 \\'포레나 미아\\'의 경우 지난 4월 최초 분양 때 10.7대 1의 경쟁률을 기록했지만 대규모 미계약이 발생한 후 여전히 미분양 물량을 털어내지 못하고 있다. 여 수석연구원은 \"이전에도 서울 분양 단지에서 계속 미계약분이 발생했고, 둔촌주공의 경우에도 자금 마련 상황이 좋지 못한 분들은 포기할 수 있기 때문에 일부 면적에서 미달이 발생할 가능성을 배제할 수 없다\"고 설명했다.  이처럼 주택 청약시장의 주택 구매 수요가 약해지는 모습이 드러나고 있어 향후 분양 사업지에도 악영향이 불가피하다는 전망이 나온다. 또한 금융비용 부담으로 분양가에 대한 민감도가 커지면서 가격과 입지를 따진 선별 청약 분위기가 더욱 확고해 질 것이란 분석이다. 김웅식 리얼투데이 리서치연구원은 \"둔촌주공 청약 경쟁률은 전반적으로 가라앉은 부동산 시장 분위기를 여실히 보여준 결과\"라며 \"내년까지는 어려운 분위기가 이어질 수 밖에 없어 보이고, 수요자들은 점점 가격에 대한 민감도가 높아지면서 분양가에 따라 청약 성적이 갈릴 것\"이라고 내다봤다.\\n]', '[\\n논란 부른 ‘주방뷰’도 2.7대1“관건은 실제 계약률 여부”오늘 수도권 1순위 청약앞으로 둔촌주공에 벌어질 일은◆ 매부리레터 ◆\\n\\n\\n\\n 둔촌주공 건설현장 전경단군이래 최대 재건축 단지 둔촌주공(올림픽파크 포레온) 청약이 시작됐다. 6일 진행된 1순위 당해 지역 청약에서 총3695세대 모집에 1만3647개 통장이 들어왔다. 관건은 중도금 대출이 안되는 전용 84㎡였는데 5000여명이 지원했다. 전용 84㎡는 분양가 13억원대로, 옵션과 이자비용 등을 감안하면 14억~15억원이 필요하다. 둔촌주공은 무주택자만 청약이 된다. 이 때문에 ‘서울에 거주하는 현금 10억원 이상 보유한 무주택자’들이 얼마나 둔촌주공에 호응할지에 관심이 모아졌는데, 뚜껑을 열어본 결과 5000여명이 둔촌주공에 통장을 던진 것으로 나타났다.6일 한국부동산원 청약홈에 따르면 이날 진행된 올림픽파크 포레온 1순위 청약에는 3695가구 모집에 1만3647건의 청약통장이 접수됐다. 평균 경쟁률은 3.69대1이다. 가장 높은 경쟁률은 전용면적 59㎡에서 나왔다. 이 타입은 1488가구 모집에 7362건의 청약통장이 접수돼 평균 경쟁률 4.95대1을 기록했다.전용84㎡ 지원자는 누구…현금 10억 이상 보유 서울 무주택자관심은 전용 84㎡였다.전용 84㎡는 1237가구 모집에 5005건의 신청이 몰렸다. 경쟁률은 4.05대1로 전용 59㎡ 뒤를 이었다. 일부 가구에서 ‘주방뷰 논란’이 불거진 84㎡E 타입도 563가구 모집에 1512건의 신청이 몰려 경쟁률 2.69대1이었다.이 평형은 분양가가 13억원이 넘어서 중도금대출이 되지 않는다. 입주때 잔금대출을 최대 (LTV 50%) 받는다고 해도 DSR까지 감안하면 연봉 2억원은 돼야한다. 이 때문에 “연봉 2억원의 현금 10억원 가진 서울 사는 무주택자”가 얼마나 둔촌주공에 몰릴지가 관심이었다. 업계에서는 “중도금대출이 되는 전용 59는 무난히 채우겠지만, 84는 힘들 것”이라는 전망이 나왔지만, 뚜껑을 열어보니 전용 84도 미달은 없었다.앞으로 둔촌주공에 벌어질 일둔촌주공은 미달은 없었지만 11타입이나 예비당첨자(5배수) 인원을 채우지 못해 ‘당해’ 마감에 실패해 ‘기타’ 1순위로 넘어갔다. 서울 웬만한 청약이 ‘당해’에서 마감되던 것에 비하면 화제가 만발했던 둔촌주공 입장에서는 ‘굴욕’인 셈이다.둔촌주공은 7일 경기도, 인천 등 수도권 거주자 1순위 청약을 받는다. 여기서도 인원을 채우지 못하면 2순위 청약으로 넘어간다. 2순위는 1순위(청약통장 가입기간 24개월 이상)와 달리 청약 통장만 있으면 된다. 여기서도 못채우면 무순위 청약으로 넘어간다. 일명 ‘줍줍’이다. 최근 법이 개정돼서 전국에서도 신청할수 있다. 그리고 여기서도 미달이 되면 선착순 분양이다. 견본주택에 선착순으로 달려가 계약하는 방식이다.분양업계는 7일 수도권 거주자까지 청약지원자를 넓히면 무난히 예비당첨자까지는 받지 않겠냐고 전망한다. 경기도에서 서울로 갈아타려는 수요들이 몰릴 수 있다는 것이다.“분당, 판교, 송도, 광교 등 서울로 갈아타길 원하는 수요들까지 감안하면 기타에서는 무난히 채울 것 같아요.”(분양관계자 A씨)“고금리에 실거주 2년, 전매제한 8년, 중도금 대출도 안되는데 이정도 모았으면 선방했죠. 투자 수요 싹빼고, 정말 실거주해야하는 무주택자들만 대상으로 했는데 이정도면 혹시라도 나중에 미달돼서 무순위 가더라도 완판은 될 것이라 봅니다.”(분양관계자 B씨)이곳은 당첨 후 계약을 포기하면 재당첨제한 10년이 적용된다.“서울 청약이 얼마나 귀한데, 재당첨제한 10년 패널티까지 감수하면서 함부로 통장을 던졌을까요? 1순위 기타까지 받고 무난히 계약 마감될 것으로 보여요.”(분양관계자 C씨)관건은 실제 계약률이다. 청약이 인원을 다 채워서 마감됐다고 끝난 게 아니다. 실제 계약으로 이어져야한다. 경쟁률이 세자릿수로 나오면 당첨자들이 안심하고 계약한다. 나의 선택이 시장의 판단과 맞았다는 확신이다. 그러나 막상 경쟁률이 낮게 나오면 불안함이 가중돼 당첨되고도 계약을 포기하는 경우가 많다.둔촌주공 평균 경쟁률은 3.69대1. 그러나 분양업계에서는 “안심할 수 없는 경쟁률”이라는 평이다.실제 통장을 던졌더라도 계약할 때 포기하는 일이 부지기수기 때문이다.“요즘처럼 10대1 경쟁률 나와도 막상 포기하는 사람들이 속출하는데 둔촌주공이라고 뾰족한 수 있겠어요?”(분양업계 D씨) 최근 청약을 받은 인덕원자이SK뷰도 경쟁률이 5대1이 넘었지만 실제 절반 이상이 계약을 포기해 청약자를 찾기 위해 연달아 ‘무순위 청약’을 하는 굴욕을 겪었다.사업비를 단기간에 조달해야하는 둔촌주공 입장에서는 미계약이 길어질수록 사업에 치명타다.분양업계 관계자는 “둔촌주공이 청약자를 못찾아 사업비 조달을 못하면 공사가 늦춰지고, 이로 인해 다른 현장에도 영향을 미치게된다. 분양 시장이 깊은 침체에 들어갈 것”이라고 우려했다.둔촌주공에 대한 자세한 전망은 재테크 이메일 매부리레터에서 확인할수 있다. 네이버에서 매부리레터를 검색하면 된다.\\n\\n\\n\\n 네이버에서 매부리레터를 검색하면 된다.\\n]', '[\\n청약 예상보다 저조완판은 되겠지만…시장 심리에 영향줄듯공기 지연에 조합원 입주권 물량도 출회…가격은 떨어져입주권 5000~8000만원 하락\\n\\n\\n\\n올림픽파크 포레온(둔촌주공) 분양 현장/박자연 기자[헤럴드경제=박자연 기자] 단군 이래 최대 재건축 사업지인 올림픽파크 포레온(둔촌주공) 1순위 청약이 예상보다 저조한 흥행 성적표를 쥐게 되면서 분양 시장에 적잖은 충격을 안기고 있다. 시장의 주택 구매 수요가 당초 추산보다 약하다는 점이 드러난 것이어서 향후 서울 및 수도권의 분양 사업지들에도 악영향이 불가피할 전망이다. 올림픽파크 포레온의 부진한 청약 결과가 공개되자 매물로 나온 입주권 또한 가격이 동반 하락하고 있다.▶둔촌주공 너마저…예상 밑돈 청약 성적표= 7일 한국부동산원 청약홈에 따르면 둔촌주공의 특별공급과 1순위 당해지역 일반분양 평균 경쟁률은 각각 3.28대 1과 3.69대 1로 나타났다. 5일 일부 특공 전형에서는 경쟁률이 1대 1을 밑도는 미달 사태까지 발생했다.일반 분양도 예상보다 저조했다. 3695가구 모집에 1만 3647명이 신청했다. 평형별로 보면 공급가구가 적었던 29㎡에서 12.81대 1로 경쟁률이 가장 높았고 39㎡와 49㎡는 각각 1.04, 1.55대 1로 비교적 경쟁률이 낮았다. 소형평형 중 가장 큰 59㎡는 3.71~6,17대 1로, 분양가가 12억원을 웃돌아 중도금 대출이 나오지 않는 84㎡는 2.47~9.42대 1로 경쟁률이 형성됐다.일명 ‘부엌뷰’ 논란이 있었던 평형인 59㎡C는 597명이 청약을 넣어 4.01대 1의 경쟁률이 나왔다. 84㎡E 또한 2.69대 1 경쟁률을 기록했다.지난 6일 1순위 청약에서는 총 16개 평형 중 5개 평형 청약 접수만 마감됐다. 나머지 11개 평형은 7일 기타지역 1순위 청약이 진행된다. 이날 마저 1순위 청약 마감이 되지 않으면 수도권 전반의 주택 구매 심리가 악화됐다는 평가가 내려질 것으로 보인다.이에 대해 둔촌주공 분양 관계자는 “단지가 커 미계약 물량이 나올 수 있으나 ‘완판’ 우려는 크지 않다”고 내다봤다.건설업계에서는 이날 청약 결과에 상당한 충격을 받은 모습이다. 1만 2000가구 넘는 대단지임에도 서울의 강남권 핵심 사업지라는 점에서 이번 분양이 침체된 분양 시장 분위기를 바꿀 수 있는 상징성 있는 단지로 꼽혔기 때문이다. 한 부동산 업계 관계자는 “근래 청약 성과가 저조해도 둔촌주공을 위해 실수요자들이 기다리고 있다고 해석한 만큼 이번 분양이 의미하는 바가 상당했다”고 말했다.예상보다 부진한 결과가 나오면서 서울 및 수도권에서 분양을 앞둔 건설사들은 분양가와 분양 시점에 적잖은 고민을 안게 됐다는 평가다.\\n\\n\\n\\n올림픽파크 포레온(둔촌주공) 견본주택 방문객들이 줄을 서고 있다/ 박자연 기자▶고공행진하던 입주권 가격도 ‘털썩’=청약 경쟁률이 예상을 하회하면서 둔촌주공 입주권 가격도 하락했다. 20억원대를 호가하던 둔촌주공 입주권은 14억원에 매물이 나왔다. 15억 8000만원에 거래를 희망하던 매물도 지난 5일 8000만원 내린 15억원에 올라왔고, 20억원을 부르던 매물 역시 6일 5000만원 내린 19억 5000만원에 거래를 원하고 있다.원칙적으로 투기과열지구는 조합설립인가 이후 주택을 양수해도 조합원 지위는 양도가 불가하지만, 도시정비법 시행령 37조 3항 3조에 의하면 착공일로부터 3년 이상 준공하지 않은 재개발, 재건축 사업토지 소유는 예외로 인정한다. 둔촌주공의 경우 조합과 시공사의 공사비 갈등으로 공사 지연 기간이 길어지면서 이달 3일부터 입주권 거래가 가능해졌다.조합원이 내놓은 입주권의 경우 실거주 2년 의무와 8년 전매제한이 없다. 또 로얄동과 로얄층을 받을 수 있으며 발코니 확장과 가전, 마감재 등 유상 옵션도 무상으로 제공된다.▶입주권 구매 계산기 두드리면…추가분담금, 취득세 변수= 다만 이런 장점에도 입주권 선택에는 신중해야 한다는 조언이다. 입주권 가격이 84㎡ 기준 일반 분양가와 1억~2억원 차이로 좁혀졌으나 추가적인 비용이 들어가기 때문이다. 둔촌주공은 입주권을 받고도 추가분담금을 내야한다. 조합원에게 해당 비용은 잠정 1억 2000만원으로 통보됐지만 추후 공사 지연 등이 길어지면 상향될 수 있다.취득세율도 관건이다. 입주권은 토지로 분류돼 취득세율 4.6%가 적용된다. 일반분양 주택보다 취득세율이 1%포인트 넘게 높다. 둔촌주공 입주권 매매를 고려하고 있는 30대 직장인 김모씨는 “동 배정에 의지해야 하는 일반분양보다 전매제한도 없고 상대적으로 로얄동을 배정받을 수 있는 입주권을 보고 있다”며 “하지만 지금 나온 매물도 비싸다고 생각해 더 떨어지기를 기다리는 중”이라고 말했다.전문가는 로얄동, 로얄층으로 받는 확실한 프리미엄을 원하면 입주권을 선택할 수 있지만, 일반 물량도 충분히 시세차익을 볼 수있으므로 가격 차가 있다면 일반분양이 유리할 수 있다는 분석이다. 윤지해 부동산114 수석연구원은 “둔촌주공은 분양가상한제 적용 단지라 입주 시기인 2025년 초가 되면 주변 시세보다 충분히 높아질 것으로 본다. 3.3㎡ 5000만원까지 기대 심리가 형성돼있는 만큼 억 단위 프리미엄도 가능할 것으로 보고 있다”고 설명했다.\\n\\n\\n\\n\\n]', '[\\n\\n\\n\\n\\n총가구 수 1만2032가구 규모로 일반분양 물량만 4786가구에 달하는 둔촌주공을 재건축하는 올림픽파크 포레온 분양이 5일부터 시작됐다. 사진은 5일 서울 강동구에 위치한 견본주택의 단지 모형 모습. 2022.12.5/뉴스1 ⓒ News1 박세연 기자 /사진=뉴스1 [파이낸셜뉴스]서울 강동구 \\'둔촌주공(올림픽파크포레온)\\' 일반공급 1순위 전체 평형 평균 경쟁률이 3.69대 1을 기록했다. 3600여가구 모집에 1만3600여개 청약통장이 몰렸다. 전용면적 29㎡~84㎡까지 16개 평형 모두 미달은 없었지만 대부분 한 자릿수 경쟁률을 기록했다. 전문가들과 건설업계는 둔촌주공 최종 청약 결과가 내년 분양 시장 분위기를 좌우할 것으로 내다봤다.   6일 한국부동산원에 따르면 이날 접수 마감된 올림픽파크 포레온 1순위 당해지역(서울시 2년 이상 거주자) 청약에서 3695가구 모집에 1만3647명이 신청해 평균 3.69대 1 경쟁률을 나타냈다. 1순위 청약에는 전용면적 29~84㎡로 16개 평형이 공급됐다. 전용 △29㎡ 5가구 △39㎡ 541가구 △49㎡ 424가구 △59㎡ A~E 1488가구 △84㎡ A~H 1237가구 등이다.   모든 평형에서 모집가구 보다 청약자가 부족한 미달 평형은 없었다. 다만, 공급 물량이 5가구에 불과한 전용 29㎡(12.8대 1)을 제외하면 경쟁률이 한자릿수를 넘은 평형은 없었다. 국민평형으로 수요가 높은 전용 84㎡A가 209가구 모집에 1968명이 몰려 9.42대 2번째 높은 경쟁률을 기록했다. 앞 집과 주방 창문를 마주해 \\'주방뷰\\' 논란이 제기된 전용 84㎡E형은 563가구 모집에 1512명이 신청해 평균 2.69대 1의 경쟁률을 기록했다.   전용 84㎡ 다음으로 큰 평형인 전용 59㎡까지는 청약 수요가 있었지만 소형 평형은 경쟁률이 1대 1 수준에 가까웠다. 전용 59㎡D는 54가구 모집에 476가구가 몰려 8.8대 1을 기록했다. 반면, 전용 49㎡는 424가구 모집에 656가구가 청약해 1.55대 1을 기록했다. 전용 39㎡는 541가구 모집에 560가구가 몰려 1.04대 1로 집계됐다.   분양업계에서는 일반공급 1순위 청약 결과를 두고 의견이 엇갈렸다. 일각에선 전용 59㎡ 이상 평형에 대해 분양시장이 좋지 않은 상황에서 선방한 결과라고 평가했지만 한쪽에선 생각보다 저조한 청약 열기라는 의견도 있다. 소형 평수는 당첨 이후 계약 포기 물량이 나올 수도 있다고 내다봤다. 더욱이 청약이 쏠릴 것이라고 예상했던 전용 59㎡ 마저 한자릿수 경쟁률에 그친 것은 의외라는 분위기다.   전문가들은 청약일정이 최종 마무리된 후 중형평형 청약 결과가 중요하다고 입을 모았다. 앞으로 서울지역 분양시장 분위기를 가늠할 수 있기 때문이다. 또 아직 1순위 기타지역과 2순위 청약이 남아있어 최종 흥행 여부를 살펴야 한다고 설명했다. 1순위까지 마감된 이번 청약 일정은 7일 기타지역(서울시 2년 미만 거주자 및 수도권 거주자), 8일 2순위 신청을 받고 마감된다.   송승현 도시와경제 대표는 \"실제 청약에 당첨됐는데 청약 경쟁률이 낮으면 심리적 압박으로 계약을 안 할 수 있다. 청약경쟁률이 기대심리 및 지역가치평가와 밀접하기 때문\"이라고 말했다. 김효선 NH농협은행 부동산수석전문위원은 \"둔촌주공 정도 입지, 규모, 적정 분양가격을 갖춘 곳은 드물다. 둔촌주공이 미분양 나면 건설업계 및 청약 수요자 모두 위축될 수밖에 없다\"고 말했다.\\n\\t\\t]', '[\\n특공 일부 전형 미달에 1순위 당해지역 청약까지 ‘3.7 대 1’ 예상 못 미쳐6일 둔촌주공 건설사株 일제히 약세…KRX 건설 지수도 하락둔촌發 청약 시장 한파 불가피 전망…장위4구역 재건축도 특공 일부 전형 미달청약 시장 부진, 중소형 증권사 부동산 PF ABCP發 유동성 악화로 이어질까 ‘조마조마’\\n\\n\\n\\n지난 5일 서울 강동구 둔촌동 올림픽파크 포레온(둔촌주공아파트 재건축사업) 견본주택 내부의 모습. [연합][헤럴드경제=신동윤 기자] 건설주 반등의 신호탄이 될 것으로 기대했던 ‘단군 이래 최대 재건축 사업’ 올림픽파크 포레온(둔촌주공아파트 재건축 사업) 청약이 도리어 ‘악재’로 작용하는 모양새다. 연말 청약 시장에서 ‘최대어’로 꼽혔던 올림픽파크 포레온이 특별공급 모집과 1순위 당해지역(서울) 모집에서 기대에 못 미치는 성적표를 거둬들이며, 이어지는 수도권 내 대단위 아파트 청약에서도 ‘찬바람’이 불 수 있단 우려가 불거지고 있기 때문이다.부동산 시장의 기류가 예상보다 더 차가운 것으로 확인되면서, 올림픽파크 포레온으로부터 시작한 청약 시장의 부진이 부동산 프로젝트파이낸싱(PF) 자산유동화기업어음(ABCP)발(發) 유동성 악화란 ‘시한폭탄’에 불을 붙일 가능성도 제기된다. 이럴 경우 자기자본 대비 부동산 PF 비중이 높은 중소형 증권사들이 단기 자금경색에 따른 위기에 빠질 수 있다는 평가도 나온다.7일 한국거래소에 따르면 코스피 시장에 상장된 올림픽파크 포레온 시공사 3개사의 주가는 전날 일제히 큰 폭으로 떨어졌다.5일 특별공급 청약에서 평균 경쟁률이 3.28 대1을 기록하며 예상보다 경쟁률이 낮았고, ▷다자녀 가구 전형(49㎡) ▷신혼부부 전형(39㎡) ▷노부모 부양 전형(39㎡) 등에선 미달이 속출했기 때문이다.전날 마감장 시점을 기준으로 현대건설은 전일 대비 650원(1.64%) 하락한 3만8950원에 거래됐고, HDC현대산업개발과 대우건설은 각각 전일 대비 400원(3.46%), 125원(2.57%) 떨어진 1만1150원, 4745원에 장을 마쳤다.\\n\\n\\n\\nHDC현대산업개발의 경우 청약 개시에 대한 기대감으로 5일엔 주가가 상승했지만 하루 만에 하락세로 돌아섰고, 현대건설과 대우건설은 5일 완화 추세를 보였던 하락세가 6일 들어 급격해졌다. 또 다른 시공사인 롯데건설은 비상장사다.대형 건설사를 중심으로 주가가 하락하면서 KRX 건설 지수도 전날과 비교해 6.99포인트(1.18%) 내려간 585.10을 기록했다. 하루 사이 줄어든 상장 시가총액만 약 4897억원에 이른다.\\n\\n\\n\\n전날 발표한 1순위 당해지역 청약 역시 3695가구 모집에 1만3647명이 신청, 평균 3.7 대 1의 경쟁률을 기록하는데 그쳤다. ‘10만 청약’이란 호언장담은 고사하고, 얼어붙은 부동산 시장을 고려해 제시됐던 ‘3만~4만명 청약설’조차 무색한 수준이었다. 1순위 당해지역 청약에서 예비입주자 인원까지 채워 청약 접수를 종료한 주택형은 29㎡A, 59㎡D·E, 84㎡A·B 등 5개뿐이었다.부동산업계 관계자는 “1순위 당해지역 청약 과정에서 주택형에 미달이 발생하는 최악의 상황은 넘겼다”면서도 “낮은 경쟁률 탓에 당첨자가 정당계약일 안에 계약을 하지 않아 예비당첨자로 넘어가거나, 실제 계약으로 이어지지 않아 결과적으로 미분양이 발생하는 경우도 상당할 수 있다는 점이 우려된다”고 말했다.이 같은 상황은 7일 개장한 증시에도 곧장 반영됐다. 오전 9시 2분 현재 현대건설은 전일 대비 200원 하락한 3만8750원에 거래 중이고, HDC현대산업개발과 대우건설은 각각 전일 대비 100원, 50원 떨어진 1만1050원, 4695원으로 거래되고 있다.문제는 올림픽파크 포레온에서 보인 청약 시장 한파 분위기가 이어지는 수도권 대단지 청약 시장에도 영향을 미칠 수밖에 없다는 점이다.당장 6일 특별공급 청약을 시행한 성북구 ‘장위 자이레디언트(장위4구역 재건축)’의 경우에도 평균 경쟁률이 5대1로 나타났지만, 올림픽파크 포레온과 마찬가지로 모집 전형별로 미달이 다수 발생했다. 단 한 건도 청약 신청이 없는 경우는 다자녀 가구, 신혼부부, 노부모 부양가족, 기관 모집 전형을 모두 합쳐 12건에 이른다.대단위 아파트 청약에서 연타로 ‘미달’ 사태가 나오면서 오는 19~20일 청약을 실시하는 강동 헤리티지자이를 비롯한 인천·경기 지역 청약에도 악영향이 예상된다.장문준 KB증권 애널리스트는 “올림픽파크 포레온 분양 결과는 증권업계에선 향후 청약시장의 성패를 예측할 ‘가늠자’로 여겨졌다”며 “특히 수도권 지역 정비 사업 수주잔고가 높은 대형 건설사들의 특성상 해당 사업에 대한 진행 활성화 여부는 향후 매출과 이윤 창출 부문에 지대한 영향을 미칠 것”이라고 분석했다.한편, 기대를 모았던 올림픽파크 포레온 청약마저 저조한 성적표를 받아들면서 부동산 PF 시장의 위기가 본격화될 수 있다는 위기감이 금융계에서 본격화될 전망이다. 청약 당첨자들의 계약 포기 등으로 미분양 사태가 현실화될 경우 올림픽파크 포레온에 엮인 PF 차환에 어려움을 겪을 가능성이 크고, 다른 부동산 PF로 연쇄적으로 충격이 이어지면 위기로 갈 수 있다는 이유에서다.\\n\\n\\n\\n\\n]', '[\\n특공 374가구 모집 1962명 몰려…전용59㎡·72㎡ 경쟁률 높아 실수요자 청약 통장 던져[이데일리 오희나 기자] 서울 재개발 가운데 최대 규모를 자랑하는 장위뉴타운 ‘장위자이레디언트’ 특별공급 경쟁률이 5.2대 1을 기록했다. 단군 이래 최대 재건축이라 불리는 둔촌주공과 비슷한 시기에 분양했지만 우려와 달리 선방했다는 평가다.\\n\\n\\n\\n장위자이 레디언트 투시도6일 한국부동산원 청약홈에 따르면 서울 성북구 장위뉴타운(장위재정비촉진지구) 장위4구역을 재개발하는 ‘장위자이 레디언트’ 특별공급에서 374가구 모집에 1962명이 신청해 5.2대 1 경쟁률을 기록했다. 최고 경쟁률은 전용면적 59㎡에서 나왔다. 59㎡B 타입은 63가구 모집에 709명이 접수해 11대1 평균 경쟁률을 나타냈다. 뒤를 이어 72㎡는 185명 모집에 647명이 접수해 3.4대1을 기록했다. 단지는 지하 3층 지상 최고 31층 31개 동 총 2840가구의 대단지 아파트다. 장위뉴타운 중에서도 가장 크고 역세권 단지여서 실수요자가 손꼽아 기다렸던 단지다. 특히 모든 평형이 12억원을 넘지 않아 중도금 대출이 가능하고 대형평형이 있어 실수요자가 몰린 것으로 풀이된다. 분양가는 △59㎡ 7억1360만~7억9840만원 △72㎡ 8억1270만~ 8억9910만원 △84㎡ 9억570만~10억2350만원 △97㎡ 11억620만~11억9830만원 수준이다. 중도금 전액 이자 후불제 혜택을 적용해 계약금 10%만 있으면 입주 시까지 자금 부담이 없다. 다만 둔촌주공과 마찬가지로 전매제한 8년, 실거주 의무 2년을 적용받는다. 단지는 이날 특별공급을 시작으로 7일 1순위 당해 지역, 8일 기타지역, 9일 2순위 신청을 받는다. 당첨자 발표는 다음 달 16일이며 계약일은 27~29일이다.박지민 월용청약연구소 대표는 “특별공급 세대수 자체가 상대적으로 둔촌주공보다 적기 때문에 미달이 나오지 않았다”며 “장위뉴타운 중에서도 가장 규모가 크고 역세권이기 때문에 실수요자가 몰렸다”고 말했다. 그는 “주변 단지와 비교하면 분양가가 다소 높다”며 “중도금 대출이 가능하기 때문에 계약금 10% 있으면 추가 자금이 필요 없다는 점에서 수분양자에 이점으로 작용했을 것이다”고 덧붙였다.\\n]', \"[\\n\\n\\n\\n\\n[서울=뉴시스] 강세훈 기자 = 둔촌주공 1순위 경쟁률 3.7대1 '저조'\\n]\", '[\\n\\t\\t\\t&lt;앵커&gt;국내 최대 재건축 단지인 서울 둔촌주공 청약 경쟁률이 예상보다 낮은 것으로 나타났습니다. 10만 명이 몰릴 거라는 이야기도 있었지만, 현실은 달랐습니다. 요즘 은행 이자가 워낙 비싼 데다가 집을 사려는 사람이 줄어든 게 영향을 미친 것으로 보입니다.안상우 기자가 취재했습니다.&lt;기자&gt;둔촌주공 재건축 일반공급 물량 3,695가구에 1순위로 청약을 접수한 건 13,647명, 경쟁률은 3.7대 1 수준입니다.불과 한 달 전 인근 다른 아파트의 청약 경쟁률이 15.7대 1이었던 것과 비교하면 크게 낮습니다.서울 강남권에서 오랜만에 나오는 좋은 입지의 대단지 아파트여서 청약 수요가 몰릴 거라는 예상이 빗나간 겁니다.[둔촌 주공 분양 관계자 : 금리도 높고, 대출도 어려운 위축된 청약 시장 분위기를 감안했을 땐 무난한 결과라고….]8년 전매 제한과 2년 실거주 의무와 더불어 예상보다 높게 책정된 분양가가 직접적인 원인으로 꼽힙니다.[박원갑/KB국민은행 부동산 수석전문위원 : 주변 집값이 크게 하락하면서 (분양가랑) 2~3억 정도밖에 차이 안 나잖아요. 금리가 더 오르게 되면 주변 집값이 더 떨어질 수 있다고 본다면 자칫 손해 볼 수 있다는 (거죠.)]고금리 속 최근 극도로 위축된 주택 매수 심리도 분양 시장 한파를 불렀다는 분석입니다.지난해 서울의 청약 1순위 경쟁률은 164대 1이었지만 올해는 22대 1로 하락했습니다.지난 10월 기준 전국의 미분양 주택은 4만 7천여 가구, 아직 서울은 2%에 불과합니다.하지만 원자재, 임금 등 분양가 상승 요인이 많아 낙관할 수만은 없습니다.[권대중/명지대 부동산학과 교수 : 분양가 상한제 적용 지역은 가격이 15~20% 정도 낮은 가격입니다. (그럼에도) 미분양 난다면, 일반 주택 가격은 더 떨어질 수도 있습니다.]서울 강남과 서초 등은 높은 가격에도 여전히 수요가 높아 분양 시장을 비롯한 부동산 경기의 지역별 양극화가 더 심해질 것이라는 관측도 나옵니다.(영상취재 : 김태훈·윤 형, 영상편집 : 위원양)\\n\\t\\t]', '[\\n\\'올림픽파크 포레온\\' 특별공급, 일부 주택형 미달\\'장위자이 레디언트\\', 오늘부터 청약일정 시작\\'청약불패\\' 서울이었는데…집값 하락에 \\'이자부담\\'\\n\\n\\n\\n서울 강동구에 위치한 올림픽파크 포레온(둔촌주공 재건축) 견본주택 모습 / 사진=뉴스1서울 최대 재건축 단지인 강동구 \\'둔촌주공(올림픽파크 포레온)\\' 분양에 빨간불이 들어왔다.특별공급 청약에서 소형 면적 일부 주택형 모집인원이 덜 찼다. 서울에서의 분양은 \\'청약불패\\'라고 불릴 정도로 치열한 경쟁을 나타냈다. 올해들어 강북의 일부 청약에서는 미달이 나왔지만, 한 때 강남 4구로도 불렸던 \\'강동구\\'의 대장 아파트에서 미달이 떴다는 점에서도 충격을 주고 있다. 특별공급에서의 미달분은 이날부터 받는 일반공급분에 포함돼 청약을 받는다.역대급 재건축 대어라고 불렸던 \\'올림픽파크 포레온\\'에서 성적이 부진하자 또 다른 서울 분양인 성북구 장위동 \\'장위4구역\\'(장위자이 레디언트) 청약에 대한 우려도 커졌다. 더불어 올림픽파크 포레온은 부동산 장의 \\'풍향계\\'로 여겨졌던 만큼 앞으로의 시장동향에도 영향을 미칠 전망이다. 소형에만 국한된 한계일지, 전반적인 시장침체가 결국 청약시장까지 도미노로 영향을 줬는지 가늠해볼 결과가 될 것으로 보인다. 올림픽파크 포레온, 소형 특공에서 신혼·노부부 등 미달사태6일 한국부동산원 청약홈에 따르면 전일 진행한 올림픽파크 포레온 특별공급에서 1091가구 모집에 3580명이 신청해 평균 3.28대 1의 경쟁률을 기록했다. 특별공급에는 분양가 9억원을 넘기지 않는 전용 29·39·49㎡ 등 소형 면적만 나왔다.생애최초 전형에서 1가구를 모집한 전용 29㎡에는 80명이 신청했고 전용 39㎡는 159가구에 629명이 청약 통장을 던졌다. 전용 49㎡는 94가구 모집에 1870명이 몰려 19.89대 1의 경쟁률을 보였다. 일부 전형 면적에서 높은 경쟁률이 나왔지만 미달한 경우도 발생했다.신혼부부 전형 전용 39㎡는 301가구 모집에 90명만 지원했다. 노부모 부양 전형 전용 39㎡는 34가구 모집에 신청자 5명, 기관추천 전형 39㎡도 115가구에 신청자가 28명에 불과했다. 그보다 큰 면적인 전용 49㎡도 다자녀 가구 전형 62가구에 45명만 신청했다. 49㎡는 평으로 따지면 약 22평에 해당된다. 3명 이상의 자녀를 작은 면적에서 거주하기는 무리가 있다고 보고 예비 청약자들이 신청하지 않은 것으로 보인다.\\n\\n\\n\\n복도식 원룸과 투룸 구조인 전용 29·39·49㎡ 소형 면적 배치도. / 자료=올림픽파크 포레온분양 업계에서는 올림픽파크 포레온의 전용 59㎡와 전용 84㎡는 인기가 높을 것으로 보면서도 본 청약의 아킬레스건이 소형 면적이라고 지목한 바 있다. 올림픽파크 포레온은 전용 29·39·49㎡를 섞은 5개 동, 전용 39㎡·49㎡가 배정된 4개 동, 전용 39㎡로만 짓는 2개 동 등 전체 85개 동 가운데 11개 동에 소형 면적을 배치했다. 한 층에 7~10가구가 복도를 공유한다.이들 소형 면적 물량도 전체 일반분양 4786가구(특별공급 1091가구 포함) 가운데 43%를 차지하는 2061가구에 달한다. 분양가는 전용 29㎡가 4억9300만~5억2340만원, 전용 39㎡가 6억7360만~7억1520만원, 전용 49㎡가 8억2970만~8억8100만원으로 책정됐다.올림픽파크 포레온 자체는 지하철 5호선 둔촌동역과 9호선 둔촌오륜역을 모두 이용할 수 있어 교통이 편리하고 위례초등학교와 둔촌초등학교 등 \\'학품아\\' 아파트라는 장점이 있지만, 소형 면적은 오피스텔과 다를 바 없는 \\'복도식\\' 배치를 택했고 물량까지 많기 때문이다.단지 주변 둔촌동과 성내동 오피스텔의 3.3㎡당 평균 가격은 1800만원 수준이다. 전용 29㎡로 환산하면 2억5000만원 전용 49㎡는 4억원이다. 주변 시세보다 비싼데다 물량마저 많으니 쉽게 팔리겠냐는 지적이 나온다. 둔촌동의 한 개업중개사는 \"대규모 단지인 만큼 커뮤니티 등의 강점이 있겠지만, 수억원에 달하는 가치를 줄 수 있을지는 의문\"이라고 평가했다.\\n\\n\\n\\n서울 강동구에 위치한 올림픽파크 포레온(둔촌주공 재건축) 견본주택 모습./ 사진=연합뉴스\\'대출가능\\' 장위자이 레디언스, 오늘부터 청약올림픽파크 포레온 특별공급이 흥행하지 못하면서 또 다른 서울 분양단지인 장위자이 레디언트 청약도 불안감이 커졌다. 장위자이 레디언트가 내세우는 청약 포인트는 예비 청약자들이 어떤 면적대를 넣어도 대출받을 수 있다는 점이었는데, 올림픽파크 포레온에서 대출이 가능한 소형 면적에서 미달이 나다보니 안심할 수 없는 상황이 됐다.이 아파트는 성북구 장위동 \\'장위4구역\\'을 재개발해 공급하는 단지다. 총 2840가구 중 1330가구를 일반분양하고 전용 49~97㎡를 공급한다. 분양가가 모두 12억원 이하다. 계약금 10%, 중도금 50%, 잔금 40% 일정으로 진행되고 중도금 이자 후불제 조건으로 공급된다. 전용 84㎡ 기준 약 1억원(계약금)만 있으면 잔금 때까지 추가로 들어가는 비용이 없다.분양업계 관계자는 \"올림픽파크 포레온의 경우 특공으로 나온 물량 자체가 워낙 소형이고 가격도 높은 편이었기 때문에 어느 정도 부진이 예상된 것이 사실\"이라며 \"장위자이 레디언트는 시세 대비 가격 매력이 크지 않다. 특별공급 결과를 지켜봐야 할 것\"이라고 했다. 다만 이 관계자는 \"특별공급 자체는 특정 계층을 위한 청약이기 때문에 조건이 많다. 1순위 결과는 또 다를 수 있다\"고 덧붙였다.\\n\\n\\n\\n\\'장위자이 레디언트\\' 예상 모형 사진=이송렬 기자인근 시세가 장위자이 레디언트 분양가보다 하락하고 있다는 점은 부담이다. 장위동 \\'래미안포레카운티\\' 전용 84㎡는 지난 10월 9억1400만원에 거래됐다. 장위자이 레디언트 전용 84㎡ 분양가는 9억570만~10억2350만원으로 책정돼 있다. 장위자이 레디언트는 이날 특별공급을 진행한다. 7일엔 1순위, 8일 기타지역 1순위 청약이다. 당첨자 발표는 16일이다.\\n]', '[\\n[뉴스데스크]◀ 앵커 ▶1만 2천여 세대가 들어서는 서울 둔촌주공아파트 재건축 단지가 분양을 시작했는데, 막상 뚜껑을 열어 보니까 위축된 부동산 시장의 분위기가 그대로 반영이 됐습니다.아파트 가격이 더 떨어질 거라는 예상이 나오면서, 내년 분양 시장도 기대하기 어려울 거라는 전망이 나왔습니다.박진준 기자가 취재했습니다.◀ 리포트 ▶1만 2천여 세대가 들어서는 서울 둔촌주공 재건축 단지. 조합원 물량 등을 제외한 3천6백여 세대의 일반분양 성적표가 공개됐습니다. 1만 3천여 명이 몰려 평균 경쟁률은 3.69대1.하지만 올해 서울에서 분양한 15개 단지 평균 1순위 청약 경쟁률이 21.5대1인 것과 비교하면 초라한 성적입니다. 입지가 좋아 적어도 십대 일은 넘을 거라는 시장의 예상은 빗나갔습니다. [인근ㅁㅁ부동산]\"제 생각에는 비율이 수십 대 일이 통상 될 거라고 10 대 1은 넘으리라고 생각을 했는데‥\"인기 평형인 84제곱미터의 분양가가 12억원을 넘겼는데요.분양가 상한제 적용으로, 9억 원 이상 아파트의 경우 중도금 대출이 안 되는 만큼 자금 마련에 부담을 느낀 수요자들이 청약 참여를 주저한 것으로 분석됩니다. 금리가 높은 상황에서 돈 끌어다 쓸 곳이 마땅치 않은데다 주변 아파트 시세가 떨어지는 상황에 갭투기 이점도 없다는 게 현장의 분위기입니다.[인근 00부동산]\"조합원 것이 지금 얼마까지 나오느냐면 14억 원까지 나와요. 추가 분담금을 2억 원은 내야 하잖아요. 등기비도 내야 돼요. 나 아는 애들이 뭐라 그랬느냐면 \\'언니, 거기 먹을 게 있어?\\'‥ \"아파트 신규 분양시장은 녹록지 않은 분위기입니다.금리가 더 오를 것이란 우려감에 수요자들의 관망세가 지속되고 있기 때문입니다.  10월 말 기준 최근 전국 미분양 아파트는 4만 7천여 가구, 두 달 전달보다 1만 6천 가구가 늘었습니다. 수도권을 비롯해 포항, 대구 등 지방을 중심으로 미분양 아파트가 쌓이고 있는 상황입니다.서울의 아파트 매매 심리는 10년 만에 최저로 떨어졌습니다.아파트를 팔겠다는 사람은 많고 사겠다는 사람은 없으니 부동산 가격이 더 내려갈 압력은 더 커지고 있습니다.[박합수/건국대 부동산대학원 겸임교수]\"금리 인상이 마무리되지 않았기 때문에 내년 상반기까지는 이런 금리 여파가 지속할 수밖에 없고‥\"고금리 기조가 지속되는 한, 내년 신규 아파트 분양 시장 반등도 쉽지 않다는 분석입니다. MBC뉴스 박진준입니다. 영상취재 : 이상용 / 영상편집 : 이상민MBC 뉴스는 24시간 여러분의 제보를 기다립니다. ▷ 전화 02-784-4000▷ 이메일 mbcjebo@mbc.co.kr▷ 카카오톡 @mbc제보\\n]', '[\\n[앵커]흥행 대박을 예고했던 서울 둔촌주공 아파트의 1순위 청약 경쟁률이 공개됐습니다. 10만 명이 몰릴 것으로 예상했는데, 2만명도 채 안왔습니다. 평균 경쟁률이 3.7대 1에 불과했습니다. 그동안 둔촌주공은 아파트 간 거리가 워낙 짧아서 뷰 논란도 일었고, 높은 분양가도 도마에 올랐는데, 이 부분이 결국 발목을 잡았습니다.배상윤 기자가 전하겠습니다.\\xa0[리포트]서울 둔촌주공아파트의 모델하우스. 방 3개가 있는 전용면적 84㎡ 모형입니다. 일부 타입(A)은 9대 1이 넘는 경쟁률을 보였지만, 같은 면적의 또 다른 타입(E)은 2대 1을 살짝 웃도는데 그쳤습니다. 앞집 주방이 보이는 설계가 영향을 미친 것으로 보입니다. 주방 창문을 열면 앞집 주방 창문이 보이는 이른바 \\'부엌뷰\\' 모형입니다. 제가 줄자로 주방 간 거리를 직접 측정해보니, 1.8m에 불과했습니다. 이번 주부터 청약에 나선 둔촌주공 아파트의 성적표가 공개됐습니다. 1순위 청약 경쟁률은 3.7대 1. 3695가구 모집에 1만 3천여 명이 지원했습니다. 541가구를 모집한 39㎡의 경우 560명이 지원해 경쟁률이 가장 낮았습니다. 시장에서 점친 \\'10만 청약설\\' 예측에 비하면 한참 못 미치는 수준입니다. 저조한 성적의 원인으로는 부동산 시장의 깊은 침체와 함께 무리한 설계와 높은 분양가가 꼽힙니다. 둔촌 청약 포기자\"주변 청약들이 싸게 사서 시세는 올라온 건데…15억이 아니라 10억이 될 수 있는 시대가 있을 건데 그런 고민을 하다보니까….\" 내년 분양 시장에 악영향을 미칠 수 있다는 관측도 나옵니다. 고종완 / 한국자산관리연구원장\"신규 분양마저도 구매를 미루거나 외면하는 현상이 나타남으로 인해서 부동산 경기 침체가 조금 더 길어지거나….\" 다만, 경쟁률보다 청약 이후 실제 계약률이 중요하다는 분석도 나옵니다. TV조선 배상윤입니다.\\xa0\\n\\t\\t]', '[\\n49㎡도 옵션·확장 땐 9억원 넘길 듯일반분양 접수는 오늘부터 15일까지\\n\\n\\n\\n1일 서울 강동구 둔촌동 올림픽파크 포레온 견본주택에 예비청약자들이 몰렸다. 류인하 기자서울 강동구 둔촌동 올림픽파크 포레온(둔촌주공아파트 재건축사업)이 특별공급 모집에서 예상보다 저조한 성적을 거뒀다. 일반분양 접수는 6일부터 시작돼 오는 15일 최종 성적표를 받아볼 수 있다.6일 한국부동산원 청약홈에 따르면 지난 5일 진행된 올림픽파크 포레온 특별공급 청약은 1091가구 모집에 3508건이 접수되면서 평균 경쟁률 3.28대 1을 기록했다.저조한 경쟁률의 원인은 작은 평형만 특별공급 물량으로 나온 데다 최근 부동산 가격 하락세에 비해 상대적으로 높은 가격에 예비청약자들이 부담을 느낀 것이라는 분석이 나온다.올림픽파크 포레온의 3.3㎡당 분양가는 3829만원으로, 단순 계산시 전용 39㎡은 6억8922만원, 49㎡은 8억4238만원에 달한다. 여기에 각종 옵션 및 확장비용을 더하면 49㎡도 9억원을 넘길 것으로 보인다.투기과열지구는 전용면적별 분양가가 9억원을 넘으면 특별공급 물량 배정에서 제외되는 점도 악재로 작용했다. 올림픽파크 포레온은 59㎡부터 9억원을 넘으면서 29~49㎡의 작은평형만 특별공급 물량으로 나왔다. 특별공급 대상 면적은 전용 29㎡, 39㎡, 49㎡ 세 가지다.특별공급에는 상대적으로 넓은 평형을 중심으로 신청자가 몰렸다. 전용면적 49㎡ 477가구 모집에는 2734건이 접수되면서 평균경쟁률 5.73대 1을 기록했다. 전용면적 39㎡은 609가구 모집에 752건이 신청돼 1.23대 1의 경쟁률을 보였다. 5가구를 모집한 29㎡은 94건이 접수됐다.때문에 부동산업계에서는 59㎡이상 물량이 쏟아지는 일반분양 결과를 두고 봐야 한다는 얘기도 나온다. 59㎡은 A~E타입까지, 84㎡은 A~H타입까지 다양하게 나온다.김효선 NH농협은행 WM사업부 부동산 수석위원은 “올림픽파크 포레온은 입지와 브랜드, 단지규모는 매우 우수한 수준이지만 분양가가 하락하고 있는 상황에서 당장 큰 메리트가 있지 않고 분양시기 역시 매우 좋지 않다”면서 “둔촌주공은 2년 거주, 8년 전매제한과 재당첨제한 등의 규제가 있기 때문에 준공 후 전세를 줄 수 없어 온전히 자기 자금으로 구매를 해야하는 만큼 84㎡를 제외하면 중도금대출이 가능하지만 고금리 상황에서 감당할 수 있을만한 수준인지 따져보고 청약에 도전해야 할 것”이라고 설명했다.\\n\\t\\t]', \"[\\n[앵커]'단군 이래 최대 재건축 사업'이라고 불리며 실수요자의 관심을 모은 서울 둔촌주공아파트가 분양을 시작했습니다. 자녀가 많거나 노부모 모시고 사는 가구를 대상으로 한 특별공급이 첫 일정이었는데, 미달 사태가 났습니다. 방 두 개라서 여러 식구가 살기에는 좁은데, 값은 비싸단 평가가 많았기 때문입니다.장서윤 기자입니다.[기자]2025년 1월 입주 예정인 서울 강동구 둔촌주공 아파트의 모델하우스입니다.전용면적 49제곱미터, 15평 정도의 집인데요.보시다시피 방은 두 개입니다.이번 특별공급 청약에서 자녀가 3명 이상 있는 다자녀 가구를 비롯해 노부모 부양 가족, 신혼부부 등의 신청을 받았습니다.평균으로 봤을 땐 3.3대 1의 경쟁률이 나왔지만 타입별로 보면 다릅니다.다자녀가구가 신청할 수 있는 49제곱미터짜리 아파트는 62가구 중 45명만 신청했습니다.좀 더 작은 39제곱미터 아파트는 노부모 부양 가구와 신혼부부를 대상으로 분양했는데, 역시 신청자가 분양가구 수에 못 미쳤습니다.여러 식구가 살기엔 좁은데, 분양가는 비쌌기 때문이란 평가가 나옵니다.[부동산 중개업소 관계자 : 이 가격이면 (다른 곳에서) 그것보다 좀 더 큰 평수를 살 수 있잖아요.]이렇게 분양을 하면 식구가 많거나 목돈이 없는 서민층에 내 집 마련 기회를 먼저 준다는 특별공급의 취지가 퇴색된다는 지적도 있습니다.하지만 재건축조합 측은 특별공급 분양가를 9억원 이하로 제한한 규제 탓이 크다고 반박합니다.모든 평형의 평당 분양가가 같은데 특별공급을 9억원 이하로 맞추려다 보니, 작은 평수밖에 공급할 수 없었단 겁니다.(영상디자인 : 홍빛누리)\\n\\t\\t]\", '[\\n부동산개발금융 익스포저 전년比 1조↑아파트 분양 부진 확산에 금융권도 긴장\\n\\n\\n\\n시민들이 지난 1일 서울 강동구 둔촌동 둔촌주공재건축아파트(올림픽파크 포레온) 견본주택 단지 모형을 살펴보고 있다. ⓒ데일리안 김민호 기자[데일리안 = 이호연 기자] 국내 5대 은행 자산에서 부동산 프로젝트파이낸싱(PF)과 연계된 자금이 1년 새 1조원 넘게 불어나며 17조원을 돌파한 것으로 나타났다.자금 경색 우려 속 부동산 시장 침체로 PF 대출을 둘러싼 부실 우려가 확산되는 가운데, 사상 최대 건축 사업인 둔촌주공 아파트 분양마저 흥행 몰이에 실패하면서 은행권도 촉각을 곤두세우고 있다.7일 금융권에 따르면 5대 은행(KB국민・신한・하나・우리・NH농협)의 부동산 PF와 연계된 부동산개발금융 익스포저(위험노출액)은 올해 상반기 말 기준 17조4154억원으로 1년 전보다 6.8%(1조1125억원) 늘었다. 익스포저는 금융사의 자산에서 부문과 연관된 금액이 어느 정도인지를 보여주는 지표다. 관련된 모든 거래에서 발생할 수 있는 손실 금액을 뜻한다.은행별로는 KB국민은행이 6조8904억원으로 부동산개발금융 익스포저가 가장 많았다. 조사 대상 기간 증가폭도 3조449억원으로 최대였다. 이어 ▲하나은행 3조3917억원(5847억원 증가) ▲우리은행 2조5327억원(3조8557억원 감소)▲신한은행 2조3975억원(7285억원 증가)▲농협은행 2조2031억원(6101억원 증가) 순으로 집계됐다.\\n\\n\\n\\nⓒ 데일리안 이호연 기자은행권은 비은행권과 달리 부동산 PF 대출이 관리 가능한 수준이라는 입장이다. 한국금융연구원 추산에 따르면 보험사와 여전사, 저축은행, 증권사 등 제2금융권의 부동산 PF대출 규모는 2018년 42조3000억원에서 지난 6월 말 84조원으로 두 배 가까이 불어났다.그러나 부동산 PF가 건설사가 금융권 대출로 토지를 매입하고 건물을 올린 뒤 분양 수익을 내는 구조임을 고려하면, 금리인상기 정점에 직면한 은행권도 안심할 단계는 아니란 평이다.실제 전날 진행된 올림픽파크 포레온 1순위(서울 2년 이상 거주) 청약에서는 3695가구에 모집에 1만3647명이 지원하며, 평균 경쟁률이 3.7대1 수준에 그쳤다. 먼저 진행된 특별공급에서도 1091가구 모집에 3580명이 지원해 평균 경쟁률 3.3대 1에 마물렀으며, 39㎡ 신혼부부 전형 등 일부 주택형은 미달됐다.본 청약에서 미달이라는 최악의 사태는 면했지만, 시장에서는 이번 청약 결과가 예상치를 밑돌았다는 반응이 주를 이룬다. 대출금리가 치솟아 이자부담이 심화되는 만큼, 추후 계약 과정에서 미분양이 발생할 가능성도 배제하기 어려운 상황이다.처럼 이경기침체와 맞물려 미분양 물량이 예상을 뛰어넘을 경우, 건설 부동산 업체에 대출을 내어준 은행권까지 대규모 손실을 떠안을 수 있다. 레고랜드발(發) 건설·부동산 PF 부실 위험이 걷잡을 수 없이 커질 것이라는 우려다.금융당국도 바짝 긴장하고 있다. 이복현 금융감독원장은 이날 오전 은행회관에서 열린 연구기관장 간담회에 참석해 “부동산 PF 사업장, 기업자금 시장 등에서는 여전히 경계감을 늦출 수 없는 상황”이라며 “금융회사 건전성과 관련해서는 부동산 PF 사업장과 기업 자금사정 등을 점검해 정상 사업장 및 기업에 대한 자금공급이 원활히 이뤄지도록 유도하겠다”고 말했다.\\n\\t\\t]', \"[\\n마포더클래시 일반분양 3.3㎡당 4013만원둔촌주공 3.3㎡당 3829만원 일부 전형 미달“원자재값·인건비 등 물가 인상 반영 여파”     \\n\\n\\n\\n마포더클래시 투시도. [사진 HDC현대산업개발]    ‘강남4구’라고 불리는 서울 강동구의 둔촌주공 재건축 ‘올림픽파크포레온’의 특별공급 일부 전형서 미달이 발생한 가운데, 비강남권 가운데 처음으로 1평(3.3㎡)당 일반 분양가가 4000만원을 넘는 단지가 나와서 관심이 모아진다.      6일 정비업계에 따르면 마포구 분양가심의위원회는 최근 마포더클래시 일반분양가를 3.3㎡당 4013만원에 의결, 승인했다.      마포더클래시는 아현동 내 유일한 재건축 단지(아현2구역)로 SK에코플랜트와 HDC현대산업개발이 컨소시엄으로 시공했다. 아현동 662번지 일대에 위치한 마포더클래시는 지하 5층~지상 25층, 17개 동, 1419가구 규모로 이중 53가구가 후분양되며, 입주 기간은 내년 2월 5일까지다.    책정된 분양가를 적용하면 '국민평형'으로 불리는 전용면적 84㎡ 가격은 13억원대다. 이는 업계에서 전망한 시장예상 분양가를 크게 웃도는 금액이다. 업계에서는 당초 이 단지 84㎡ 분양가를 9억원대가 될 것이라고 예상했다. 조합원분양가는 3.3㎡당 1900만원대로 84㎡ 기준 6억원대의 낮은 금액으로 책정됐기 때문이다.      하지만 조합 측에서 입지가 마포구라는 점과 일반 분양 가구 수가 적다는 점, 즉시 입주가 가능한 환경 등을 이유로 1평당 4000만원 수준의 분양가를 원한 것으로 알려졌다. 이에 84㎡ 기준 13억원대의 높은 금액이 승인되자 논란이 불거졌다.          ━          강북 마포더클래시, 강동 둔촌주공보다 3.3㎡당 184만원 많아        입지가 가장 큰 장점으로 떠오른 올림픽파크포레온도 3.3㎡당 3829만원에 일반분양가가 책정돼 집값이 급락한 인근 송파구 아파트와 비교해 고분양가 논란을 일으킨 바 있다. 강북권에 위치한 마포더클래시는 이와 비교해 3.3㎡당 무려 184만원이 높은 가격이 책정되자 고분양가 시선이 나온 것이다.      특히 올해 분양시장 최대어로 꼽힌 올림픽파크레온마저 흥행을 장담할 수 없는 상황이다. 이 단지의 청약 첫날 경쟁률이 ‘기대 이하’라는 평가가 나오면서 분양시장의 긴장감이 고조되고 있어서다.      한국부동산원 청약홈에 따르면 지난 5일 둔촌주공 특별공급 청약에서 1091가구 모집에 3580명이 신청한 것으로 집계됐다. 평균 경쟁률은 3.28대 1이다. 일부 전형 경쟁률은 1대 1을 밑돌기도 했다. 다자녀 가구 대상으로 나온 49㎡ 62가구에 45명이 신청했다. 39㎡ 신혼부부 전형 301가구에 90명, 같은 면적 노부모 부양 34가구에 5명, 기관추천 115가구에 28명씩 신청자 수가 각각 집계됐다.    ‘청약불패’라고 불리는 서울 분양시장은 올해 들어 냉 기운이 감돌고 있다. 강북의 일부단지  청약에서 미달이 나왔지만, 한 때 강남 4구로도 불렸던 강동구의 대장 아파트에서 미달이 나오자 업계도 놀라는 모양새다. 물론 이번에 미달이 나온 소형 면적은 주변 시세보다 비싼데다 물량까지 많아 성적이 부진했다는 평가다. 하지만 인기가 높을 것으로 보이는 전용 84㎡는 중도금대출마저 불가한 상황이라 안심할 수 없다.            ━          둔촌주공 특공 일부 전형 미달…분양 시장 긴장          \\n\\n\\n\\n 서울 강동구 둔촌동 일원에 문을 연 둔촌주공아파트(올림픽파크포레온) 견본주택. [연합뉴스]    마포더클래시도 아직 입주자 모집공고 전으로 분양가에 변동이 없을 경우 전용면적 84㎡는 13억원대로 중도금 대출이 불가능할 것으로 보인다. 또한 마포더클래시와 올림픽파크포레온 모두 분양가상한제 적용 단지로, 입주 가능일로부터 2년간 의무적으로 실거주해야 한다. 아파트 잔금이 부족할 때 전세를 놓는 방식으로 분양가를 충당할 수 없다는 의미다. 전매제한 8년과 재당첨 제한 10년 규제도 적용 받는다.    다만 마포더클래시가 흥행에는 무리가 없을 것이라는 분석도 나온다. 비강남권에서 처음으로 3.3㎡당 4000만원을 돌파하는 높은 일반분양가가 책정됐으나 주변 시세보다 저렴하기 때문이다. 마포구 대장주라고 불리는 아현동 ‘마포래미안푸르지오’ 전용 84㎡은 최근 17억원대에 거래 중이다.      업계에서는 고분양가 논란에 대해 물가가 오르는 상황에서 공사비 등이 분양가에 현실적으로 반영된 것이라고 해석했다.     이은형 대한건설 정책연구원은 “분양가상한제 적용 단지로, 최근 2년 동안 꾸준히 이슈가 되고 있는 자재가격 등 공사비 상승 요인 등이 분양가에 반영한 결과로 보면 된다”며 “저값에 팔리느냐 안팔리느냐도, 결국은 시장수요에 맞춰가는 과정”이라고 말했다.      서진형 경인여대 교수(MD비즈니스학과)는 “분양시장에서 고분양가가 나오는 이유는 결국 인건비의 상승, 건축 자재의 상승, 금리의 인상 이런 것들이 원인이 돼서 나타나고 있다”며 “마포도 강남에 버금가는 도심 지역이기 때문에 건설사 입장에서는 전략적으로 비용 증가를 분양가로 반영할 수밖에 없다”고 설명했다. 이어 “입지가 좋은 곳은 그래도 청약이 어느 정도 이루어지겠지만 입지가 나쁜 곳들은 청약 성적이 저조한 양극화가 심화될 것이다”고 예상했다.  \\n]\", '[\\n3695가구 모집에 총 1만3647건 접수우수한 주거 환경에 주변 시세 대비 합리적인 분양가로 평가돼\\n\\n\\n\\n둔촌주공아파트 주택재건축 정비사업인 ‘올림픽파크 포레온’의 6일 1순위 해당지역 청약접수 결과, 3695가구(특별공급 제외) 모집에 총 1만3647건이 접수돼 평균 3.69대 1의 경쟁률로 전 주택형 모집 가구 수를 채웠다.ⓒ데일리안 김민호 기자[데일리안 = 원나래 기자] 둔촌주공아파트 주택재건축 정비사업을 통해 선보인 ‘올림픽파크 포레온’이 1순위 청약접수에서 많은 청약자를 모집하며 높은 기대감을 확인했다. 국내 최대 규모의 대단지에 지하철 5, 9호선 더블 역세권 입지와 합리적인 분양가를 갖춰 수요자들의 많은 관심을 모은 것으로 보인다.6일 한국부동산원 청약홈에 따르면 이날 ‘올림픽파크 포레온’ 1순위 해당지역 청약접수 결과, 3695가구(특별공급 제외) 모집에 총 1만3647건이 접수돼 평균 3.69대 1의 경쟁률로 전 주택형 모집 가구 수를 채웠다.이는 올해 서울시에 분양한 총 15개(12월5일 기준) 단지 중 최다 청약접수 건수다. 올해 들어 서울시에 분양한 단지들의 1순위 청약접수 건수가 평균 2700여건에 불과한 것을 감안하면 이례적인 청약 기록을 세운 셈이다.이번 청약 결과는 예비 당첨자 5배수 추가 접수로, 다음날인 7일 1순위 기타지역 청약접수를 받을 예정이다.이번 결과는 오랜만에 서울에서 선보이는 대규모 단지에다 송파 생활권을 누릴 수 있는 점, 합리적인 분양가 등이 주효했다는 분석이다. 여기에 올해 시공능력평가 10위권 안에 드는 4개의 대형 건설사가 컨소시엄을 통해 시공에 참여하는 만큼 각 건설사의 기술력이 집적된 우수한 상품성도 호응을 높인 것으로 보인다.분양 관계자는 “단지는 송파 생활권을 누릴 수 있는 우수한 입지에 위치해 실수요자들의 관심이 높았으며, 소형 평형 물량이 많아 임대를 염두에 둔 투자 수요의 관심까지 높았던 것으로 보인다”며 “국내 최대 규모의 대단지라는 상징성에 걸맞게 차별화된 상품이 적용된 데다 주변 시세 대비 합리적인 분양가까지 갖춘 만큼 계약도 순조롭게 이뤄질 것으로 기대된다”고 말했다.단지는 지하철 5호선 둔촌동역과 9호선 둔촌오륜역, 중앙보훈병원역을 도보로 이용할 수 있는 더블 역세권 단지로 서울 전역을 편리하게 이동할 수 있다. 또 단지 내 어린이집, 위례초(예정), 둔촌초(예정)와 인근 동북중, 동북고 및 신설학교 등이 추가로 예정되어 있어 우수한 교육환경을 갖췄다.송파 생활권도 공유할 수 있다. 롯데백화점, 롯데마트, 롯데월드타워, 롯데시네마, 가락시장, 가든파이브 등 다양한 쇼핑·문화시설을 편리하게 이용할 수 있다. 아울러 서울아산병원, 중앙보훈병원, 강동성심병원 등 대형병원이 가깝고, 체육공원, 미술과, 88놀이마당 등 다양한 공간이 조성돼 있는 올림픽 공원이 가까워 여가 생활을 즐길 수 있다.아울러 미니 신도시급 규모의 대단지로 들어서는 만큼 상품성에도 공을 들인다. 우선 일부 외관에 ‘커튼월 룩’을 도입해 고급스러운 단지 외관을 선보인다. 또한 남측향 위주의 단지 배치로 채광이 우수하고, 일반 아파트보다 높은 2.4m(우물형 천장 2.5m, 기준층 기준)의 천장고를 적용해 개방감이 우수할 것으로 보인다. 특히 철제 창호 대신 유리 난간 일체형 창호를 적용해 전망을 극대화했다.커뮤니티도 남다르다. 커뮤니티 시설은 총 4개 단지에 지하 2층~지상 1층과 최상층인 35층에 마련된다. 커뮤니티 시설로는 각 단지 별로 사우나, 피트니스, G.X룸, 실내골프연습실/스크린골프연습실, 어린이실내놀이터, 작은도서관, 독서실이 배치돼 있고, 대단지의 장점으로 각 단지별 특화된 커뮤니티 공간이 구성돼 있다. 1단지는 카페테리아, 2단지는 실내체육관, 수영장, 스크린테니스, 3단지는 최상층(35층)에 스카이 게스트룸 및 스카이 라운지, 4단지에는 카페테리아, 중앙도서관이 특화될 예정이다.단지는 분양가 상한제가 적용돼 주변 단지들보다 가격이 합리적이다. ▲전용면적 29㎡의 분양가는 4억원 후반~5억원 초반대이며 ▲39㎡ 6억원 중반~7억원 초반대 ▲49㎡ 8억원 초반~8억원 후반대 ▲59㎡ 9억원 후반~10억원 중반대 ▲84㎡ 12억원 초반~13억원 초반대에 책정돼 인근 기입주 단지의 매매가 시세보다 최대 4억원 이상 저렴하다.한편, 현대건설, HDC현대산업개발, 대우건설, 롯데건설이 분양하는 이 단지는 지하 3층~지상 35층, 85개 동, 전용면적 29~84㎡ 공동주택 총 1만2032가구 규모로, 이 중 4786가구가 일반분양으로 공급된다.당첨자는 12월15일에 발표되며, 정당 계약은 2023년 1월3일부터 17일까지 15일간 진행된다. 입주는 2025년 1월 예정이다.\\n\\t\\t]', '[\\n\\n\\n\\n\\n[서울경제] 서울 강동구 둔촌동 올림픽파크포레온(둔촌주공 재건축)이 1순위 청약에서 평균 경쟁률 3.7 대 1이라는 저조한 성적을 낸 원인으로는 금리 인상에 따른 이자 부담과 집값 하락세, 높은 분양가 등이 지목된다. 최근 집값이 가파르게 하락하면서 분양가가 인근 단지 시세와 큰 차이가 없어 시세 차익을 기대하기 어렵다는 판단이 더해진 것이다. 집값 하락세가 계속될 경우 분양가가 시세보다 더 높은 역전 현상이 발생할 가능성도 있다. 전문가들은 당첨 물량의 상당수가 계약으로 연결되지 못하고 미분양이 다량 발생할 경우 향후 분양 시장이 본격적인 침체로 접어드는 신호탄이 될 수 있다고 우려한다.6일 한국부동산원 청약홈에 따르면 서울 강동구 둔촌동 ‘올림픽파크포레온’ 1순위 해당지역(서울 2년 이상 거주자 대상) 청약은 3695가구 모집에 1만 3647명이 지원했다. 평균 경쟁률 3.7 대 1이다. 16개 주택형 중 11개는 예비 정원을 채우지 못해 청약 마감에 실패했다. 이 단지는 예비 정원을 모집 가구 수의 5배수까지 모집해 경쟁률 6 대 1 이상을 기록해야 청약이 마감된다.예비 청약자들이 통장 사용을 꺼린 배경으로는 높은 분양가와 이자 부담이 꼽힌다. 이 단지는 평당 분양가가 3.3㎡(1평)당 3829만 원으로 4000만 원에 근접했다. 또한 84㎡는 모든 주택형이 중도금 대출 상한선인 12억 원을 넘겨 중도금 대출이 나오지 않는다. 84㎡ 주택형 수분양자는 12억 원이 넘는 금액을 대출 없이 전액 마련해야 하는 셈이다.인근 단지 실거래가가 급락하는 등 시장 상황이 급변하고 있는 점도 저조한 청약 성적의 배경으로 지목된다. 강동구 상일동 ‘고덕아르테온’과 송파구 가락동 ‘헬리오시티’ 등 주요 비교 단지에서는 지난해 최고가 대비 수억 원이 떨어진 거래가 잇따라 나오고 있다. 부동산 관련 온라인 커뮤니티에서는 이들 단지에서 나오는 급매물을 매입할지, 올림픽파크포레온에 청약할지 고민하는 글이 다수 올라오기도 했다.올림픽파크포레온이 1순위 해당지역 청약을 접수한 6일 특별공급 청약을 진행한 서울 성북구 장위동 ‘장위자이 레디언트’는 374가구 모집에 1962명이 신청해 평균 5.2 대 1의 경쟁률을 기록했다. 이는 전날 진행된 올림픽파크포레온 특별공급 경쟁률 3.3 대 1을 웃도는 수치다. 장위자이 레디언트의 경우 모든 주택형의 분양가가 12억 원을 밑돌았고 특별공급 물량이 나오는 9억 원 이하 주택형도 49~72㎡로 올림픽파크포레온의 29~49㎡보다 폭이 넓었다.앞으로 시장의 관심은 올림픽파크포레온 당첨자들의 계약 여부 및 미분양 물량 발생 가능성에 집중될 것으로 전망된다. 장재현 리얼투데이 이사는 “3 대 1은 본 청약이 끝나고 계약 과정에서 완판을 자신할 수 없는 경쟁률”이라며 “앞으로 남은 전형에서 얼마나 통장이 더 들어오는지가 중요할 것으로 보인다”고 말했다. 임병철 부동산R114 리서치팀장은 “만약 올림픽파크포레온에서 미분양 물량이 발생할 경우 다른 사업장에서도 시행 주체가 분양 시기를 미루고 분양가를 낮추는 등 여파를 크게 받게 될 것”이라며 “수요자들도 추가 집값 하락을 예상하고 청약 지원을 꺼리면서 시장은 더 얼어붙게 될 것”이라고 내다봤다.\\n]', \"[\\n둔촌주공·장위 4구역 각각 5, 6일 특별공급\\n\\n\\n\\n이번 주 서울에서 둔촌주공과 장위4구역 등 6000여가구가 일반분양된다. /더팩트 DB이번 주 서울에서 둔촌주공과 장위4구역 등 6000여 가구가 일반분양된다.5일 업계와 부동산R114 등에 따르면 서울 강동구 둔촌동의 '올림픽파크포레온(둔촌주공)'은 이날부터 특별공급 청약에 들어갔다. 오는 6일 서울 성북구 장위동 '장위자이레디언트(장위4구역)'이 특별공급을 개시하고 본격적인 청약 일정을 시작한다. 두 아파트의 입지, 분양가, 중도금 대출 가능 여부를 두고 수요층이 갈릴 것으로 예상된다.서울 강동구 둔촌동의 둔촌주공은 강남권의 1만2032가구 규모의 대단지 아파트로 총 4786가구가 일반분양한다. 최고 35층으로 전용면적 29~84㎡를 공급한다.전용면적 84㎡의 분양가는 12억3600만~13억2040만 원대로 책정됐다. 전용 59㎡ 이하는 분양가 10억 원 이하로 공급됐다.장위자이레디언트는 GS건설이 성북구 장위동 장위4구역을 재개발해 공급하는 아파트다. 최고 31층, 31개 동으로 총 2840가구 중 1330가구를 일반분양하고 전용면적 49~97㎡를 공급한다. 단지는 중도금 50%에 대해 이자후불제를 적용한다. 전용면적 84㎡의 분양가가 9억3000만 원부터 10억2000만 원 선에 책정됐다.두 단지 모두 투기과열지구에서 공급해 분양가상한제가 적용된다. 당첨자 발표일 이후 8년 동안 전매가 제한되고, 최초 입주 가능일부터 2년간 실거주 의무를 준수해야 한다.업계에서는 청약 흥행을 달성할지는 '미지수'라는 분석이 나온다. 최근 금리 인상에 주택 경기 침체가 가팔라지고 있고 신축 아파트값이 분양가와 비슷한 수준으로 급락하는 곳들도 나오고 있기 때문이다. 이번 청약 계약이 성공할 경우 분양 심리가 회복될 수 있겠지만 실패할 경우 침체가 더 깊어질 것이라는 설명이다.한편 부동산R114에 따르면 올해 전국 아파트 청약 경쟁률은 7.93대 1을 기록했다. 지난해 19.79대 1의 절반 수준이다. 서울의 경우에도 지난해 평균 164.13대 1에서 올해 2191대 1로 7배 이상 낮아진 것으로 나타났다.발로 뛰는 더팩트는 24시간 여러분의 제보를 기다립니다.▶카카오톡: '더팩트제보' 검색▶이메일: jebo@tf.co.kr▶뉴스 홈페이지: http://talk.tf.co.kr/bbs/report/write\\n]\", '[\\n\\n\\n\\n\\n1일 서울 강동구 둔촌동 ‘올림픽파크 포레온(둔촌주공 재건축)’ 모델하우스에서 관람객들이 모의 주택 내부를 관람하기 위해 길게 줄을 서 있다. 총 4786가구를 일반에 분양하는 둔촌주공 재건축은 오는 5일 특별공급을 시작으로 6~7일 1순위 청약을 접수한다. /김지호 기자\\t\\t\\t\\t\\t\\t\\t\\t\\t\\t서울 청약 시장에서 모처럼 큰 장(場)이 열린다. 강동구 둔촌주공을 재건축하는 ‘올림픽파크 포레온’과 성북구 장위4구역 재개발(장위자이 레디언트)의 청약 시점이 겹치면서 이번 주에만 6000가구 넘는 아파트가 주택 수요자들에게 풀린다. 이 두 단지는 입지와 분양가, 대출 여부 등이 다르기 때문에 청약통장을 아껴뒀던 수요자들의 셈법도 복잡해지고 있다.5일 한국부동산원 청약홈에 따르면 이날 올림픽파크 포레온 특별공급을 시작으로 6일 올림픽파크 포레온 1순위와 장위자이 레디언트 특별공급, 7일 장위자이 레디언트 1순위 청약이 줄줄이 이뤄진다.올림픽파크 포레온은 총 1만2032가구 중 4786가구가 무주택 청약 대기자들에게 풀리는 단군 이래 최대 규모 재건축 단지다. 이 중 소형 평형 1091가구가 신혼부부, 다자녀가구 등을 위한 특별공급 물량이고, 나머지 3695가구는 일반 공급으로 배정된다. 모두 전용면적 85㎡ 이하여서 가점제로 배정된다. 장위자이 레디언트는 전체 2840가구 가운데 1330가구가 분양되는데, 이 중 특별공급이 374가구다. 두 단지의 일반 분양을 더하면 6116가구에 달한다.올림픽파크 포레온과 장위자이 레디언트는 당첨자 발표일이 각각 15일과 16일로 다르기 때문에 중복 청약이 가능하다. 하지만 입지나 분양가, 대출 가능 여부가 다르기 때문에 수요층은 다소 다르다. 장위자이 레디언트는 모든 평형에서 중도금 대출이 가능하지만, 올림픽파크 포레온은 전용 84㎡의 분양가가 12억원을 넘어 중도금 대출이 불가능하다. 다만 올림픽파크 포레온은 주변 시세보다 4억~5억원 정도 저렴하지만 장위자이 레디언트의 분양가는 주변 시세와 큰 차이가 없어 현금 여력이 있는 사람이라면 올림픽파크 포레온을 우선적으로 고려할 가능성이 높다. 올림픽파크 포레온 84㎡에 당첨된 사람은 입주때까지 10억원 정도의 현금을 자체적으로 조달해야 한다.두 단지 모두 분양가 상한제가 적용되기 때문에 당첨자 발표일로부터 8년간 전매가 불가능하고 10년간 다른 아파트 청약 당첨도 제한된다. 최초 입주 가능일로부터 2년간 거주해야 하기 때문에 전세 보증금으로 분양대금을 충당하기도 어렵다.전문가들은 이번 주 청약 신청을 받는 단지들의 흥행 여부가 향후 시장 분위기에 큰 영향을 미칠 것으로 보고 있다. 만약 청약 경쟁률이 높게 나온다면 아직 주택 수요가 살아있다는 의미로 해석되면서 향후 금리 변동에 따라 거래가 재개될 수 있는 계기가 될 수 있지만, 반대로 경쟁률이 낮거나 미분양이 발생한다면 시장 침체가 더욱 가속화할 수 있다는 것이다.\\n]', '[\\n■ 경제 와이드 이슈&amp; \\'직설\\' -\\xa0김인만 김인만부동산연구소 소장, 이은형 대한건설정책연구원 연구위원,\\xa0김효선 NH농협은행 부동산수석전문위원해법을 찾는 토론 이슈앤 직설 시작합니다. 부동산 시장에 역대급 빙하기가 닥쳤습니다. 기준금리 인상으로 대출 부담은 늘고 집값은 갈수록 떨어지면서 현장에선 이젠 \"급매물도 안 나간다\"는 이야기까지 나온다고 하는데요. 이런 상황에서 둔촌주공과 장위 자이 등 서울에서 대어급 분양이 쏟아집니다. 부동산 시장이 얼어붙은 가운데, 흥행에 성공할 수 있을지 지금부터 이야기 나눠보겠습니다.\\xa0Q.\\xa0단군이래 최대의 재건축 사업이라는 둔촌주공이 초유의 공사중단과 ‘주방뷰’ 등 여러 논란 속에서 견본주택을 개방했는데요. 하루 약 4천 명의 방문객이 몰렸습니다. 둔촌주공 분양에 대한 관심이 뜨거운 이유는 어디에 있을까요?Q.\\xa0국민평수인 84㎡의 경우 분양가가 12억 원이 넘어가면서 중도금 대출이 어렵게 됐습니다. 이렇게 되면 대출이 가능한 소형 평수에 관심이 더 뜨거울까요?Q.\\xa0둔촌주공 재건축 조합원의 입주권 거래가 풀렸습니다. 이 입주권을 살 경우, 분담금을 내야 하는데요. 최근 알려진 바에 따르면 둔촌주공 조합원 1인당 분담금이 평균 1억 2천만 원으로 잠정 결정된 것으로 알려졌습니다. 내집 마련을 하려는 실수요자의 경우, 조합원의 입주권과 일반분양, 어느 쪽을 택하면 좋을까요?\\xa0Q.\\xa0강북에서도 재건축 대어가 나옵니다. 장위 자이 레디언트인데요. 전 평형수가 중도금 대출이 가능하다는 점이 둔촌주공과 차별점입니다. 분양 흥행 성공할까요?Q.\\xa0지난해와 비교해 올해 11월과 12월엔 서울의 분양 물량이 10배 이상 늘었는데요. 둔촌주공과 장위 자이와 같은 대단지에서 미분양이 나올 경우, 분양시장뿐만 아니라 부동산 시장 전체에도 상당한 영향을 미치지 않을까요?Q.\\xa0서울시가 주거지역 내 아파트의 최고 층수는 35층 이하로 제한했던 규제를 풀기로 했습니다. 현재 부동산 시장이 위축된 가운데 ‘35층 룰’ 폐지가 재건축 시장 활성화로 이어질까요?Q.\\xa0한국은행이 세종과 대구, 인천 등 지역을 콕 찍어서 추가 집값 하락 가능성을 언급했습니다. 정부는 최근 이들 지역을 규제지역에서 해제했는데요. 규제를 풀어도 소용이 없을 정도로 시장 상황이 어둡습니까?Q.\\xa0전셋값이 하락하면서 올해 서울 아파트 전세 신규 계약과 갱신계약 간 보증금 격차가 축소됐습니다. 이렇게 되면 한동안 논란이었던 전세시장 이중가격 논란도 해소될까요?(자세한 내용은 동영상을 시청하시기 바랍니다.)\\n\\t\\t]', '[\\n\\t\\t\\t분양시장 최대어인 서울 강동구 둔촌주공 재건축·성북구 장위자이 레디언트 청약 경쟁률이 저조한 모습을 보이면서 분양을 앞둔 서울권 타 단지들에도 비상이 걸렸다. 12월 서울 분양 예정 단지들 중에선 청약 참패를 우려해 분양 시기를 미루는 사례가 나오고 있다.7일 부동산업계에 따르면 강동구 둔촌주공 재건축(올림픽파크 포레온) 1순위 청약 결과 평균 경쟁률이 3.7대 1에 그쳤다. 서울에서 11개월 만에 나온 1000가구 이상 대단지 분양이었지만 부진한 성적이다. 당초 10대 1 경쟁률은 무사히 넘길 것이라는 관측이 있었지만 크게 빗나갔다. 경기도 안양에서 분양 중인 인덕원 자이SK뷰 청약 경쟁률이 평균 10대 1을 기록한 뒤 계약률이 40%를 하회했던 점을 감안하면 둔촌주공 재건축 계약률은 역시 이보다 높지 않을 것으로 전망된다.강북 지역 최대어 불리는 장위자이 레디언트 청약 경쟁률도 높지 않다. 장위자이 레디언트는 6일 특별공급을 접수받았지만 일부 타입에서 미달이 발생하며 평균 경쟁률은 5대 1수준에 그쳤다. 장위뉴타운에 들어서는 2800여 세대 대단지이지만, 3.3㎡ 당 2800여 만원에 달하는 높은 분양가가 발목을 잡은 것으로 판단된다.둔촌주공 재건축과 장위자이 레디언트 청약 경쟁률이 저조한 모습을 보이면서 분양을 앞둔 서울권 타 단지들도 미분양 공포에 떠는 분위기다. 부동산R114 등에 따르면 지난달 말 기준 12월 서울권 분양 예정 가구 수는 서울 1만9630가구다. 둔촌주공 재건축과 장위자이 레디언트를 제외하고도 4000여 가구가 청약 시장에 나올 예정이다. 공급 예정이었던 주요 단지로는 △서대문구 서대문 센트럴 아이파크(827세대) △은평구 센트레빌 아스테리움 시그니처(752세대) 등이 있다.이 가운데 서대문 센트럴 아이파크(홍은13구역) 조합은 최근 청약 참패를 우려해 분양 일정을 내년 1월로 잠정 연기하기로 했다. 이 단지 분양가는 3.3㎡당 2910만원 수준으로 장위자이 레디언트(3.3㎡당 2834만원)보다 높다. 장위자이 레디언트 보다 규모가 작고 분양성이 떨어진다고 평가받지만 분양가는 오히려 높은 것이다.건설업계 관계자는 \"둔촌주공 재건축 분양에서 미계약이 다수 발생한다면 서울권 타 단지 분양 일정이 밀리는 것은 물론 신규 재건축·재개발 사업의 속도를 늦추는 요인으로 작용할 것\"이라며 \"정부·서울시의 아파트 공급 계획에도 차질이 생길 가능성이 높다\"고 전했다.  \\n\\n\\n\\n서울의 한 아파트 건설현장 모습 &lt;박순원 기자&gt;    \\n]', '[\\n1299가구 중 219가구 일반분양..전부 전용 59㎡둔촌주공보다 평당 분양가 900만원가량 낮아\"저층은 분양가 6억원대도 가능해\"[이데일리 하지나 기자] 이달 중 서울 강동구 길동 `강동 헤리티지 자이`(신동아 1·2차 아파트 재건축)가 분양에 나서는 가운데 3.3㎡당 평균 일반 분양가가 2945만원에 책정된 것으로 확인됐다. 이에 따라 전용면적 59㎡의 경우 분양가가 6억~7억원대일 것으로 전망된다.6일 정비업계 등에 따르면 오는 9일 강동 헤리티지 자이의 입주자 모집 공고문이 공개될 예정이다. 강동 헤리티지 자이는 지하 2층~지상 33층, 8개 동, 총 1299가구 규모로 이 가운데 전용 59㎡ 타입 219가구가 일반 분양 대상이다. 현재 3.3㎡당 평균 분양가는 2945만원이다. 앞서 분양을 진행하고 있는 `둔촌주공` 재건축 아파트(올림픽파크 포레온) 평균 분양가 3829만원 보다 900만원 가량 낮은 수준이다. 장위6구역(장위자이 레디언트) 2824만원보다는 100만원 가량 높다.\\n\\n\\n\\n서울 강동구 길동 `강동 헤리티지 자이` 투시도. (사진=GS건설)현재 일반 분양 물량이 전부 전용 59㎡만 배정된 가운데, 분양가는 7억원대에 이를 것으로 추정된다. 업계 관계자는 “구체적인 분양가는 모집 공고문이 나와봐야 알겠지만 일부 저층운 6억원대에도 청약할 수 있을 것으로 보인다”고 설명했다. 해당 단지는 지하철 5호선 길동역과 굽은다리역 사이에 있지만 도보 10분 이상 소요돼 역세권 단지로 보기는 어렵다. 다만 오는 2028년 단지 앞으로 지하철 9호선 길동생태공원역이 개통될 예정이다. 9호선을 이용하면 강남, 여의도 등 주요 업무 지역과의 접근성이 크게 향상될 것으로 기대된다. 교육 시설로는 단지 북측에 바로 인접한 신명초등학교, 신명중학교를 도보로 이용 가능하고 배재고, 보인고와 특목고인 한영외고 등이 인근에 있어 있다. 분양가는 주변 시세 대비 3억원 가까이 저렴한 수준이다. 인근 단지 중 길동 e편한세상 강동 에코포레 전용59㎡ 호가가 10억~12억원 정도에 형성돼 있다. 둔촌 푸르지오의 전용 59㎡의 경우 9억 5000만원부터 매물이 나와 있는 상황이다.박지민 월용청약연구소 대표는 “둔촌주공 청약에 관심이 있는 대기 수요자들은 분양가가 훨씬 저렴하기 때문에 충분히 눈여겨 볼만하다”며 “둔촌주공 청약에 떨어진 수요자가 몰릴 수 있다”고 말했다.강동 헤리티지 자이는 이달 19일 특별공급을 시작으로 본격적인 청약 일정에 돌입한다. 당첨자 발표는 이달 29일이다.\\n]', '[\\n올림픽파크 포레온 청약 시작완판돼도 계약 포기할 가능성\\xa0특별공급 경쟁률 3.2대1 그쳐유동화증권 7231억 새달 만기미분양 땐 PF 위기 확산 우려한은 “부동산이 통화정책 변수”\\n\\n\\n\\n단군 이래 최대 재건축 단지로 꼽히는 강동구 둔촌주공 아파트(올림픽파크 포레온) 청약 접수가 시작되면서 한국은행과 금융당국, 금융투자업계가 모두 바짝 긴장하고 있다. 서울 지역 대단지 분양 청약마저 저조한 성적표를 받아들면 부동산 프로젝트파이낸싱(PF) 시장의 위기가 본격화할 수 있다는 우려에서다.5일 한국부동산원 청약홈에 따르면 서울 강동구 둔촌주공 재건축 아파트인 올림픽파크 포레온은 이날 29~49㎡의 특별공급 결과 총 1091가구에 3580명이 청약, 평균 경쟁률이 3.28대1에 그쳤다. 시선은 6일 1순위, 8일 2순위 일반분양으로 집중된다. 업계에서는 분양 완판을 장담하고 있지만, 일각에서는 ‘부동산 빙하기’라는 말이 나올 정도로 시장이 침체된 분위기를 감안할 때 청약 경쟁률이 낮거나 미분양이 발생할 가능성도 배제할 수 없다는 관측이 나오고 있다. 부동산컨설팅업체 도시와경제 송승현 대표는 “(청약에서) 완판되더라도 경쟁률이 낮을 경우 실제 계약으로 이어지지 않고, 상당수가 이탈할 가능성이 있다”고 말했다.문제는 둔촌주공 청약 결과가 내년 1월 중순 만기를 앞둔 PF 차환은 물론 다른 사업장의 PF 차환 발행에도 영향을 끼칠 수 있다는 점이다. 앞서 지난 10월 28일 둔촌주공은 7000억원 규모 PF 대출 만기를 앞두고, 차환 실패 위기에 몰렸다가 채권시장안정펀드인 정부 지원 등을 받아 가까스로 차환 발행에 성공해 고비를 넘겼다.당시 KB증권과 한국투자증권이 주관사로 조달한 자산유동화기업어음(ABCP)과 전자단기사채(ABSTB) 등 7231억원의 만기는 내년 1월 19일이다. 단기자금시장 경색으로 자금 조달이 어려운데 미분양마저 나타난다면 ‘2차 차환 위기’가 발생할 우려가 높다.안동현 서울대 경제학부 교수는 “둔촌주공에서 미분양이 나오면 PF 차환에 어려움을 겪을 가능성이 크고, 다른 부동산 PF로 연쇄적으로 충격이 이어지면 위기로 갈 수 있다”고 말했다. 지난 10월 레고랜드 ABCP 사태와 11월 흥국생명 콜옵션 미이행 사태에 이은 세 번째 자금경색 위기가 될 수 있다는 관측도 나온다.한국은행도 최근 둔촌주공발 부동산시장 변수를 통화정책 변수로 보고 예의주시하고 있다. 이창용 한은 총재는 최근 로이터통신과의 인터뷰에서 “부동산시장의 연착륙을 위해 연 3.5% 안팎에서 기준금리 인상을 마치기를 희망한다”고 말한 바 있다. 부동산시장 침체가 예상보다 더 빠르고 장기화될 경우 금리 인상 속도를 더 늦출 수밖에 없다는 고민이 커질 것으로 보인다.\\n\\t\\t]', '[\\n\\n\\n\\n\\n [한주형 기자]단군 이래 최대 재건축 사업지로 꼽히는 서울 강동구 둔촌동 둔촌주공아파트 자리에 올라서는 ‘올림픽파크포레온’이 특별공급에서 수요자들의 관심을 얻지 못했다. 특별공급으로 풀린 물량이 모두 소형주택이고 분양가격도 저렴하지 않아 수요가 위축된 것으로 풀이된다.5일 한국부동산원에 따르면 이날 진행된 올림픽파크포레온 특별공급 총 1091가구 모집에 3580명이 청약 통장을 사용했다. 평균 경쟁률은 3.28대 1이다. 신혼부부 전형인 507가구 모집에 756명이(경쟁률 1.5대 1), 생애 최초 전형인 254가구에는 2579명(10.2대 1)이 지원했다.특별공급은 사회적 배려가 필요한 계층을 대상으로 진행하는 청약제도다. 올림픽파크포레온은 전용면적 29·39·49·59·84㎡를 일반분양하지만, 전용 59㎡ 이상 주택형은 분양가가 9억원을 초과해 특별공급할 물량이 없다. 이에 특별공급은 전용 29·39·49㎡ 등 복도식 소형평수에서만 나왔다.최고 경쟁률은 원룸형인 전용 29㎡가 기록했다. 총 5가구 공급에 94명이 몰리며 18.81대 1의 경쟁률을 세웠다. 다음은 투룸형인 전용 49㎡였다. 총 477가구에 2653명이 신청하면서 평균 경쟁률 5.56대 1을 나타냈다. 또 다른 투룸형인 전용 39㎡는 총 609가구에 751명이 청약해 평균 경쟁률은 1.23대 1이었다.청약 미달된 주택형도 다수 있었다. 신혼부부·노부모부양가구 전용 39㎡와 다자녀가구 전용 49㎡ 등이 모집 가구 수를 채우지 못했다. 다자녀와 노부모 전형은 상대적으로 구성원이 많은 가구를 대상으로 청약 신청을 받는데, 평수가 작아 당첨이 된다고 해도 투룸에서 살기 쉽지 않다는 지적이 나온다.올림픽파크포레온은 이날 특별공급을 시작으로 오는 6일 해당지역 1순위와 오는 7일 기타지역 1순위 등 청약을 실시하게 된다. 올림픽파크포레온은 지하 3층~지상 35층, 85개동, 총 1만2032가구의 초대형 아파트다. 이 가운데 4786가구가 일반분양된다.\\n]', \"[\\n희비 갈린 '서울 최대 청약 기대주'장위자이, 둔촌주공에 판정승중도금 이자후불제로 자금 조달 문턱 낮춰역세권 대단지에 대형평형 12억 미만 매력둔촌, 고분양가·중도금대출제한 흥행 발목[이데일리 김아름 기자] 올해 서울 최대 청약 기대주로 꼽힌 두 단지의 희비가 엇갈렸다. 둔촌주공 재건축인 ‘올림픽파크포레온’ 단지와 강북구 장위4구역을 재개발해 공급하는 ‘장위자이레디언트’가 비슷한 시기 청약을 단행하면서 기대보다 실망했다는 반응과 우려와 달리 선방했다는 평가로 의견이 갈리고 있다. 전문가들은 흥행을 가른 세 가지 요건으로 ‘중도금 대출’과 ‘분양가’, ‘대형평수 여부’로 꼽았다.‘장위자이레디언트’ 판정승7일 한국부동산원 청약홈에 따르면 서울 성북구 장위뉴타운(장위재정비촉진지구) 장위4구역을 재개발하는 장위자이레디언트 특별공급에서 374가구 모집에 1962명이 신청해 5.2대 1 경쟁률을 기록했다. 최고 경쟁률은 전용면적 59㎡에서 나왔다. 59㎡B 타입은 63가구 모집에 709명이 접수해 11대1 평균 경쟁률을 나타냈다. 뒤를 이어 72㎡는 185명 모집에 647명이 접수해 3.4대1을 기록했다.앞서 올림픽파크 포레온 특별공급 청약에서는 1091가구 모집에 3580명이 신청한 것으로 집계됐다. 평균 경쟁률은 3.28대 1로 장위자이레디언트보다 낮은 수준이다. 일부 전형에서는 경쟁률이 1대 1을 밑돌기도 했다. 신혼부부 전형으로 나온 39㎡ 301가구에는 90명이 신청하는 데 그쳤다. 49㎡ 다자녀 가구 대상으로 나온 62가구에는 45명, 39㎡ 노부모 부양 34가구에는 5명, 같은 면적 기관추천 115가구에는 28명이 신청하며 모두 공급 가구 수에 신청자가 미달했다.일반공급 당해 1순위 청약 결과에서는 두 단지 모두 3:1 수준의 경쟁률로 비슷한 성적을 기록했다. 장위자이 레디언트는 956가구 모집에 2990명이 신청해 3.13 대1의 경쟁률을 보였다. 특히 대형으로 분류되는 전용 97㎡의 경우는 15가구 모집에 492명이 몰려 32.8:1의 높은 경쟁률을 달성했다. 앞서 올림픽파크 포레온은 일반공급 당해 1순위에서 3695가구 모집에 1만3647명이 신청해 3.69대1의 경쟁률로 마감됐다. ‘단군 이래 최대 재건축 단지’로 꼽히며 ‘청약통장 10만개를 던질 것’이라는 애초 예상을 뒤집는 다소 실망스런 결과였다. 두자릿수 청약 경쟁률을 나타낸 주택형은 64명이 신청한 전용면적 29㎡A(12.8대 1) 뿐이었다. 소형 평수인 39㎡A와 49㎡A는 각각 1대 1과 1.6대 1의 경쟁률을 기록해 저조한 성적을 거뒀다. 수요자 자금조달 여부가 흥행 갈라 올림픽파크 포레온이 시장 기대치에 미치지 못한 결과를 낸 것은 84㎡부터 중도금 대출을 받을 수 없고 59㎡도 분양가가 9억원을 넘어 특별공급 물량으로 59㎡과 84㎡가 나오지 않아 일반공급 물량이 유독 많았기 때문이다.함영진 직방 빅데이터랩장은 “순위 내 마감으로 완판은 했지만, 흥행은 시장 기대치에 미치지 못한 결과로 볼 수 있다”며 “84㎡부터는 중도금 대출이 안 되고 59㎡도 분양가가 9억원을 넘어가면서 특별공급 물량으로 59㎡과 84㎡이 나오지 않다 보니 일반공급 물량이 많았던 특수성이 있다”고 설명했다. 이어 “2년 실거주 요건 때문에 자비로 잔금을 내야 한다”며 “정당계약일 안에 계약하지 않아 예비당첨자로 넘어가는 물량도 있을 것으로 보인다”고 전망했다.장위자이레디언트의 선방 이유로는 첫째로 중도금 이자 후불제 혜택을 제공해 수요자의 자금조달 문턱을 낮춘 게 주효한 것으로 꼽힌다. 두 번째로 총 2840가구의 대단지 아파트로 장위뉴타운 중에서도 가장 크고 역세권 단지라는 점이다. 세 번째로 모든 평형이 12억원을 넘지 않아 중도금 대출이 가능한 분양가지만 대형 평형이 있어 실수요자가 몰린 것으로 풀이된다. 박지민 월용청약연구소 대표는 “장위자이레디언트는 공급 세대수 자체가 상대적으로 둔촌주공보다 적기 때문에 미달이 나오지 않았다”며 “장위 뉴타운 중에서도 가장 규모가 크고 역세권이기 때문에 실수요자가 몰렸다”고 말했다. 이어 “중도금 대출이 가능하기 때문에 계약금 10% 있으면 추가 자금이 필요 없다는 점에서 수분양자에 이점으로 작용했을 것이다”고 덧붙였다.\\n]\", '[\\n■ 경제와이드 모닝벨 \\'김대호 박사의 오늘의 키워드\\' - 진행 : 장연재 / 출연 : 김대호 글로벌이코노믹연구소장·경제학 박사◇\\xa02연속 \\'빅스텝\\'미 연준이 내년에도 공격적 금리인상에 나설 가능성이 제기됐습니다. 속도를 늦출 수 있지만 최종금리는 더 올릴 거라는 얘기가 나와요?- 미 연준, 노동시장 과열에 내년 공격적 금리인상 가능성- 물가상승률 정점 찍고 둔화 조짐…임금 상승 압력 여전- WSJ \"투자자 예상보다 높은 수준까지 끌어올릴 수도\"- 미 11월 고용 지표, 시장 전망치 상회…평균 임금 급등- 임금 상승·높은 물가 오름세 등 최종금리 상향 가능성- 12월 FOMC 13~14일 개최…시장, 빅스텝 가능성 전망◇\\xa0킹달러 저주미국 무역수지가 두 달 연속 적자를 기록했습니다. 달러화 강세 영향이 크다고요?- 미국 10월 무역적자 5.4% 상승…두 달 연속 증가세- 美 무역적자 두 달 연속 증가세…지난 6월 후 최대폭- 수입 0.6%↑·수출 0.7%↓…세계 경기둔화·강달러 영향- 달러화, 세계 대부분 통화 대비 강세…비싸진 美제품- 인플레에 미국 수출품 해외 수요 위축…무역적자 확대- 10월 무역적자 확대, 4분기 미국 성장률 감소 가능성◇\\xa0시진핑 아랍의 꿈시진핑 주석이 6년 만에 사우디아라비아를 방문합니다. 이번 방문에서 아랍 정상들을 한꺼번에 만난다고요?- 시진핑, 8일부터 이틀 일정 사우디 방문…6년 만에 방문- 중국-아랍 정상회의·중국- 걸프협력회의 콘퍼런스 참석- 중국-아랍 정상회의, 아랍 14개국 정상 참석 전망- 시진핑의 사우디 방문, 중국- 아랍 관계 \\'이정표\\' 기대- 지난해 미군 철군 계기로 중동 내 미국 영향력 약화- 미- 사우디, 약 80년간 동맹 관계서 노골적 갈등 표출- 미- 사우디 \\'신냉전\\' 돌입…시진핑, 사우디 적극 공략◇\\xa0러시아 본토 공습우크라이나 드론이 러시아를 공격했습니다. 러시아 본토에 있는 공군기지를 공격했다고요?- 우크라 드론 2대, 러시아 공군기지 2곳 공격- 우크라 에너지시설 공격하는 러 폭격기 겨냥- 러시아, 우크라의 겨울 난방·전기 공급 차단 작전- 러시아 사라토프 지역 이글- 2 공군기지 첫 폭발- 라잔 근방 다길레보 공군기지에서 두 번째 폭발- 러, 공군기지 피습 뒤 우크라 대규모 미사일 공격◇\\xa0둔촌 주공부동산 시장의 냉기가 서울 청약시장까지 번졌습니다. 어제(6일) 1순위 청약이 끝났는데 순위 내 마감은 됐지만 흥행엔 실패했다는 분석이에요?- \\'서울 최대 재건축 단지\\' 둔촌주공 분양에 \\'빨간불\\'- 순위 내 마감으로 완판…흥행은 시장 기대치 하회- 두 자릿수 청약 경쟁률은 전용 29㎡A 뿐…12.8대 1- 특공 1091가구 모집에 3580명 신청…평균 3.28대 1- 전용 49㎡ 다자녀 가구 전형 62가구에 45명만 신청- 3명 이상 자녀 가구, 작은 면적 거주 무리 판단 분석- 고금리·고분양가 부담에…둔촌주공, 미계약 속출 우려(자세한 내용은 동영상을 시청하시기 바랍니다.)\\n\\t\\t]', '[\\n일부 전형에선 신청자 미달 사태업계 “소형 평형·높은 분양가 탓”\\n\\n\\n\\n지난 1일 서울 강동구 올림픽파크 포레온(둔촌주공 재건축 단지) 견본주택을 찾은 시민들이 상담을 받고 있다. 뉴시스최대 규모의 재건축 사업인 서울 강동구 올림픽파크 포레온(둔촌주공)의 특별공급 청약이 평균 3.3대 1 경쟁률로 마감했다. 다만 일부 전형에서 신청자 미달이 발생했다.한국부동산원은 지난 5일 진행한 올림픽파크 포레온 특별공급 청약에서 1091가구 모집에 3580명이 신청해 평균 3.3대 1 경쟁률을 보였다고 6일 밝혔다. 올림픽파크 포레온의 조합원 물량을 제외한 일반분양 물량은 4786가구다. 이 가운데 1091가구가 특별공급 물량이다. 주택형별로 전용면적 29㎡ 5가구, 39㎡ 609가구, 49㎡ 477가구 등의 소형 평수를 특별공급한다. 접수 유형별로 신혼부부(507가구)가 가장 많다. 이어 생애최초(254가구), 기관추천(206가구), 노부모 부양(62가구), 다자녀 가구(62가구) 등이다.생애최초 전형으로 공급하는 29㎡의 경우 1가구 모집에 80명이 신청했다. 159가구를 모집하는 39㎡의 경우 629명이 청약했다. 49㎡는 94가구 모집에 1870명이 몰려 경쟁률 19.9대 1을 기록했다.그러나 일부 특별공급에서 경쟁률이 1대 1을 밑돌았다. 다자녀 가구 대상으로 나온 49㎡ 62가구에는 45명이 신청하는 데 그쳤다. 39㎡ 신혼부부 전형 301가구에는 90명, 같은 면적의 노부모 부양 34가구에는 5명, 기관추천 115가구에는 28명이 신청했다.건설 업계는 모집자를 채우지 못한 이유로 소형 평형인 데다, 3.3㎡당 평균 3829만원으로 다소 높은 분양가를 지목한다. 분양가는 29㎡ 4억9300만~5억2340만원, 39㎡ 6억7360만~7억1520만원, 49㎡ 8억2970만~8억8100만원 등이다. 올림픽파크 포레온은 특별공급을 시작으로 6일 1순위 당해지역, 7일 1순위 기타지역, 8일 2순위 접수를 진행한다. 당첨자는 다음 달 15일 발표한다. 입주는 2025년 1월 예정이다.\\n\\t\\t]', '[\\n\\t\\t\\t▶ 둔촌주공 청약 시작…오늘 일반공급 1순위 진행4,000가구가 넘게 공급되는 둔촌주공아파트 재건축, \\'올림픽파크포레온\\'의 청약이 특별공급으로 시작됐습니다. 오늘(6일)은 서울시 2년 이상 거주자의 신청을 받고, 내일(7일)은 서울시 2년 미만 또는 수도권 거주자, 모레(8일)는 2순위 청약을 진행합니다. 정부가 중도금 대출 허용 분양가를 확대하면서 59㎡까지는 중도금 대출이 가능하지만, 84㎡는 모든 타입의 분양가가 12억 원을 초과하면서 중도금 대출을 받지 못합니다. 부동산 시장에선 둔촌주공의 청약 성패가 향후 분양시장에 미치는 파장이 적지 않을 것으로 보고 있습니다.▶ 칠레 비야리카 화산서 220ｍ 불기둥…폭발 징후칠레 화산에서 불기둥과 함께 폭발 징후가 관찰돼, 당국이 바짝 긴장하고 있습니다. 칠레 중부에 위치한 비야리카 화산에서 지난 10월부터 지진과 함께 가스 폭발과 불기둥이 관측됐습니다. 불기둥은 최대 220ｍ 높이까지 치솟았다고 칠레 당국은 전했습니다. 전문가들은 현재의 활동 수준이 화산재가 1.5㎞ 상공까지 치솟았던 2015년 상황과 유사한 것으로 보고 있습니다. 칠레 정부는 비야리카 화산 정상과 가까운 4개 마을을 대상으로 황색경보를 발령하고, 분화구 500ｍ 이내 접근을 금지했습니다.▶ 펠레 가족 \"코로나로 호흡기 질환…위독하지 않아\"\\'축구 황제\\' 펠레의 위독설에 가족들이 직접 \"위독하지 않다\"고 진화에 나섰습니다. 펠레의 두 딸 켈리 등 가족들은 현지시간 4일 브라질 매체 글로부 TV와 인터뷰에서 펠레가 생사의 고비에 있는 게 아니라고 밝혔다고 AP통신이 전했습니다.현재 펠레는 항암치료가 진행 중이며 코로나19 감염에 따른 호흡기 질환 탓에 입원했을 뿐이며 중환자실이 아닌 일반 병실에 있다는 게 가족의 설명입니다. 이는 펠레가 대장암이 진행돼 항암 화학치료를 포기했다는 현지 신문의 보도를 반박한 것입니다.#둔촌주공_청약 #칠레_비야리카화산 #펠레_호흡기질환연합뉴스TV 기사문의 및 제보 : 카톡/라인 jebo23\\n]', '[\\n\\t\\t\\t단군 이래 최대 재건축 사업으로 불리는 둔촌주공의 특별공급이 일부 경쟁률은 1대 1에도 미치지 못한 채 마감됐습니다.  한국부동산원 청약홈에 따르면 둔촌주공 특별공급 청약에서 1천91가구 모집에 3천580명이 신청해 평균 3.3대 1의 경쟁률을 기록했습니다.  하지만, 다자녀 가구 대상 49제곱미터 62가구에는 45명이 신청하는 데 그쳤고, 기관추천 115가구에는 28명이 신청해 미달됐습니다.   오늘(6일)은 서울 거주자 1순위 청약이 이어집니다.\\n]', '[\\n1순위 해당지역 3.69대 1 경쟁률서울 강동구 둔촌동 올림픽파크 포레온(둔촌주공아파트 재건축사업)의 1순위 해당지역 청약에서 미달과 같은 최악의 시나리오는 피했지만, 경쟁률 3.69대1이라는 저조한 성적표를 받았다. 고금리에 대출이자 부담이 커진 데다, 집값 하락세로 가격 경쟁력이 떨어진 점이 영향을 미친 것으로 보인다.\\n\\n\\n\\n둔촌주공 견본주택 - 지난 1일 서울 강동구 둔촌동 올림픽파크 포레온 견본주택에서 한 여성이 주방뷰 논란이 있는 84㎡ E타입에서 간격을 살펴보고 있다.윤수경 기자6일 한국부동산원 청약홈에 따르면 이날 올림픽파크 포레온의 1순위 해당지역 청약을 진행한 결과 3695가구 모집에 1만 3647가구가 접수, 평균 경쟁률 3.69대1을 기록했다.29·39·49·59·84㎡ 등 5개 면적의 16개 타입 모두 모집 가구 수 이상이 지원해 미달 타입은 없었다. 다만 16개 타입 중 11개는 5배수까지 뽑아야 하는 예비 정원을 채우지 못해 1순위 기타지역 모집까지 넘어갔다. 이 단지는 모집 가구 수의 5배수까지 예비 입주자를 선정해 당첨자를 포함하면 경쟁률 6대1 이상을 기록해야 청약이 마감된다.최고 경쟁률은 전용 29㎡ A타입에서 나왔다. 5가구 모집에 64명이 청약해 12.80대1의 경쟁률을 보였다. 84㎡ A타입 9.42대1, 59㎡ D타입 8.81대1 순으로 인기가 높았다. 이웃집과 1.8~2.8m밖에 떨어져 있지 않아 ‘주방 뷰’ 논란이 있던 84㎡ E타입은 563가구 모집에 1512가구가 지원해 2.69대1의 경쟁률을 보였다. 경쟁률이 가장 낮은 타입은 전용 39㎡ A타입으로 1.04대1이었다.\\n\\n\\n\\n둔촌주공 견본주택 외관 - 당초 9억원대에 분양돼 중도금 대출이 가능해진 전용 59㎡에 청약자가 몰릴 것이라는 시장 예상과 달리 13억원대에 공급돼 중도금 대출이 불가능한 전용 84㎡ 일부 타입이 높은 경쟁률을 나타냈다.일각에서는 계약 포기가 속출할 것이라는 우려가 제기되고 있지만, 전문가들은 미분양 가능성은 작다고 보고 있다. 임병철 부동산R114 리서치팀장은 “예상대로 경쟁률이 높지 않지만, 1순위 해당지역에서 미달이 없었다는 게 현 부동산 시장으로선 다행”이라며 “이런 입지와 조건의 아파트마저 1순위에서 미달이 나면 다른 민간 건설사도 공급을 주저하게 되고 예비 청약자들도 청약통장 쓰는 것을 미루게 되면서 시장이 위축될 수밖에 없기 때문”이라고 말했다.\\n]', \"[\\n\\n\\n\\n\\n◆뉴욕증시, 경기침체 공포에 하락…나스닥 이틀째 급락뉴욕증시가 경기침체 공포에 하락했습니다. 현지시간으로 6일 뉴욕증시의 다우존스30 산업평균지수는 전장보다 1.03% 내린 33,596.34에 거래를 마쳤습니다. 스탠더드앤드푸어스(S&amp;P) 500 지수는 1.44% 떨어지며, 이달 들어 4거래일 연속 하락했습니다. 나스닥 지수는 2% 떨어지며 이틀 연속 급락했습니다. 최근 미국의 경제지표들이 양호하게 나타나면서 Fed가 내년에도 매파적 기조를 이어갈 것이란 관측이 우세해지고 있습니다. 이에 월가 거물들이 경기침체 가능성을 경고한 점이 투자심리 위축을 이끌었습니다. 미 최대 은행 JP모건체이스의 제이미 다이먼 최고경영자(CEO)와 골드만삭스의 데이비드 솔로몬 CEO는 각각 인터뷰를 통해 Fed의 통화정책으로는 인플레이션을 억제하기 어려우며 내년 경기침체에 직면할 것이라고 경고했습니다.◆국제유가, 경기침체 공포에 1년 만에 최저치전 세계 경기 불확실성이 높아지면서 국제유가가 지난해 말 수준으로 되돌아갔습니다. 현지시간으로 6일 뉴욕상업거래소(NYMEX)에서 내년 1월 인도분 서부 텍사스산 원유(WTI)는 전날보다 배럴당 3.5% 떨어진 74.25달러에 거래를 마쳤습니다. 런던 ICE선물거래소의 2월물 브렌트유도 배럴당 4% 급락한 79.35달러에 마감했습니다. WTI는 지난해 12월23일 이후, 브렌트유는 올해 1월3일 이후 각각 최저 수준입니다. 미국 중앙은행(Fed)의 통화긴축이 예상보다 강하고 오래 갈 것이라는 전망에 무게가 실리면서 유가에 하락 압력을 가하고 있습니다. 통화긴축 여파로 경기침체가 초래될 수 있다는 우려도 나오고 있습니다. 여기에 중국의 코로나19 봉쇄 완화가 더딘 것도 원유 선물시장에 부정적인 영향을 준 것으로 풀이됩니다.◆절기상 '대설'…전국 곳곳 눈 또는 비일 년 중 눈이 가장 많이 내린다는 절기인 대설(大雪)을 맞아 오늘(7일) 오전까지 전국 곳곳에 눈 또는 비가 내릴 전망입니다. 수도권과 강원 영서 남부, 충북, 경북 북부 내륙에서는 눈이나 비가 내리겠습니다. 강원 영서 중부, 충남권과 경북 남부 내륙에도 눈이 날리거나 비가 오겠습니다. 예상 적설량(강수량)은 경기 남부, 강원 영서 남부, 충청 북부, 경북 북부 내륙에 1센티미터㎝ 또는 1미리미터(㎜)입니다. 강원 영서 중부, 충청권 남부, 경북 남부 내륙, 울릉도·독도에는 0.1센티미터(㎝) 미만 눈 날림 또는 0.1미리미터(㎜) 미만 빗방울이 예상됩니다. 다만 추위는 다소 누그러질 전망입니다. 전국 아침 최저기온은 영하 6도에서 영상 6도, 낮 최고기온은 영상 6도에서 13도로 예보됐습니다. 동해안과 강원산지, 일부 남부지방을 중심으로 대기가 매우 건조하겠고, 남부지방을 중심으로 낮과 밤의 기온차가 10에서 15도 안팎으로 크겠습니다.◆최대 재건축 단지 '둔촌주공' 1순위 경쟁률 3.7대1 그쳐단군 이래 최대 재건축 단지로 분양시장의 주목을 받은 둔촌주공(올림픽파크 포레온) 청약이 저조한 성적표를 받았습니다. 1순위 청약 경쟁률이 평균 3.7대 1을 기록, 시장 기대치에 미치지 못하면서 청약시장 분위기가 더 냉각될 것이란 관측이 나옵니다. 둔촌주공은 전날 전용 29제곱미터(㎡)부터 전용 84제곱미터(㎡)까지 16개 주택형에 대한 청약을 받았습니다. 가장 작은 면적인 전용 29제곱미터(㎡)에서만 유일하게 두 자릿수 경쟁률이 나오는 등 10만명 이상이 모일 것이란 기대와 달리 실제 청약 신청자는 예측치에 크게 미치지 못했습니다. 해당 단지는 오는 7일 기타지역(서울시 2년 미만 거주자 및 수도권 거주자), 8일 2순위 신청을 받습니다. 당첨자 발표는 15일이며, 입주는 2025년 1월 예정입니다.\\n]\", \"[\\n서울 12월 물량 6789가구 쏟아져집값 급락에 '급급매' 놓고 저울질청약 결과따라 분양시장 향방 갈려\\n\\n\\n\\n[서울경제] 서울에서 모처럼 대규모 분양이 예정됐지만 청약 시장에 한파가 불고 있어 예비 청약자들의 고민이 깊어지고 있다. 집값이 빠르게 하락하면서 분양가보다도 낮아지는 역전 현상이 뚜렷해지자 청약을 신청할지, 차라리 급급매를 잡을지 고심하는 것이다.5일 부동산R114에 따르면 이달 서울 아파트 분양 예정 물량은 6789가구로 올해 1월부터 11월까지의 월평균 분양 물량인 259가구의 30배 이상에 달할 것으로 전망됐다. 주요 분양 예정 단지로는 단군 이래 최대 재건축으로 꼽히는 서울 강동구 ‘둔촌주공(올림픽파크포레온·일반분양 4676가구)’을 비롯해 △성북구 장위동 ‘장위자이 레디언트(1330가구)’ △강동구 길동 ‘강동 헤리티지자이(219가구)’ △마포구 아현동 ‘마포더클래시(53가구)’가 있다. 물량의 대다수를 차지하는 올림픽파크포레온과 장위자이 레디언트는 각각 5~8일, 6~9일 청약을 진행한다.시장의 이목이 쏠린 가운데 예비 청약자들은 청약통장 사용 여부를 놓고 고심을 거듭하는 모습이다. 올림픽파크포레온 모델하우스에 방문한 서울 송파구 주민 이 모 씨는 “주변 시세가 떨어지고 있는 점을 감안하면 분양가가 높은 편인 것 같은데 심지어 어지간한 강남 단지에는 기본으로 적용되는 사양이 옵션으로 나와 분양가보다 최소 1억 원을 더 써야 한다”면서 “청약을 할지 말지 고민된다”고 말했다. 지난주부터 여러 부동산 관련 온라인 커뮤니티에는 올림픽파크포레온 분양가와 강동구 고덕지구 및 송파구 가락동 등 인근 주요 지역의 시세를 비교하며 청약 여부를 고민하는 글이 다수 올라왔다.시장에서는 이번 주 서울에서 약 6000가구에 이르는 물량을 쏟아내는 이 두 단지의 청약 결과가 향후 분양 시장의 분위기를 좌우하는 바로미터가 될 것으로 보고 있다. 특히 올림픽파크포레온은 일반분양 물량만 약 5000가구에 이르는 ‘미니 신도시’급 대단지에다 송파구 올림픽공원 근처에서 분양하는 주요 단지여서 이 단지가 흥행에 실패할 경우 시장 전반에 미치는 영향이 작지 않을 것으로 분석된다. 장재현 리얼투데이 이사는 “올림픽파크포레온의 분양이 실패하면 분양을 앞두고 있는 다수 단지의 일정이 밀리는 것은 물론 서울 내 재건축·재개발 사업의 속도가 느려지는 등 여진이 크게 나타날 수 있다”고 전망했다.\\n]\", '[\\n둔촌주공, 단기자금시장 시금석으로&lt;앵커&gt;단기자금시장이 예상보다 빠르게 회복될 조짐을 보이고 있습니다.자금시장 `블랙홀`로 여겨졌던 한전채의 발행 금리도 빠르게 내려앉고 있습니다.이제 시장은 지금 가장 돈이 많이 몰리고 있는 곳, 둔촌주공 재건축 분양 청약 결과에 주목하고 있습니다.청약 결과는 부동산 심리가 회복됐는지, 나아가 자금시장 경색이 종지부를 찍을 수 있을지에 대한 시금석으로 작용할 전망입니다.배성재 기자입니다.&lt;기자&gt;가장 최근(12월 5일)에 낙찰된 한국전력공사채입니다.모두 합쳐 4,400억 원어치, 금리는 4.8%로 발행됐습니다.한전채 발행금리가 4%대로 내려온 건 지난 9월 26일 이후 3개월 만에 일입니다.6% 직전까지 치솟았던 지난달 초와는 사뭇 다른 분위기입니다.무려 49일 동안 오르며 가장 위험한 지표로 지목받던 CP금리도 50일 만에 상승을 멈췄습니다.이처럼 단기금융시장이 안정세를 보이는 이유는 뭘까.국고채 금리가 빠르게 안정됐고, 정부의 채권시장안정펀드 등 정책적 대응이 유효했던 것으로 풀이됩니다.국채 3년물 금리는 오늘 오전 3.60%까지 떨어졌습니다.한국은행의 최종 기준금리 수준이 3.5% 수준일 거라는 기대가 반영됐습니다.자연스럽게 국고채보다 금리가 높은 회사채로 자금이 몰렸다는 분석입니다.[김명실 하이투자증권 연구원: 금리 레벨에 대한 부담이 굉장히 커지는 와중에 회사채 스프레드는 지금 굉장히 많이 벌어져있죠. // 금리 매력도가 국고채 대비 상대적으로 좀 강하게 반영이 되면서 이쪽으로 수급이 좀 개선되고 있고…]이제 시장의 시선은 `단군 이래 최대 재건축 단지`, 둔촌주공아파트로 쏠립니다.둔촌주공 재건축 아파트인 올림픽파크 포레온은 이번 달 8일까지 분양 청약을 진행 중입니다.이 사업에는 내년 1월 중순 만기를 앞둔 7천억 원 규모 PF(프로젝트 파이낸싱) 자금이 들어있습니다.만일 미분양이라도 난다면, PF 주간사인 KB증권과 한국투자증권 등이 차환 부담을 떠안을 수도 있습니다.5일 진행된 특별공급의 평균 경쟁률은 3.28 대 1에 그쳤습니다.8일 나올 최종 경쟁률은 부동산 심리 회복과 더불어, 자금경색 위기의 지속 여부를 가늠할 수 있는 중요한 잣대가 될 전망입니다.한국경제TV 배성재입니다.\\n\\t\\t]', '[\\n시멘트·레미콘 업계서 운송 회복세 나타나자 콘크리트 타설 재개민주노총 공공운수노조 화물연대의 총파업으로 인해 단군 이래 최대 재건축 사업으로 불리는 서울 강동구 둔촌주공(올림픽파크 포레온) 재건축 현장이 수일 째 공사가 중단됐으나 콘크리트 타설이 일부 재개된 것으로 알려졌다.6일 둔촌주공 시공사업단에 따르면 이달 5일 둔촌주공 재건축 단지의 공사 현장 일부는 현재 콘크리트 타설에 들어간 것으로 전해졌다.앞서 2일에도 일부 타설이 재개됐으나 화물연대 측이 국토교통부의 업무개시명령을 거부하며 공장 입구를 막아 공사가 중단됐었는데 시멘트·레미콘 업계에서 운송 회복세가 나타나자 타설이 다시 시작된 것이다. 다만 업계에선 향후 일정이 아직 불확실해 완전 정상화되기까지는 다소 시간이 걸릴 것으로 전망하고 있다.\\n\\n\\n\\n원희룡 국토교통부 장관이 지난달 29일 오전 서울 종로구 정부서울청사에서 화물연대 집단운송거부 관련 관계부처 합동 브리핑을 하고 있다. [사진=김성진 기자]시멘트 운송 회복세에 따라 일부 다른 건설 현장에서도 정상화 수순을 밟고 있다. 화물연대 파업 초기인 지난달 24~29일 시멘트 출하량은 평소의 5~10%에 그쳤다. 그러나 이후 국토부가 업무개시명령을 발동해 출하량이 현재 80% 가량으로 회복됐다.다만 민노총 건설노조 부산·울산·경남본부가 타설 노동자 천여 명의 동조 파업을 시작으로 오는 6일부터 파업에 착수할 계획이어서 건설 현장의 회복세가 다시 주춤할 가능성이 있다. 8일부턴 레미콘과 콘크리트 펌프카 노동자 약 3천500명도 파업에 함께할 예정이다.국토부도 이번 사태에 대한 강경 대응을 거듭 강조했다. 이날 원희룡 국토부 장관은 부산의 한 공동주택 공사 현장을 방문해 \"국민의 삶과 국가 경제를 볼모로 한 화물연대 집단운송거부에 더해 (건설노조의 파업은) 건설 현장을 더 큰 어려움에 빠뜨리는 행위\"라며 \"업무방해와 채용 강요, 금품 요구 등 여러 불법행위에 대해 법에 따라 엄중하게 대처할 것\"이라고 밝혔다.\\n]', \"[\\n\\n\\n\\n\\n(서울=뉴스1) 구윤성 기자 = 지난 11월 29일 오전 분양을 앞둔 서울 강동구 올림픽파크 포레온(둔촌주공 재건축) 건설현장. 2022.11.29/뉴스1  Copyright (C) 뉴스1. All rights reserved. 무단 전재 및 재배포 금지.단군이래 최대 재건축으로 기대를 모아온 둔촌주공아파트 재건축, '올림픽파크포레온'의 청약이 5일부터 시작된다. 부동산 시장에선 둔촌주공의 청약 성패가 향후 분양시장에 미치는 파장이 적지 않을 것으로 보고 있다. 청약 전문가들선 청약통장 10만개가 몰릴거란 전망도 있지만 일부에선 비싼 분양가와 이자 부담, 평형 논란 등으로 예상보다 경쟁률 및 계약률이 높지 않을 것이란 분석도 있다.4일 청약홈에 따르면 '올림픽파크포레온'은 5일부터 특별공급을 시작으로 일반분양에 나선다. 일반공급 1순위는 다음날인 6일 진행된다. 당첨자 발표일은 같은달 15일, 계약일은 2023년 1월 3일부터 17일까지다. 공급규모는 4786가구로 특별공급이 1091가구, 일반공급이 3695가구다. 서울특별시 강동구 둔촌1동 170-1번지 일원에 들어서는 '올림픽파크 포레온'은 지하 3층~지상 35층 85개 동, 공동주택 총 1만2032가구 규모다. 일반분양 물량을 전용면적별로 살펴보면 △29㎡A 10가구 △39㎡A 1150가구 △49㎡A 901가구 △59㎡A 936가구 △59㎡B 302가구 △59㎡C 149가구 △59㎡D 54가구 △59㎡E 47가구 △84㎡A 209가구 △84㎡B 21가구 △84㎡C 75가구 △84㎡D 188가구 △84㎡E 563가구 △84㎡F 47가구 △84㎡G 19가구 △84㎡H 115가구 등이다.주택시장에선 둔촌주공의 청약 성패가 향후 부동산 시장의 바로미터가 될 것으로 보고 있다. 둔촌주공마저 저조한 성적표를 받아든다면 앞으로 분양을 준비 중인 다른 단지들의 위기감은 커질 수밖에 없고 반대로 예상보다 높은 청약 경쟁률을 보인다면 그래도 시장이 완전히 죽지는 않았다는 희망이 될 수 있기 때문이다. 앞서 지난달 28일부터 진행한 이 단지의 견본주택 방문 예약은 이틀만에 마감될 정도로 그동안의 높은 관심을 증명했다. 시장 전문가들 사이에선 올림픽파크포레온의 청약 1순위 마감은 무리가 없을 것이란 예상이 우세하다. 청약에 최소 10만명 이상이 몰릴 것이란 의견도 나온다. 일반분양 물량만 4700여 가구에 달하는 데다 강남권 우수 입지로 꼽히고 그만큼 이 단지의 분양을 기다리며 통장을 아꼈던 수요자들이 많기 때문이다.  주택 시장 분위기 등을 고려했을때 청약 당첨 가점은 지난해 대비 다소 낮은 50~60점대가 될 것이란 의견이 높다.  실제 '부동산R114'에 따르면 지난해 서울 청약 당첨가점 평균이 62점, 평균 청약 경쟁률은 164.1대 1에 달했다. 반면 올해(11월 7일 기준) 당첨가점 평균은 44점, 평균 청약 경쟁률은 26.4대 1로 대폭 낮아졌다. 지난달 분양한 서울 중랑구 중화동 '리버센 SK뷰 롯데캐슬' 평균 당첨가점은 35~69점이었다. 84㎡C의 경우 최저 점수가 18점으로, 서울에서 10점대 당첨 커트라인을 기록한 첫 사례다.\\n\\n\\n\\n[서울=뉴시스] 최동준 기자 = 지난 1일 서울 강동구 올림픽파크 포레온(둔촌주공 재건축 단지) 견본주택을 찾은 시민들이 모형도 설명을 듣고 있다. 2022.12.01.청약경쟁률이 높고 1순위 마감에 성공하더라도 실제 계약으로 모두 이어질지에 대해선 부정적 전망도 적지 않다. 달라진 주택 시장 온도 등을 고려했을때 일부 평형 등에선 미계약이 발생할 수 있다는 것. 특히 비교군으로 꼽히는 잠실의 대단지 아파트 가격 하락폭이 가파르다.  실제 가락동 '헬리오시티' 84㎡의 최근 실거래가는 17억6000만원(12층)으로 지난 8월 거래가격(22억원·23층) 대비 4억원 이상 떨어졌다. 현재 매매호가는 17억원 수준이다. 올림픽파크포레온의 예상 입주 시점이 2025년 1월 인 점을 고려하면 이 단지가 신축 아파트인점을 고려하더라도 주변 시세 대비 가격 이점이 떨어질 수 있다는 것. 입주 시점의 가격은 불확실하지만 예상보다 높은 분양가로 인한 오랫동안 자금 부담에 시달릴 수 있다는 점도 걸림돌이다. 올림픽파크포레온에서 중도금 대출이 가능한 평형은 분양가가 최고 10억5000만원인 59㎡(25평형)까지다. 59㎡만 해도 분양가의 20%인 계약금 등을 포함해 최소 3억원 정도의 현금을 갖고 있어야 한다. 중도금 대출이 나오지 않는 84㎡의 경우 최대 10억여원이 필요하다.  이런 상황에서 일반분양으로 풀리는 물량의 상당수가 선호도가 떨어지는 평형, 층수에 집중돼 있어 예비 청약자들 사이에서 논란  거리다. 재건축을 통해 짓는 단지는 분양 우선권이 사업의 주체인 조합원에게 있다. 조합원 몫을 빼고 남는 물량중 다소 선호도가 떨어지는 것들이 많다는 것. 실제 올림픽파크포레온에선 소형 주택형은 선호도가 높은 로열층도 있지만 84㎡는 주로 저층에 배치됐다. 특히 84㎡E 타입은 옆집과 주방을 2m 정도 간격으로 마주 보게 설계돼 '주방 뷰' 논란을 낳았다. \\n]\", '[\\n실수요 맞지 않는 소형평수 집중다자녀·노부모 전형 무더기 미달\\n\\n\\n\\n올림픽파크 포레온 견본주택 모습.    &lt;사진=연합뉴스&gt;    서울 부동산 시장의 향방을 보여주는 바로미터로 꼽히는 강동 둔촌주공아파트 재건축사업(올림픽파크 포레온)의 특별공급(특공) 모집에서 무더기 미달이 발생했다. 시장 한파와 고분양가 등이 원인이라는 해석이 우세하지만, 특공 물량이 모두 소형 평수로 나왔고, 실제 수요와 맞지 않는 등 제도의 문제라는 지적도 나온다.6일 한국부동산원 청약홈에 따르면 전날 진행된 올림픽파크 포레온 특공 모집 결과 1091가구 모집에 3580명이 접수해 평균 경쟁률 3.3대 1의 경쟁률을 기록했다. 다만 다자녀가구와 노부모 부양 전형은 모집 세대를 채우지 못해 미달이 발생했다.특공 전형별 경쟁률은 △신혼부부 1.49대 1 △생애최초 10.15대 1 △다자녀가구 0.72대 1 △노부모부양 0.74대 1 △기관추천 0.74대 1로 집계됐다. 공급물량이 많을수록 경쟁률이 낮은 것이 보통이지만, 올림픽파크 포레온은 신혼부부(507세대)와 생애최초(254세대)에 비해 공급물량이 적은 기관추천(206세대), 노부모부양(62세대), 다자녀가구(62세대) 전형에서 미달이 나왔다.전문가들은 올림픽파크 포레온의 특공 물량이 모두 전용면적 29~49㎡ 소형 평수로 공급되면서 미달이 발생한 것으로 분석했다. 3인 이상의 자녀가 있는 세대부터 신청이 가능한 다자녀가구 전형과, 3년 이상 노부모를 부양한 가구를 대상으로 실시해 평균 연령대가 높고 세대원이 많은 노부모부양 전형에는 소형 평수가 적합하지 않다는 것이다.앞서 서울에서 청약한 단지들을 봐도 1~2인 가구로 구성된 신혼부부와 생애최초 전형은 소형 평수에 대한 수요가 있었지만, 다자녀가구와 노부모부양은 가구 크기가 커질수록 경쟁률이 높아지는 양상을 보였다.지난달 14일 특공 청약을 받은 \\'리버센 SK뷰 롯데캐슬\\'은 다자녀가구 전형에서 59㎡는 모두 미달됐고, 70㎡형은 마감에 성공했다. 노부모부양 역시 올림픽파크온보다 넓은 59~70㎡이 배정되며 1.6대 1의 경쟁률을 기록했다. 이런 수요와 공급의 불균형은 정부가 중도금 대출 기준을 12억원으로 늘린 것과 달리 특공 기준은 9억원 이하 주택으로 유지하면서 발생했다. 올림픽파크 포레온은 59㎡형도 9억원을 넘기면서 특공 물량이 모두 49㎡ 이하로 구성됐다.함영진 직방 빅데이터랩장은 \"최근 청약제도가 너무 자주 바뀌고 주거정책과의 일관성도 사라지면서 기준에 대한 혼선과 공급 불균형을 초래하고 있다\"며 \"같은 생애최초, 신혼부부 전형에서도 단지에 따라 소득, 자산 기준이 상이한 경우도 있다\"고 지적했다.현재 정부가 특공 제도 개편을 추진하고 있지만, 생애최초와 신혼부부 전형 물량을 축소하고 산업단지 종사자, 해외 근로인 전형을 신설해 중장년층의 역차별 논란 해소에만 초점이 맞춰져 있어, 특공 물량의 면적과 전형별 배정 세대수 구체화 등으로 개편 방향을 바꿔야 한다는 지적도 나온다.현행법상 특공 물량은 전체 세대수의 10%대다. 세대수로만 기준을 제시해 면적에 상관없이 세대수만 확보하면 지자체의 분양허가를 받을 수 있다. 건물의 용적률이 정해진 상황에서 소형 평수를 여러 채 확보하는 것이 공급자에게 유리하다. 가격 조건이 9억원 이하를 충족한다고 하더라도 특정 면적에서 특공 물량을 필수로 배정할 필요는 없다는 것이 건설업계 관계자들의 설명이다. 부동산 가격 급등 전 설계를 마친 올림픽파크 포레온 역시 소형 평수만으로 이뤄진 단지를 조성하는 방식으로 특공 물량을 채웠고, 올해 분양한 서울 아파트 단지들 모두 대부분의 특공 물량이 59㎡ 이하 평형에 집중됐다. 부동산 전문가들은 이날 특공을 진행한 장위자이 레디언트는 다자녀가구 전형 대다수가 72㎡로 배정돼 올림픽파크 포레온보다 높은 경쟁률을 보일 것으로 예상했다. 서진형 경인여대 교수(MD비즈니스학)는 \"특공 제도는 전형별 수요자와 모수를 먼저 조사하고, 해당 전형의 수요자들이 필요로 하는 면적을 배정해야 한다\"며 \"지금처럼 시류에 따라 제도를 땜질하는 방식으로는 부족하다\"고 말했다.        \\n\\t\\t]', '[\\n■\\xa0경제와이드 모닝벨 \\'이슈분석\\' - 진행 : 강산 /\\xa0출연 : 두성규 前 한국건설산업연구원 선임연구위원부동산 시장이 꽁꽁 얼어붙은 가운데\\xa0청약 대전이 열렸습니다.\\xa0단군 이래 최대 재건축 단지라 불리는\\xa0강동구 둔촌동 \\'올림픽파크 포레온\\'과\\xa0성북구 장위뉴타운 중 4구역에\\xa0\\'장위자이 레디언트\\'가 그 주인공인데요.\\xa0청약 전부 기대와 우려가 뒤섞인 가운데\\xa0뚜껑이 열렸지만 특별공급에서\\xa0일부 미달 사태가 벌어지면서\\xa0시장 상황을 고스란히 반영했다는 평가입니다.\\xa0둔촌주공은 완판에 성공했지만\\xa0모두 계약에 나설지도 미지순데요.\\xa0과연 무슨 일이 일어난 걸까요.\\xa0올해 마지막 남은 청약 시장 짚어보겠습니다.\\xa0Q.\\xa0공급 부족에 시달리는 서울 내에\\xa0오랜만에 대단지 청약이 시작됐습니다.\\xa0실수요자들의 관심이 뜨거운데요. 일단 둔촌주공이 먼저 청약을 시작했는데\\xa0예상보다 실적이 저조합니다.\\xa0특공 중 일부가 미달 사태가 났고요. 1순위도 예상에 비해 경쟁률이 낮아요?- 이번 주 분양 단지, 공급부족 서울에 모처럼 대단지- 수도권 청약시장 회복 \\'가늠자\\'…고금리·분양가 변수- \\'서울 최대 재건축 단지\\' 둔촌주공 분양에 \\'빨간불\\'- 둔촌주공, 1순위 청약도 흥행 실패…\"생각보다 좁네\"- 두 자릿수 청약 경쟁률은 전용 29㎡A뿐…12.8대 1- 특공 1,091가구 모집에 3,580명 신청…평균 3.28대 1- 전용 49㎡ 다자녀 가구 전형 62가구에 45명만 신청- 3명 이상 자녀 가구, 작은 면적 거주 무리 판단 분석- 고금리·고분양가 부담에…둔촌주공, 미계약 속출 우려- 둔촌주공 특공 미달에 내년 분양시장 전망도 \\'흔들\\'- 순위 내 마감으로 완판…흥행은 시장 기대치 하회Q.\\xa0사실 둔촌 주공은 시작하기 전부터\\xa0경쟁률이 치열할 거라는 전망과 함께\\xa0미달될 거라는 얘기도 함께 나왔어요.\\xa0무엇보다 84㎡E형과 59㎡C형의\\xa0부엌뷰가 논란이 됐는데요.\\xa0불투명 유리로 대책을 세우긴 했지만\\xa0불만이 완전히 가라앉은 건 아니에요?- 둔촌주공, 청약 전부터 \"흥행 기대\" vs \"미분양 가능\"- 지하철 5호선 둔촌동역·9호선 둔촌오륜역 \\'더블 역세권\\'- 대규모 단지에 위례·둔촌초에 중·고까지 \\'학품아\\' 장점- 많은 물량, 청약 가점 낮은 무주택자 내 집 마련 기회- 예상보다 높은 분양가…선호도 높은 동·층 물량 소량- 84㎡E형·59㎡C형 \\'주방뷰\\' 논란…집 간격 2.6m 수준- 조합 측 \"불투명 유리 적용, 인접 세대 시선 차단할 것\"Q.\\xa0중도금 대출도 다소 아쉽다는 반응입니다.\\xa084㎡ 평형은 분양가가 12억원이 넘으면서\\xa0중도금 대출이 불가한데요.\\xa0현금을 보유한 사람들은 관심을 보이고 있지만\\xa012억원이 넘는 금액을 현금으로 보유한\\xa0일반 시민이 얼마나 있을지도 의문이에요?- 모델하우스, \\'84㎡A형\\' 인기 실감…중도금 대출 불가- 중도금 대출기준, 분양가 9억 원→12억 원으로 상향- 둔촌주공 59㎡까지만…장위자이 84㎡이상 대출 가능- 분양가 10억 기준 중도금 6억 납부…4억 대출 가능- 계약금 20%·중도금 일부 등 청약자 스스로 마련해야- \\'2년간 실거주\\'도 변수…잔금 부족해도 임대 불가- 주담대 금리 8% 육박…중도금 대출돼도 \\'이자 폭탄\\'Q.\\xa0어제는 장위자이 레디언트 특공도 시작됐습니다.\\xa0하지만 청약 전부터 주변 시세와\\xa0차이가 없다는 점이\\xa0둔촌 주공에 비해 메리트가 크게 떨어졌는데요.\\xa0어제 특공 결과 어땠나요?- 청약통장 꺼내는 실수요자들…둔촌- 장위 놓고 \\'저울질\\'- 장위자이 레디언트 특공 경쟁률 \\'5대1\\'…일부 또 미달- 생애최초 전용 59㎡B 44대 1 기록…가장 높은 경쟁률- 다자녀 전용 59㎡B, 12가구 배정에도 접수는 1명뿐- 단 한 건도 신청 없는 전형, 다자녀 포함 총 12건- 장위자이 레디언트, 일반분양 전체 분양가 12억 이하- 중도금 대출 가능·이자 후불제 등에도 청약 신청 저조Q.\\xa0올해가 한 달도 남지 않았지만\\xa0서울을 비롯해 수도권에\\xa0연이어 청약이 대기하고 있습니다.\\xa09일부터는 강동 헤리티지 자이가\\xa0입주자 모집 공고문이 공개될 예정인데요.\\xa0일반 분양 물량은 적지만 평당 분양가가\\xa0둔촌 주공보다 낮아서 주목을 받고 있어요?- 둔촌주공 안되면 강동헤리티지자이…평당 2,945만 원- 둔촌주공 평균 분양가 3,829만 원…장위자이 2,824만 원- 지하 2층~지상 33층·8개 동, 총 1,299가구 규모- 일반분양, 전용 59㎡만 배정…분양가는 7억 원대 추정- 업계 \"일부 저층은 6억 원대에도 청약할 수 있을 것\"- 지하철 5호선 길동역- 굽은다리역 사이…도보 10분↑- 2028년 9호선 개통 예정…여의도 등 접근성 향상 기대- 단지 북측 초등·중학교 도보 이용…한영외교 등 인근- 현재 분양가, 주변 시세 대비 약 3억 원 저렴한 수준Q.\\xa0불패라던 서울 청약도 점점 늘어가는 추세입니다.\\xa0정부가 규제 완화 대책을 내놓고\\xa0앞으로 추가 완화를 예고하고 있는데도\\xa0시장은 꿈쩍을 하지 않는데요.\\xa0한때 백 몇십대 일을 이뤘는데\\xa0어떻게 된 일인가요?- 부동산 시장, 매매가격·심리·거래 건수 모두 최악 수준- 정부, 8월부터 규제완화책 마련…연착륙 효과 \\'글쎄\\'- 전문가 \"금리인상 폭 줄어도 상단 몰라 불확실성 계속\"- 전국·수도권·서울 아파트값, 지난주 최대 낙폭- 서울 아파트 매매수급지수 66.7…10년 5개월 만 최저- 11월 서울 아파트 거래량 총 555건…역대 최저 기록- \\'꽁꽁\\' 언 부동산 시장, 정부 대책에도 \\'백약이 무효\\'- 연내 등록임대사업자 제도 개편·안전진단 완화 시사- 규제완화책 \\'블랙홀\\' 된 금리인상…모든 효과 무력화Q.\\xa0내년까지 5%대 고물가가 이어질 것으로 예상되면서\\xa01월 금통위에서도 금리가 인상될 것으로 보입니다.\\xa0베이비스텝 전망이 높습니다만\\xa0차주들에게는 부담이 될 수밖에 없어요.\\xa0정부에서 금리 인하를 압박하고 있지만\\xa0은행 입장에서도 어쩔 수 없는 상황이에요?- \"내년 초까지 5%대 고물가\"…새해 또 베이비스텝 전망- 11월 소비자물가 상승률 5.0%…전월보단 0.7%p 하락- 5% 고물가 \\'금리인상\\' 기준선…상반기까지 긴축 전망- 이창용 \"물가 5% 이상이면 물가부터 잡아야\"- 한은 \"국제 유가 등 원자재 가격 등 불확실성 커\"- 금리인상 속도, 미 연준 속도 조절 가능성에 다소 여유- 4대 은행 신용대출 금리 6.42%…10개월간 2.01%p↑- 정부, 금리인상 억제 권유…은행들 \"상승 폭 작아도 올려\"Q.\\xa0금리도 금리지만 집값이 더 떨어질거라는\\xa0기대 심리가 커지면서 관망세가 짙어지고 있습니다.\\xa0이런 와중에도 초고가 아파트는 여전히\\xa0신고가를 세우며 양극화가 커져가고 있는데요.\\xa0정부도 연착륙을 고민하고 있지만\\xa0뾰족한 수가 없어 보입니다.\\xa0하반기 부동산 시장 움직임 전망과 함께\\xa0지금 필요한 대책은 무엇인지 조언 부탁드립니다.- \"집값 더 떨어질 것\" 관망세 짙어지는 부동산 시장- 거래절벽 속 강남권 일부 신고가…양극화 더 심화- 강남구 3.3㎡당 매매가 9천만 원…강북구의 3배 기록- 금리인상 여파, 강남권보다 강북권 집값 더 큰 조정- 출구 보이지 않는 부동산 시장…내년엔 온기 돌까(자세한 내용은 동영상을 시청하시기 바랍니다.)\\n\\t\\t]', '[\\n청약 성적표에 쏠린 눈일반분양 4786가구 초대형 단지교육·교통·녹지환경 입지적 강점실수요자 4만명 청약 도전 전망\\n\\n\\n\\n지난 1일 서울 강동구 둔촌동 올림픽파크 포레온 견본 주택을 찾은 예비 청약자들이 전용 면적 59㎡A 타입을 둘러보기 위해 줄을 서 있다. 3.3㎡(1평)당 분양가가 3829만원으로 9억원을 넘는 59㎡는 중도금 집단대출을 받을 수 있지만, 84㎡는 분양가가 12억원을 넘어 중도금 대출이 어렵다.극심한 거래 절벽으로 ‘부동산 빙하기’라는 말이 나오는 상황에서 분양을 시작하는 매머드급 대단지 서울 강동구 둔촌주공 재건축(올림픽파크 포레온)의 청약 결과에 부동산 업계의 관심이 집중되고 있다. 대다수 전문가들은 분양 완판을 조심스럽게 예상하면서 둔촌주공의 청약 성적표가 내년 부동산시장의 바로미터가 될 것으로 내다봤다.전문가들은 둔촌주공의 분양이 수월할 것으로 보는 이유로 입지적 강점과 초대형 대단지라는 점 등을 꼽았다. 박합수 건국대 부동산대학원 겸임교수는 “둔촌주공의 일반분양 규모는 4786가구로 서울에서 전무후무한 물량이며 사실상 ‘강남 아파트화’된 마지막 랜드마크 아파트”라며 “통상 주거 선택의 기준은 교육, 교통, 주거환경, 편의시설 등인데 교육 면에서 보성고·동북고 등 남학생 학군으로는 전통의 강자며 인근 올림픽선수촌아파트까지 재건축되면 향후 2만여 가구의 미니 신도시급 대단지가 형성된다”고 말했다. 박 교수는 이어 “지하철 5호선 둔촌동역, 9호선 둔촌오륜역을 통해 여의도, 강남에 쉽게 접근할 수 있는 교통 여건은 물론 올림픽공원, 일자산이라는 최고의 녹지 프리미엄이 있다. 종합병원, 백화점 등도 가깝다”고 했다.임병철 부동산R114 리서치팀장은 “요즘 워낙 고금리이기 때문에 매수심리가 위축돼 있지만 미분양까지 우려할 상황은 아니다”라면서 “올해 서울 분양 물건이 워낙 적기도 했고 둔촌주공을 기다리면서 청약통장을 아꼈던 수요자들이 몰릴 것”이라고 예상했다. 임 팀장은 또 “강동구 어느 지역보다 송파구와 가까운 데다 주변 시세와 비교했을 때 분양 가격도 그렇게 높은 수준은 아니기 때문에 전용면적 59㎡, 84㎡는 가격 경쟁력을 갖췄다고 본다. 소형 면적(29㎡·39㎡·49㎡)의 경우 앞으로 월세 수요가 있을 수 있다”고 말했다.전문가들은 둔촌주공이 지난해 청약시장만큼의 인기는 얻기 힘들 것으로 전망하면서도 완판에는 성공할 것으로 봤다. 박 교수는 “부동산시장이 어려운 상황이지만 실수요자 위주로 3만~4만명 정도는 관심을 갖고 청약에 도전할 것으로 예상한다”고 했다.박원갑 KB국민은행 부동산수석전문위원은 “주변 집값이 급락하면서 피부로 느끼는 분양가 자체가 싸지 않고 대출 규제에 금리까지 올라 이전보다는 경쟁률이 낮아질 것”이라면서도 “둔촌주공이 미분양이 나온다는 것은 말이 안 된다. 서울(해당 지역)에서 못 채우더라도 인천·경기(수도권 거주자)에서도 주의 깊게 보고 있기 때문에 1순위에서 채워질 것으로 예상한다. 둔촌주공의 청약 결과가 내년 시장을 전망하는 풍향계가 될 것”이라고 말했다.김인만 김인만부동산경제연구소장은 “고덕보다 입지는 훨씬 좋은데 분양 가격이 고덕 시세보다 저렴한 상태라 가격 경쟁력이 있다고 본다”며 “청약 경쟁률이 아주 높게는 안 나오겠지만 그래도 청약은 무난히 마감될 것으로 본다. 둔촌주공이 분양에 실패하면 부동산시장의 심리적 마지노선이 붕괴되는 것과 같다”고 말했다.한편 지난 1일부터 4일까지 운영된 견본주택에는 1만 3000여명이 다녀가며 둔촌주공에 대한 예비청약자들의 관심을 실감하게 했다. 현장에 나온 현대건설 관계자는 분양 흥행 여부를 묻는 말에 보수적인 입장을 내비쳤다. 이 관계자는 “예비당첨자 내에서 계약을 완료하는 게 목표지만 일부 무순위로 넘어갈 가능성도 있다고 생각하고 준비하고 있다”고 말했다.\\n]', '[\\n\\n\\n\\n\\n아현2구역 조감도 /사진=아현2구역 재건축 조합서울 마포구 아현2구역 재건축으로 공급되는 \\'마포더클래시\\' 일반분양가가 3.3㎡당 평균 4000만원으로 결정되면서, 상대적으로 분양가가  낮은 둔촌주공 재건축(올림픽파크 포레온)과 장위4구역 재건축(장위자이 레디언트) 일반분양 결과가 주목된다. 공사비 인상 등 요인으로 갈수록 분양가가 높아지는 추세에 따라 현재 분양에 나선 단지의 희소성이 부각될 수 있다는 측면에서다.5일 정비업계에 따르면 아현2구역 재건축 일반분양가가 최근 마포구 분양가심사위원회에서 3.3㎡당 평균 4013만원으로 결정됐다. 아현2구역은 지하 5층~지상 25층, 17개동, 총 1419가구 규모로 이중 53가구가 후분양 된다. 전용면적은 84㎡ 단일 평형이다.3.3㎡당 분양가가 4000만원을 넘어서면서 전용 84㎡ 분양가는 13억원 중반대에 책정될 것으로 예상된다. 중도금 대출이 나오지 않고, 후분양 단지여서 입주까지 기간이 짧아 잔금 마련이 부담스러울 수 있다. 조합은 이달 중 분양에 나선다는 계획이다.분양가 4000만원 사례가 등장하면서 둔촌주공과 장위4구역 분양에 관심이 더 쏠릴 가능성도 제기된다. 둔촌주공 3.3㎡당 평균 분양가는 3829만원, 장위4구역은 2824만원으로 아현2구역보다 낮은 수준이다. 둔촌주공의 경우 전용 84㎡는 12억3600만~13억2040만원으로 중도금 대출이 나오지 않지만, 전용 59㎡는 9억9740만~10억6250만원으로 중도금 대출이 나온다. 장위4구역은 전용 97㎡(옛 38평) 중대형 평형이 12억원을 넘지 않아 중도금 대출로 자금을 조달할 수 있다.박지민 월용청약연구소 대표는 \"조합원이 많아 일반분양 물량이 적은 정비사업의 경우 조합의 이익을 위해 후분양으로 가격을 높게 잡을 수 있다\"며 \"이에 따라 선분양으로 상대적으로 저렴한 가격에 분양하는 단지가 더 귀해지는 것\"이라고 말했다. 다만 \"당장 둔촌주공이나 장위4구역 일반분양 경쟁률이 치솟는 등 직접적인 영향을 미칠 정도는 아니다\"라고 말했다.이날 특별공급을 시작으로 본격적인 청약일정에 돌입한 둔촌주공 청약 당첨 가점은 △전용 84㎡ 50점 전후 △59㎡ 60점대 중반 △49㎡50점 중후반 △39㎡ 50점 후반~60점 초반 등으로 박 대표는 예상했다.둔촌주공은 이날 특별공급에 이어 6일 1순위 해당지역(서울거주 2년 이상), 7일 1순위 기타지역(서울 2년 미만 거주자·수도권 거주자), 8월 2순위 순으로 청약을 진행한다. 당첨자 발표일은 오는 15일, 계약은 내년 1월3일부터 17일까지 이뤄진다. 일반분양 물량은 전체 1만2032가구 중 4786가구다.장위4구역은 6일 특별공급을 시작으로 7일 1순위 해당지역, 8일 1순위 기타지역 청약을 받는다. 당첨자 발표일은 오는 16일, 정당계약은 오는 27일부터 29일까지 3일간 진행된다.\\n]', \"[\\n\\n\\n\\n\\n    (서울=연합뉴스) 서대연 기자 = 4일 오후 서울 강동구 둔촌동에 마련된 둔촌주공아파트(올림픽파크포레온) 견본주택에서 방문객들이 줄을 서고 있다.    강동구 둔촌 주공 아파트를 재건축하는 '올림픽파크포레온'과 성북구 장위 4구역을 재개발하는 '장위자이 레디언트'의 일반분양분은 총 6천116가구로, 전문가들은 이들 대형 단지의 청약 성패가 향후 청약시장 분위기를 점치는 지표가 될 것으로 내다보고 있다. 2022.12.4    dwise@yna.co.kr\\n]\", \"[\\n美 증시 하락… 외국인·기관 순매도달러도 강세로… 환율 26.2원 급등채권시장 PF문제 ‘뇌관’ 재연 우려분양 시작 둔촌주공 향방에 촉각올해 물가 상승에 따른 금리 인상과 경기침체, ‘레고랜드 사태’ 등으로 홍역을 치렀던 한국 금융시장이 12월에 들어서도 아슬아슬한 흐름을 이어가고 있다. 마땅한 상승 모멘텀이 없는 상황에서 코스피와 환율은 작은 이슈에도 반응하고 있다. 채권시장은 가까스로 경색 국면이 풀려가는 모습을 보이고 있지만, 부동산 프로젝트파이낸싱(PF) 문제가 뇌관으로 재연될 수도 있다.  \\n\\n\\n\\n   코스피가 전 거래일(2419.32)보다 26.16포인트(1.08%) 내린 2393.16에 마감한 6일 서울 여의도 KB국민은행 스마트딜링룸에서 직원이 업무를 보고 있다. 뉴시스    6일 코스피는 전일 대비 26.16포인트(1.08%) 하락한 2393.16에 마감했다. 코스피가 2400선이 무너진 것은 종가 기준 지난달 8일(2399.04) 이후 한 달여 만이다. 외국인이 968억원, 기관이 3063억원을 순매도했다. 특히 외국인은 3거래일 연속 코스피에서 순매도 움직임을 보이고 있다. 지난달까지 매수 우위의 모습을 보이던 외국인이 차익 실현에 나선 것으로 해석된다. 전날 뉴욕 증시가 다우지수 -1.4%, 나스닥 -1.93% 등 하락 마감한 것도 영향을 미쳤다. 미국 서비스 업황을 보여주는 ISM서비스 지수가 시장 전망을 상회한 56.5%를 기록했는데, 경기 전망이 좋은 것으로 나타나면서 미국 연방준비제도(Fed·연준)가 12월 연방공개시장위원회(FOMC) 회의에서 큰 폭의 금리 인상에 나설 것이라는 예상이 확산한 결과다.  \\xa0  연준의 공격적인 금리 인상 흐름이 예측되면서 달러가치는 상승, 이날 원·달러 환율 역시 전일 대비 26.2원이나 폭등하며 1318.8원에 마감됐다.  \\xa0  채권시장의 불안감은 아직 가시지 않은 형국이다. 기업어음(CP) 금리는 이날 전날과 동일한 5.54%로 마감했다. 9월부터 이어진 연속 상승세는 멈췄지만 하락 전환하지는 않았다. 국고채 3년물 금리와 무보증 AA-등급 회사채 금리 간 차이인 ‘신용 스프레드’는 소폭 낮아지곤 있지만 이날도 175.4bp(1bp=0.01%)를 기록하는 등 계속 높은 상황이다.  \\n\\n\\n\\n   5일부터 강동구 둔촌 주공 아파트를 재건축하는 '올림픽파크포레온'이 청약 일정에 돌입했다. 사진은 이날 서울 강동구 둔촌동 올림픽파크포레온 견본주택. 연합뉴스    레고랜드 사태로 상당한 타격을 입은 PF 차환 문제가 연말에 다시 불거질 가능성도 배제하기 어렵다. ‘단군 이래 최대 재건축 단지’로 관심을 불러모았던 서울 강동 둔촌주공아파트 재건축(올림픽파크 포레온)은 전날 특별공급 결과 3.28대 1의 평균 경쟁률을 기록했다. 지난 10월 미분양 사태를 불러온 ‘인덕원자이SK뷰’의 특별공급 평균 경쟁률이 3.75대 1이었다. 이날 진행된 1순위 청약에서는 총 3695세대에 1만3647명이 청약해 평균 경쟁률이 3.69대 1이었다. 39㎡의 경우엔 1.04대 1이었다. 둔촌주공 재건축에서 미분양 사태가 날 경우, 다른 PF사업장에 미칠 파장도 상당할 것으로 전망된다. 한국금융연구원에 따르면, 12월 중 도래하는 PF 유동화증권 만기 규모는 9조8000억원이다.\\n]\", \"[\\n\\t\\t\\t[앵커]\\xa0부동산 시장은 침체됐지만 역대 최대 재건축 사업인 둔촌주공에 대한 관심은 그 어느 때보다 높습니다.\\xa0오늘(5일)부터 청약이 시작된 가운데, 맞은편 집 주방이 들여다보이는 일명 '주방 뷰' 논란이 청약에 어떤 영향을 미칠지 주목됩니다.\\xa0최지수 기자가 견본주택을 다녀왔습니다.\\xa0[기자]\\xa0공사비를 놓고 조합과 건설사 갈등에 공사까지 중단됐던 둔촌주공 재건축 단지. 말 많고 탈 많았던 이 단지가 분양에 나섰습니다.\\xa0단군 이래 최대 재건축으로 일반분양 물량만 4800가구에 달합니다.\\xa0주말 사이에 견본주택은 인산인해였습니다.\\xa0[분양 관계자: (관람객이) 1만 4천 명이 다녀가셨고요. 사전 방문 예약이 이틀 만에 마감될 만큼 관심도가 굉장히 높았습니다.\\xa0(시장의) 소비 심리가 약간 위축돼 있는 상황이긴 한데 (그래도) 저희는 결과는 좋을 것으로 생각하고 있습니다.]수요자들의 관심이 높은 만큼 앞집과 눈 마주치며 설거지한다는 주방 뷰 설계는 청약에 앞서 여전히 논란거리입니다.마주 보는 두 집 간격은 약 2.5미터입니다.\\xa0주방에서 창문을 열면 앞집 주방 창문이 보일 정도입니다.\\xa0일반분양 상당수가 선호도가 떨어지는 저층에 배치한 것과 가장 관심이 큰 84㎡는 분양가가 12억 원이 넘어 중도금 대출을 받을 수 없다는 점이 흥행에 변수로 꼽힙니다.\\xa0수요자들의 높은 관심 속에 진행될 둔촌주공 청약 결과가 반등이냐, 더 깊은 침체냐 향후 부동산 시장의 향배를 엿볼 수 있는 가늠자가 될 전망입니다.\\xa0SBS Biz 최지수입니다.\\n\\t\\t]\", '[\\n기사내용 요약둔촌주공 6일, 장위자이 7일 1순위 청약서울 청약 평균 당첨가점 62점→44점최근 역세권 대단지서 10점대도 당첨\"두 단지 완판 전망…커트라인 50~60점\"\\n\\n\\n\\n[서울=뉴시스] 최동준 기자 = 1일 서울 강동구 올림픽파크 포레온(둔촌주공 재건축 단지) 견본주택을 찾은 시민들이 모형도 설명을 듣고 있다. 2022.12.01. photocdj@newsis.com[서울=뉴시스] 홍세희 기자 = 이번주 서울 강남과 강북에서 대단지 브랜드 아파트가 청약 일정에 돌입한다.\\'단군 이래 최대\\' 재건축사업으로 불리는 강동구 둔촌주공 아파트(올림픽파크 포레온)와 역세권 대단지인 성북구 \\'장위자이 레디언트\\'가 오는 6일과 7일 각각 1순위 청약을 접수한다.올해는 금리 인상 등으로 청약시장도 침체되면서 서울에서 분양한 단지들의 평균 당첨가점도 지난해와 비교해 크게 낮아져 저가점자들도 기대감을 보이고 있다.서울도 청약 열기 주춤…평균 당첨가점 \\'하락\\'지난해까지만 해도 서울에서 대규모 브랜드 단지 청약이 진행되면 완판은 물론 최대 세 자릿수 경쟁률을 기록하는 등 수요자들의 관심이 많았다.그러나 금리 인상과 대출규제 영향으로 청약시장도 침체되면서 올해는 서울 아파트 청약 평균 당첨가점도 뚝 떨어졌다.4일 부동산R114 집계 결과, 지난해 서울 청약 평균 당첨가점은 62점이었는데 올해는 44점으로 떨어진 것으로 나타났다.최근에는 서울 역세권 브랜드 아파트 청약에서 \\'10점대\\' 당첨 가점이 나오기도 했다.지난달 중랑구 중화동 \\'리버센SK뷰롯데캐슬\\' 청약 마감 결과, 국민평형이라 불리는 전용면적 84㎡C형 당첨 최저가점은 18점으로 나타났다. 전용 84㎡B형의 최저가점도 34점이었다.\\'리버센SK뷰롯데캐슬\\'은 SK에코플랜트와 롯데건설 등 대형 건설사가 시공하는 총 1055가구 규모의 대단지로 지하철 7호선 중화역 역세권 입지를 갖췄지만 수요가 많은 전용 84㎡의 최저 당첨가점이 \\'10점대\\'에 그친 것이다.예상 커트라인은?…“50점은 넘어야”이같이 청약 평균 당첨가점이 낮아지면서 전용 85㎡미만 물량을 100% 가점제로 뽑는 두 단지에도 저가점자들의 관심이 이어지고 있다.서울은 투기과열지구라 전용 85㎡미만은 100%로 가점제로 뽑는다. 전용 85㎡초과는 가점제 50%, 추첨제 50%로 당첨자를 가린다. \\n\\n\\n\\n[서울=뉴시스] \\'장위 자이 레디언트\\' 견본주택 내부 모습.다만 둔촌주공은 일반분양에 전용 85㎡초과 물량이 없고, 장위자이 레디언트는 전용 97㎡가 15가구만 공급될 예정이어서 대부분이 가점제 물량이다.전문가들은 금리 인상 등으로 청약시장 분위기가 예전 같지 않지만 두 단지 모두 오랜만에 공급되는 역세권 대단지인 만큼 완판은 가능할 것으로 보고 있다.둔촌주공은 \\'강남4구\\'로 불리는 강동구 둔촌동에 공급된다. 도보 10분 거리에 지하철 5호선 둔촌동역과 9호선 둔촌오륜역이 있어 두 역을 모두 이용할 수 있는 더블역세권 입지를 갖추고 있다.함영진 직방 빅데이터랩장은 \"올해 서울 공급이 많지 않았는데 둔촌주공은 오랜만의 준강남권 물량이고, 일반분양 세대수도 많아 완판은 가능할 것\"이라고 분석했다.이어 \"지난해 9월과 이달 강동구에서 분양한 단지의 청약결과로 추정해보면 둔촌주공 커트라인은 50점은 넘어야 할 것으로 보인다\"고 말했다.윤지해 부동산R114 수석연구원은 \"둔촌주공의 커트라인은 40~50점대가 될 것으로 예상된다\"며 \"안정권은 50점대 후반은 돼야 할 것\"이라고 내다봤다.장위자이 레디언트는 지하 3층~지상 최고 31층, 31개동, 총 2840가구의 대단지로 일반분양 물량은 1330가구다. 장위뉴타운 남쪽에 위치하며 지하철 6호선 돌곶이역 역세권이다.함 랩장은 \"장위자이 레디언트는 성북구에서 지난해 11월 이후 처음으로 공급되는 단지로 순위내 청약 마감은 가능할 것으로 보인다\"며 \"지난해 분양한 단지의 커트라인보다는 조금 떨어질 수 있겠지만 50~60점대는 돼야 할 것으로 보인다\"고 말했다.변수는 분양가와 중도금 대출 여부다. 집값이 하락하는 시기라 두 단지 모두 분양가가 주변 시세와 별 차이가 없다는 분석이 많다.대출은 둔촌주공의 경우 수요가 가장 많은 전용 84㎡는 분양가가 12억 원을 넘겨 중도금 대출 보증이 불가능하다. 반면 장위자이 레디언트 분양가는 전용 84㎡ 기준 약 9억 원대로, 전 평형 중도금 대출이 가능하다.\\n]', '[\\n\\t\\t\\t  [파이낸셜뉴스] 전국 건설현장의 셧다운 위기감이 다시 고조되고 있다. 정부가 업무개시명령으로 시멘트 출하율을 끌어올려 주요 건설 현장의 숨통이 트였지만, 민주노총 산하 전국건설노동조합이 화물연대와 동조 파업카드를 꺼내들면서 안도감이 불안감으로 바뀌고 있다.   5일 정부와 건설업계에 따르면 서울 강동구 둔촌주공(올림픽파크 포레온)아파트 공사 현장의 일부가 콘크리트 타설에 들어갔다. 화물연대 파업으로 타설 공정이 전면 중단된지 약 일주일만이다. 둔촌주공은 지하 3층~지상 35층, 85개동에 1만2032가구의 대규모 단지다. 둔촌주공 시공사업단 관계자는 \"지난달 정부의 업무개시명령 이후 지난 2일 일부 타설이 재개됐지만, 업무개시명령에 불복한 화물연대측이 공장 입구를 막으면서 다시 중단됐었다\"며 \"향후 일정이 아직 불확실해 완전 정상화까지는 시간이 더 걸릴 것\"이라고 말했다.   화물연대 파업 첫날인 지난달 24일부터 29일까지 시멘트 출하량은 평시 대비 5~10%에 그쳐 전국 대다수 건설 현장이 멈춰섰다. 이후 정부가 시멘트 분야 업무개시명령을 발동해 출하량은 80% 수준으로 회복되는 등 일부 건설 현장이 정상화 수순을 밟고 있다.   하지만 건설노조가 복병으로 등장했다. 민노총 건설노조 부산·울산·경남본부는 이날 타설노동자 1000여명의 동조파업을 시작으로 6일부터 본격적인 파업에 돌입하기로 했다. 오는 8일부터는 레미콘과 콘크리트 펌프카 노동자 3500여명이 파업에 가세한다.   대형건설사 관계자는 \"업무개시명령 전 시멘트 출하율 10% 수준에서 50% 수준까지 향상됐지만, 여전히 절반 가량의 수급부족현상은 지속되고 있다\"며 \"민주노총과 건설노조 동조 파업이 현실화될 경우 업무개시명령에도 건설 현장 피해는 지속될 것\"이라고 우려했다.   중견 건설사의 관계자도 \"화물연대 파업에 따른 현장 상황은 겨우 수습하고 있는데, 건설노조가 파업에 나서면 공사현장은 다시 중단될 것\"이라고 내다봤다.   정부는 화물연대와 마찬가지로 건설노조의 불법행위에 대한 강경대응을 예고했다. 이날 원희룡 국토교통부 장관은 건설노조 파업을 앞두고 부산의 한 공동주택 공사현장을 방문한 자리에서 \"국민의삶과 국가 경제를 볼모로 한 화물연대 집단운송거부에 더해 건설현장을 더 큰 어려움에 빠뜨리는 행위\"라며 \"업무방해, 채용강요, 금품 요구 등 건설노조 불법행위에 대해 법에 따라 엄중 대처할 것\"이라고 강조했다.   정부는 또 업무개시명령을 발부받은 시멘트 화물차 기사의 운송재개 여부를 확인하는 현장조사에 착수했다. 이날 업무에 복귀해야 하는 화물차 기사 455명이 대상이다. 만약 업무재개를 하지 않은 것으로 확인되면 30일 이하 운행정지(1차 불응), 화물운송자격 취소(2차 불응) 등 행정처분에 더해 형사처벌을 위한 고발조치를 한다는 방침이다. 이르면 6일 국무회의에서 정유분야 등에 추가 업무개시명령을 내리는 방안도 검토 중이다.\\n\\t\\t]', '[\\n둔촌주공, 3개월만에 검증 개시 예정… 신반포는 서류 보완 중최초 제출일부터 평균 160일 걸려물가 계속 오르는데… 건설사들 “비효율적”        원자재 가격과 인건비 상승 등으로 인상하게 되는 공사비에 대한 검증 요구가 느는 가운데, 조합은 물론 건설업체 사이에서 검증 기간이 너무 길다는 불만이 터져 나오고 있다. 서류를 제출한 이후 최종 결과가 나오기까지 평균 5개월이나 걸리는 여파로 사업이 지연된다는 것이다.5일 정비업계에 따르면 둔촌주공 재건축 조합은 지난 2일 한국부동산원이 요구한 공시비 검증 비용을 납부했다. 부동산원은 조만간 본격적인 검증을 개시할 예정이다.둔촌주공 조합은 지난 9월 하순 한국부동산원에 공사비 검증에 필요한 서류를 제출했다. 시공사가 요구한 추가 공사비 1조1300억원에 대한 검증이다. 이후 추가 필요 서류 작업에만 3개월 가까이 걸렸다. 본격적인 검증에 착수되면 법적으로 정한 기준에 따라 60~75일 사이에 검증이 끝난다.\\n\\n\\n\\n서울 강동구 둔촌주공아파트 재건축 현장 모습. /연합뉴스        최근에 부동산원에 공사비 검증을 요청한 신반포4지구 조합은 정식 접수 상태가 아니라 제출까지만 완료된 상태다. 부동산원은 미비한 서류가 있는지 검토 중이다. 김학규 신반포4지구 조합장은 “최대한 많이 준비해서 서류를 제출했다”면서 “기간이 오래 걸리면 건설사와 조합 서로 간에 문제가 생길 수 있어 신경을 많이 쓰고 있다”고 했다.여러 사업장에서 공사비 검증을 요구하는 상황이지만, 일 처리는 생각만큼 빠르질 못하다. 허종식 더불어민주당 의원실이 부동산원에 요청한 자료에 따르면 서류 제출일이 아닌 ‘접수일’부터 최종 회신일까지는 국토부가 정한 기준인 사업장 규모에 따라 60~75일 내인 65일이 소요됐다. 그러나 최초 ‘제출일’ 이후 서류 보완 등을 거쳐 최종 회신일까지는 평균 160일 걸리는 것으로 나타났다. 5달도 더 걸리는 셈이다.업계에서는 이 기간이 지나치게 길다는 불만이 나오고 있다. 한국건설산업연구원이 정비사업 분양실적 기준 상위 10개 시공사 실무자를 대상으로 설문 조사한 결과 검증절차 이행에 지나치게 오랜 시간이 소요돼 사업 지연이 발생한다는 것이 가장 큰 문제로 꼽혔다.이태희 건산연 부연구위원은 “검증 결과는 조합과의 공사비 증액 협상에 매우 중요한 기준점이기 때문에 건설사 입장에서는 감액당하지 않기 위해 신청 전 서류 작성에 많은 시간과 노력을 들인다”면서 “실무자들 인터뷰에 따르면 공사비 검증을 완료하는 데 1년 가량 소요되는 사업장도 있다”고 말했다.건설사들은 공사비 검증 과정이 비효율적이라는 주장도 내놓고 있다. 예를 들어 부동산원은 입찰 당시 공사비 내역이 현재 존재하지 않은 사업장에 대해서도 설계도나 내역서의 전후 비교를 통해 적정성을 검토하고 있다. 이를 검증 요청 당시의 설계도와 내역서에만 기반해 검증하는 방식으로 절차를 효율화해야 한다는 주장이다.부동산원은 최근 많아진 업무에 맞춰 관련 조직의 인원까지 늘리면서 대응 중이지만, 제출된 서류에 부족한 것이 많아 정식 접수 전 서류 보완 과정에 시간이 많이 든다고 설명한다. 일각에서는 건설업체들이 증액을 지나치게 요구하고 있는 것 아니냐는 의견도 있다.이 연구위원은 “검증 기간을 얼마나 줄일 수 있느냐는 제도 설계를 다시 해봐야 알 수 있는 부분이라 지금 상태에서 알기 어렵지만, 현장에서는 조합과 시공사와의 갈등 등 많은 부작용이 발생하고 있으니 근본적인 개선이 필요하다”고 했다.\\n]', '[\\n둔촌 주공·장위 4구역 6천여가구 내일부터 일반분양서울 청약경쟁률 164대 1→21대 1…집값 하락에 이자후불제까지당첨일 달라 중복 청약 가능…\"분양시장 바로미터될 것\"(서울=연합뉴스) 서미숙 기자 = 이번주 서울에서 청약을 받는 2개 대단지 아파트에 부동산 시장의 눈과 귀가 쏠려 있다.    대규모 단지인 강동구 둔촌 주공 아파트를 재건축하는 \\'올림픽파크포레온\\'과 성북구 장위 4구역을 재개발하는 \\'장위자이 레디언트\\'가 그것으로 일반분양분만 6천가구가 넘는 데다, 집값 하락으로 청약시장이 얼어붙은 가운데 나오는 물량이라 그렇다.    전문가들은 이들 대형 단지의 청약 성패가 향후 청약시장 분위기를 점칠 수 있는 \\'바로미터\\'로 보고 있다.\\n\\n\\n\\n둔촌주공 견본주택에 몰린 인파     (서울=연합뉴스) 류효림 기자 = 1일 서울 강동구 둔촌동 일원에 문을 연 둔촌주공아파트(올림픽파크포레온) 견본주택에서 시민들이 입장을 기다리고 있다. 2022.12.1     ryousanta@yna.co.kr(끝) 집값 하락에 추락한 청약경쟁률…상한제 가격 매력도 반감    4일 부동산R114에 따르면 올해 전국 아파트 청약경쟁률은 평균 7.93대 1로, 지난해(19.79대 1) 대비 반토막이 났다.    과거와 같은 집값 상승기에 시세 차익을 노려 무조건 청약받고 보자는 \\'묻지마 청약\\'이 사라진 결과다.    특히 서울은 분양가 상한제 개편, 공사비 분쟁 등으로 주요 정비사업 단지들의 분양이 미뤄진 가운데, 청약 경쟁률이 지난해 평균 164.13대 1에서 올해 21.91대 1로 7.5배 가까이 낮아졌다.    치솟는 금리로 대출 이자 부담이 커진 데다 집값 하락 여파로 가격 경쟁력마저 사라졌기 때문이다.     특히 최근 아파트값 하락으로 분양가 상한제 대상 아파트조차 분양가가 주변 시세보다 높은 단지가 늘면서 \\'청약 불패\\' 신화를 이어온 서울에서도 청약 흥행을 걱정할 처지에 놓였다.    이달 6일 특별공급에 들어가는 장위자이 레디언트는 전용면적 84㎡의 분양가 상한제 분양가가 9억3천만원부터 10억2천만원에 책정됐다.    예전 같으면 주변 시세보다 낮은 가격이지만 최근엔 집값 하락으로 바로 인근에서 지난해 입주한 성북구 장위동 래미안장위포레카운티 전용 84㎡의 매물 시세가 8억5천만∼9억5천만원까지 떨어졌다. 분양가보다 주변 아파트 시세가 싼 것이다.     강동구 둔촌 주공은 분양가가 주변 시세보다 낮아 시세차익이 예상되지만 체감 분위기는 별반 다르지 않다.    이 아파트 전용 84㎡는 분양가는 12억9천600만∼13억1천만원대로 행정구역이 다른 인근 송파구 가락동의 헬리오시티 아파트 전용 84㎡의 매물(17억∼20억원)보다 싸지만 같은 강동구의 성내동 성내올림픽파크한양수자인 시세(14억∼16억원)와는 큰 차이가 없다.     분양가에 포함되지 않은 옵션비용과 세금, 상한제 아파트에 2년 거주의무기간과 8년 전매 금지 제한을 고려하면 크게 매력적인 가격은 아니라는 평가가 나온다.    정부가 아파트 분양가 중도금 대출 보증을 종전 9억원에서 12억원으로 확대하면서 장위 레디언트는 전체 분양 물량이 모두 중도금 대출을 받을 수 있다. 둔촌 올림픽파크포레온은 전용 59㎡ 이하만 중도금 대출이 된다.    장위자이 레디언트는 주변 아파트 시세보다 분양가가 높은 점을 고려해 서울에서 그간 보기 힘들던 이자후불제를 적용하기로 했다.    계약금 10%만 내면 중도금 50%를 이자 후불제로 빌려주는 것이다. \\n\\n\\n\\n장위자이 레디언스 모델하우스 모습[GS건설 제공. 재판매 및 DB 금지] 서울서 드문 이자후불제까지…\"과거만큼 청약과열은 없을 것\"    부동산 전문가들은 둔촌 주공과 장위자이 레디언트의 청약결과가 최근 침체한 분양시장에 불씨를 살려줄 것인지 주목하고 있다.    청약에 이어 계약까지 성공할 경우 얼어붙은 분양 심리가 다소 회복될 수 있겠지만 실패할 경우 후폭풍도 만만치 않을 것이라는 관측이 나온다.    두 단지의 일반분양분은 둔촌 주공이 4천786가구, 장위 레디언트가 1천330가구 등 총 6천116가구에 이른다.    특히 두 단지를 필두로 올해 말부터 내년 초까지 서울 정비사업 단지의 일반분양이 줄줄이 이어질 예정이어서 이들 아파트의 청약 결과에 대한 관심이 뜨겁다.     지난 1일 공개한 두 아파트 모델하우스에는 코로나와 한파에도 하루 3천∼4천명 수준의 방문객이 몰리며 높은 관심을 반영했다.    전문가들은 서울에서 보기 드물게 많은 물량이 공개되면서 대기 수요자들의 청약이 몰릴 것으로 보고 있다.     특히 두 아파트의 당첨자 발표일이 둔촌 주공은 이달 15일, 장위 레디언트는 16일로 달라 중복 청약이 가능한 만큼 두 곳 모두 공략하는 청약자들도 있을 것으로 전망한다.    다만 계약률은 낙관하기 힘들다는 의견도 적지 않다. 일부 저층과 초소형에서는 미계약 물량이 나올 수밖에 없을 것으로 전문가들은 보고 있다.     국민은행 박원갑 수석부동산전문위원은 \"중도금 대출 가능 금액이 12억원까지로 상향된 이후 서울에서 처음 분양되는 아파트여서 이들 단지의 청약 결과가 앞으로의 분양시장 분위기를 가늠하는 바로미터가 될 것\"이라며 \"이자 부담과 집값 하락으로 인해 과거만큼 청약열기가 뜨겁게 달아오르진 않을 것\"으로 예상했다.    sms@yna.co.kr\\n]', '[\\n■ 프로그램명 : 통합뉴스룸ET■ 코너명 : ET WHY?■ 방송시간 : 12월6일(화) 17:50~18:25 KBS2■ 출연자 : 이현철 아파트사이클연구소장■ &lt;통합뉴스룸ET&gt; 홈페이지https://news.kbs.co.kr/vod/program.do?bcd=0076&amp;ref=pMenu#20221206&amp;1 [앵커]먼저 당첨되고 나중에 고민한다. 주택 청약 시장에서는 이 선당후곰이라는 말이 한동안 유행이었습니다. 하지만 이제는 아닙니다. 선곰후당으로 분위기가 급전환됐습니다. 청약 접수가 시작된 국내 최대 규모 재건축 단지, 둔촌주공 아파트도 예외가 아닙니다. 서울은 청약불패라든 말, 이제는 옛말이 되는 걸까요? 이현철 아파트사이클연구소장에게 여쭤보겠습니다. 소장님, 안녕하세요? [답변]안녕하세요? [앵커]그 말 했던 둔촌주공, 싸우는 거 끝난 겁니까? [답변]그렇죠. 이제 분양을 시작했으니까 어느 정도 합의를 해서 뭔가 결과가 도출된 거라고 봐야죠. 그러니까 지금 싸움을 멈추지 않았나, 이런 생각이 듭니다. [앵커]그동안 많은 사람들이 카타르 월드컵에 관심이었지만 주택 시장에서는 이 둔촌주공이 월드컵이었어요. [답변]그렇죠. 맞습니다. [앵커]여기 들어가야 되냐 마냐. 일단 어제부터 청약 접수가 시작됐는데, 지금 분위기는 좀 어떻습니까? [답변]특공을 했는데, 청약 결과를 보면 3.3:1이 평균치로 나왔고 일부 평형대 같은 경우는 미달도 나올 정도로 좀 생각보다 오히려 분위기가 조금 더 낮아진 게 아닌가, 이런 느낌이 들 정도로 그런 결과가 나왔는데. 지금 보시면 39A 타입 같은 경우 신혼부부한테 배정되는 건데, 301가구가 배정이 되었는데 접수는 90가구만 접수가 되었어요. 그리고 48A 타입 같은 경우는 다자녀 가구에 배정되는 물량인데 62가구가 배정되었는데 45가구가. [앵커]이것도 미달. [답변]예, 지금 접수를 했거든요? [앵커]일단 여기에서 올림픽파크 포레온, 저게 뭔가 싶으실 텐데. 저게 바로 둔촌주공에 새로 지은 아파트 이름입니다. [답변]그렇죠. 새로운 이름이죠. [앵커]그리고 39A면 한 15평 정도, 과거 단위로 하면. 48A면 19평 정도인데. [답변]19~20평 정도 되죠. [앵커]여기에서 다자녀면 자녀가 3명 이상인데, 엄마·아빠까지 5명이 19평에 어떻게 살죠? 이래서 미달 난 거 아니에요? [답변]사실 그런 측면이 좀 많이 있습니다. 옛날 상승장에도 이런 일이 좀 벌어졌었는데, 상승장에서는 미달됐다가 나중에 다 분양되고 사실 가격도 올라갔어요. 그래서 그런 경우는 또 꾸역꾸역 어떻게든 가격이 올라가니까 사는데, 지금 같은 경우는 좀 시기가 불안하니까. [앵커]그렇죠. [답변]사실 5명이 이런 평형대에 살아야 돼? 이런 불안감이 더 커지는 거죠. [앵커]어제는 특별공급이었고 오늘부터는 일반공급, 본청약 시작됐습니다. 어떻게 보세요? 이번에는 완판 될까요? 아니면 미분양 날 것으로 보십니까? [답변]사실 특공이 보통 일반분양보다 경쟁률이 좀 높게 나오는 경향이 있거든요? [앵커]그런데 3.3:1이었다면서요? [답변]그렇죠. 그렇게 본다면 일반분양의 경쟁률이 생각보다 높게 나올 것 같지는 않다는 느낌이 좀 나고요. 그다음에 지금 분위기로 봤을 때는 미달도 나올 가능성이 보여지는 상황으로 가고 있습니다. [앵커]그러니까 미분양도 나겠지만 실제 계약 단계에서 미계약도 나올 수 있다까지 보시는 거예요. [답변]그렇죠. [앵커]어쨌든 사람들 입장에서 가장 관심은 이거를 분양 받으면 과연 이게 돈이 될 것이냐, 안 될 것이냐, 그거를 판단할 텐데. 일단 분양가에서 매력을 못 느끼고 있는 걸까요, 이렇게 저조하다는 거는? [답변]지금 일단 분양가가 원래 예정했을 때 분양가는 약 2,900만 원대였거든요? 그런데 이번에 분양가가 정해지면서 3,829만 원으로 책정이 됐단 말이에요. 거의 1,000만 원 가까이 분양가가 상승이 되었는데, 그래서 보면 84㎡의 분양가가. [앵커]둔촌주공. [답변]그렇죠. 12억~13억 원이에요. [앵커]저게 옵션비 뺀 거죠? 확장비 뺀 거죠? [답변]그렇죠. 여기에다 옵션비를 더하면 14억 원까지 나온다, 이런 얘기가 지금 나오고 있는데, 사실 분양가가 비싸냐, 싸냐를 판단할 때는 항상 주변에 있는 비교할 만한 아파트랑 비교를 하거든요? [앵커]그렇죠. 그 대표적인 게 헬리오시티. [답변]그렇죠. 대표적인 게 헬리오시티인데, 헬리오시티가 작년 9월에만 해도 23억을 찍었습니다. 그러면 만약에 예를 들어서 둔촌주공이 작년 9월에 만약에 분양을 이 가격에 했더라면. [앵커]완판 됐겠죠. [답변]사실 거의 10억의 시세 차익이 생기는 분위기거든요? 그러니까 완판 되고도 경쟁률이 엄청 치열했을 가능성이 예상되는데, 문제는 지금 헬리오시티가 17억으로 뚝 떨어졌어요. 그리고 지금 호가가 16억짜리도 나온 상황이거든요? 그러면 지금 이 가격대가 물론 비싼 건 아닙니다. 비싼 건 아닌데 지금 상대적으로 뭔가 여기에서 더 올라갈까에 대한 의문이 생기는 시점이라는 거예요. [앵커]그리고 입주 시기가 2025년이잖아요. [답변]네, 맞습니다. [앵커]지금 사면 그 가격에 돈이 묶여버리는 건데, 2025년에 만약에 헬리오시티가 더 떨어지고 더 그 밑으로 하락한다면 그때는 더 낭패를 볼 수도 있는 그런 상황인 거잖아요. [답변]그렇죠. 중요한 얘기를 하셨는데, 사실 부동산에서 분석을 할 때는 항상 정점으로 분석을 하면 절대 안 됩니다. 이게 추세를 봐야 되는데, 사실 분양가는 고정이 되어 있으니까 비교하기가 좋은데, 주변 옆에, 특히 헬리오시티 같은 경우 지금 추세가 하락 추세라는 거예요. 그러면 내년, 내후년 정도 되면 17억으로 끝날 것이냐, 지금 하락 추세가 이어진다면 헬리오시티 가격이 15억도 장담하지 못하는 가격이거든요? 그렇게 보면 상대적으로 둔촌주공 분양가가 비싼 느낌이 생기게 되는 겁니다. [앵커]한참 집값이 올라가는 상승장에서는 사람들이 구조고 뭐고 별로 신경을 안 쓰잖아요? [답변]그렇죠. [앵커]지금처럼 집값이 하락하는 시기에는 구조 하나하나까지 다 신경을 쓰기 때문에 그 부분에 있어서도 굉장히 민감하게 둔촌주공 아파트를 보고 있는 것 같다는 생각이 들거든요? [답변]그렇죠. 요즘 둔촌주공 얘기만 나오면, 사실 좀 약간 웃자 하는 얘기로 나오는 게 주방 뷰. [앵커]주방 뷰. [답변]그러니까 84㎡ E 타입에 나오는데, 주방이 서로 마주보고 있는, 그리고 거리마저도 거의 한 2.5m 정도의. [앵커]2.5m면 거의 정말 저 그래픽대로 누구네 집, 소금 한 줌만 주세요, 하면 손이 닿을 수도 있는 그 정도 거리라는 얘기예요. [답변]그렇죠. 서로 설거지하다가 창문 열어놓고 하면 얼굴을 바로 지금 아나운서님하고 저처럼 이 정도 거리에서 설거지를 하다가 모자란 게 있으면 소금 좀 주세요, 할 수 있는. [앵커]그러니까 이게 상승장에서는 논란이 되지 않았던 이런 구조 같은 문제가 지금 논란이 된다는 것은 그만큼 가격에 부담을 느낀다는 거고. [답변]그렇죠. [앵커]그래서 미분양까지 지금 예상을 하고 계신 건데, 만약에 둔촌주공 미분양 사태가 벌어진다면요, 본청약에서도. 다른 주변에 미치는 그 부동산 시장의 영향, 전반적인 영향, 이건 어떻게 전망해야 될까요? [답변]사실 지금 전 국민이 어떻게 보면 둔촌주공에 이목을 집중시키고 있는데, 그 이유가 워낙 큰 세대고 그다음에 서울에서 이슈가 된 세대다 보니까 얘의 흥행이 어떤 서울 부동산 시장의 분위기를 좌우할 것이다, 이렇게 보는 거예요. 그래서 지금 청약 분위기가 어느 정도 좀 심하게 얘기하면 참패다, 그러면 서울 부동산 시장을 하락 쪽으로 더 가속시키는 역할을 할 가능성이 있는데, 실제로 예를 들자면 2008년도에 엘리트라는 송파의 굉장히 대단지 아파트가 입주하면서 하락 분위기를 이끌었거든요. 그런 것처럼 둔촌주공도 그런 분위기를 만들어갈 가능성이 있다는 거죠. [앵커]지금 소장님 말씀을 들어보면 사실 지금 둔촌주공, 그러니까 청약에는 안 들어가는 게 낫겠다는 그런 취지로 들리지만 그래도 내가 청약 가점 충분하고 당장 집이 꼭 필요한 분들은 한번 노려봐도 되는 거잖아요? 이런 분들, 만약에 당첨됐을 때 내가 어떤 규제를 받을지도 좀 따져봐야 될 것 같은데. [답변]당첨되고 나면 첫 번째가 전매 제한 규제가 있거든요. 전매 제한이 8년 적용이 됩니다. [앵커]못 팔아요, 그때까지는. [답변]그래서 8년 동안 전매를 할 수 없고, 두 번째 같은 경우는 거주 의무가 생기거든요? 그래서 무조건 2년 동안은 거주를 해야 돼요. 그 의무가 있고 그다음에 중도금 대출이 안 되는 평형대가 있습니다. 그러니까 중도금 대출이 안 되는 가격이 12억이거든요? 그런데 84㎡ 같은 경우는 이제 13억이 넘어가는 평형대이기 때문에. [앵커]대출이 안 된다. [답변]중도금 대출이 안 된다는 점 유의하시기 바라겠습니다. [앵커]그 밑의 평형수는 중도금 대출이 되지만 거의 집이 지어진 상태에서 대출 받는 거라 굉장히 빨리 갚아야 되거든요? [답변]그렇죠. [앵커]그런 어떤 이자 상환 부담 능력까지 같이 감안을 해서 청약을 결정해야 된다. [답변]그렇죠. 그런 부분까지 충분히 감안을 해서 자금 계획을 세우셔야만 할 겁니다. [앵커]알겠습니다. ET WHY, 이현철 소장 함께했습니다. 고맙습니다. \\n\\n\\n\\n https://news.kbs.co.kr/special/danuri/2022/intro.html\\n]', '[\\nGTX-A·규제완화 등 호재에도특별공급 물량 대부분 미달사태미분양 우려 서울로 전이 양상둔촌주공 일반분양 경쟁률 촉각경기 동탄과 파주 아파트 청약에서 대규모 미달 사태가 발생했다. 이들 지역은 수도권광역급행철도(GTX-A) 개통과 부동산 조정대상지역 해제라는 호재를 갖고 있지만 부동산 시장 하락세의 영향에서 벗어나지 못했다. 또 서울에선 강동구 둔촌주공 재건축 특별공급 청약 경쟁률이 예상보다 크게 부진했다. 미분양 흐름이 지방에서 수도권으로 번지는 양상이다.6일 한국부동산원 청약홈에 따르면 금호건설·신동아건설이 동탄2신도시에 공급하는 \\'동탄 어울림 파밀리에\\'에서 대규모 미달이 발생했다. 금호건설·신동아건설은 5일 \\'동탄 어울림 파밀리\\'에 특별공급를 진행해 총 154가구 모집에 나섰지만, 130명만 신청해 평균 경쟁률이 1대 1을 넘지 못했다.호반산업이 경기 파주 운정신도시 \\'호반써밋 이스트파크\\' 특별공급을 진행한 결과도 총 699가구 모집에 79명만 신청해 평균 경쟁률이 0.12 대 1에 그쳤다. 운정신도시는 지난 9월 부동산 조정대상지역 해제로 예비 수요자들로부터 관심을 받을 것으로 기대됐지만, 실제 청약 결과는 저조했다. 업계에서는 청약 경쟁률이 일 대 일을 넘지 못한 단지를 미분양 아파트로 분류한다.비수도권 지역 분양 경쟁률은 더 저조하다. 롯데건설이 강원도 원주시 일원에 공급하는 \\'롯데캐슬 시그니처\\' 특별공급 결과 총 418가구 모집에 32명이 지원하는 데 그쳤다. 극동건설도 경남 진주 \\'백년문화공원 극동스타클래스\\' 특별공급을 통해 76가구 모집에 나섰지만 20명만 참여했다. 이들 단지는 6일 일반분양을 시작했지만, 대규모 미달은 피하지 못할 것으로 전망된다.아파트 미분양은 지난 9월 경기 의왕시 내손동 \\'인덕원자이SK뷰\\'로부터 시작됐다. 당시 업계는 이 단지가 1순위 청약에서 완판될 것으로 예상했지만, 실제 분양률은 30%대에 그쳤다. 이후 미분양 우려가 확산하며 전국 분양 단지에서 1순위 완판 사례가 나오지 않았다.서울 분양시장 최대어라고 평가받는 둔촌주공 재건축 특별공급 역시 평균 경쟁률이 3.2대 1에 머물렀다. 통상 업계에서는 청약 경쟁률이 10대 1을 넘지 못하면 실제 계약까지 이어지지 않아 미분양 발생 가능성이 큰 것으로 보고 있다. 부동산업계 관계자는 \"둔촌주공 일반 분양 결과가 내년 부동산 시장의 방향성을 결정하게 될 것\"이라며 \"조기 완판 시 부동산 시장 훈풍을 기대해볼 수 있지만, 반대의 경우라면 시장 분위기를 더 냉각시킬 것\"이라고 전했다. \\n\\n\\n\\n서울 강동구 둔촌주공 재건축 견본주택 내부 모습 &lt;박순원 기자&gt;    \\n]', '[\\n둔촌주공 다자녀 특별공급 왜 했나요?다자녀특공 무용지물 논란\\n\\n\\n\\n 올림픽파크포레온 견본주택에서 주방이 마주보는 평형을 손님들이 살펴보고 있다.“보나마나 다자녀 특별공급은 미달 뻔한데 왜 만들었나요? 차라리 저거 줄여서 최소한 59㎡(26평) 공급했으면 좋았을텐데, 화가나네요.”6일 올림픽파크 포레온(둔촌주공) 청약이 시작됩니다. 전날 둔촌주공 특별공급이 있었는데요, 전체 1091세대 모집에 3580세대가 지원해 평균 경쟁률 3.3대 1을 기록했습니다. 세부적으로 보면 미달된 곳이 있었습니다. 신혼부부 특별공급 전용39㎡, 노부모 특공 29㎡, 39㎡, 기관특공 39㎡, 다자녀 특공 49㎡는 미달됐습니다. 생애최초 특공은 29~49㎡ 경쟁률이 19대1에 달했습니다.고소득 1인가구는 몰리고 다자녀 가구는 외면생애최초 특공 경쟁률만 유독 높은 것은 1인가구 수요가 몰린 것으로 분석됩니다. 생애최초 특공은 과거에는 결혼한 가구가 지원할 수 있었지만, 1인가구에게 기회를 주기 위해서 2021년 미혼도 지원할수 있도록 바꾸었고 소득 요건도 적용 안하는 물량을 도입했습니다. 생애최초 특별공급 물량의 30%가 이렇게 추첨 물량으로 나옵니다.둔촌주공 분양가는 ▲ 29㎡ 4억9300만~5억2340만원 ▲ 39㎡ 6억7360만~7억1520만원 ▲ 49㎡ 8억2970만~8억8100만원입니다.그동안 소득 제한에 걸려서 청약을 못넣었던 1인가구나 신혼부부 등이 “입지 좋은 대단지 신축에서 살고 싶다”며 둔촌주공 특별공급에 대거 지원한 것으로 보입니다.다자녀, 신혼부부, 기관추천 등에서 채우지 못한 물량은 다른 특공 지원자들에게 기회가 돌아갑니다. 생애최초 특공 지원자들은 미달된 특공 물량을 추첨을 통해서 받을 수 있습니다.다자녀 청약 실수요자들은 “애초에 넣을 수 없는 아파트”였다고 울상입니다. 다자녀 전형은 자녀가 셋인 이상인 세대가 신청합니다. 이번에 둔촌주공 다자녀 특공으로 나온 49㎡는 투룸입니다. 아이가 셋인 주부 이모씨는 “정부가 다자녀 가구를 배려해서 특공을 주는건데, 이건 다자녀 가구에게 오히려 고통을 주는 것”이라면서 “다섯식구보고 투룸에서 살라는게 말이 되냐”고 분통을 터뜨렸습니다. 전매제한 8년이라 8년간 팔수도 없고, 실거주 의무 2년이어서 무조건 2년간은 이곳에서 살아야합니다.초소형 평수인데도 다자녀 특공 경쟁률이 치솟은 적은 있습니다. 2020년 개포프레지던스자이 특별공급때는 전용 39㎡ 5가구 모집때 133세대가 지원했습니다. 분양가가 당시 시세의 절반이어서 높은 시세차익을 기대할 수 있어서 지원자가 몰렸지만, 이때는 분양가상한제 아파트의 실거주 의무가 적용되기 전입니다. 직접 살지는 않아도 되고 전세를 줘서 잔금을 맞출수도 있기 때문에 “그래도 받고 보자”는 사람들이 있었습니다.그러나 2021년부터 분양가 상한제 적용 아파트는 실거주 의무가 적용되면서 다자녀 특별공급의 인기는 더욱 떨어집니다. 다자녀 특공이 소형평수가 나온데다가 무조건 실거주를 해야하니 지원을 하지 못하는 것입니다.실제로 올해 서울에서 분양한 아파트 중 다자녀 특별공급은 90% 이상 미달됐습니다. 소형평수 위주로 특별공급됐으나 경쟁률이 높았던 힐스테이트 세운센트럴2단지는 실거주의무가 없었습니다.“소형평수 다자녀 특공은 누가봐도 미달날게 뻔한데 구색맞추기로 만들어놓은 것 아닌가요. 시장의 수요가 있는곳에 공급을 줬으면 좋겠습니다.”다자녀 가구 김모씨는 “특공 도입 취지대로 다자녀 가구의 주거 안정을 도모하려는 것이면, 다자녀 가구가 살수 있는 평형을 공급해야지 소형평수를 공급해놓고, 거기다 실거주 의무 규제까지 더해졌으니 이제는 다자녀 특공은 그냥 버리는 공급 물량”이라고 한탄했습니다.부동산 재테크에 대한 다양한 이야기는 매부리레터에서 확인하실 수 있습니다. 네이버에서 매부리레터를 검색하세요.\\n\\n\\n\\n 네이버에서 매부리레터를 검색하세요\\n]', '[\\n미분양 발생 시 시장 경색…부동산 시장 회복 방향타PF 부실 위험 확산 가능성도 \"돈 빌리기도 어려워 져\"\\n\\n\\n\\n사상 최대 재건축 사업인 둔촌주공 아파트(올림픽파크 포레온) 분양이 시작된다. ⓒ데일리안 김민호 기자[데일리안 = 황보준엽 기자] 사상 최대 재건축 사업인 둔촌주공 아파트(올림픽파크 포레온) 분양이 시작된다. 해당 단지의 청약 결과는 분양시장과 프로젝트파이낸싱(PF) 앞날까지 좌우할 전망이다. 완판에 어려움이 없을 것이라는 분석이 많지만, 침체된 시장 분위기 속 회의적으로 보는 시각도 적지 않아 건설업계도 촉각을 곤두세우고 있다.5일 부동산 업계에 따르면 특별공급을 시작으로 6일 1순위 당해지역(서울 2년 이상 거주자), 7일 기타지역(서울 2년 미만 거주자 및 수도권 거주자), 8일 2순위 청약을 받는다. 당첨자는 12월 15일에 발표되며, 정당 계약은 2023년 1월 3일부터 17일까지 15일간 진행된다. 입주는 2025년 1월 예정이다.평당 분양가는 3829만원이다. 전용 면적별로는 ▲29㎡ 4억9300만~5억2340만원 ▲39㎡ 6억7360만~7억1520만원 ▲49㎡ 8억2970만~8억8100만원 ▲59㎡ 9억7940만~10억6250만원 ▲84㎡ 12억3600만~13억2040만원 수준이다. 전용 59㎡ 이하로만 중도금 대출이 가능하다.분양가 자체가 시장의 기대보다는 높은 편이나 현재로썬 흥행에는 성공할 것이라는 전망이 많다. 인근 시세와 차이가 크게 줄었다고는 하나 시세 보다는 저렴한 가격인데다, 기대 가치가 높기 때문이다. 다만 중도금 대출 시 고금리가 적용되고, 집값이 내리고 있어 메리트가 예전만 못한 만큼 미분양 가능성을 점치는 시각도 있다.건설업계에선 둔촌의 흥행 여부를 두고 촉각을 곤두세우고 있다. 이번 청약 결과에 많은 것이 달려있어서다. 우선 분양시장 회복의 가늠자가 될 것으로 전망된다. 만약 청약 성적이 좋지 못하면 향후 시장은 더욱 얼어붙을 수도 있다.임병철 부동산R114 수석연구원은 \"서울 청약시장의 향배를 내다볼 수 있을 것\"이라며 \"만약 성적이 안 좋게 나온다면 연말 분양하려는 단지들도 미뤄질 가능성이 높다. 분양 받으려는 사람들도 지금 분양 받는 것이 맞는 것인지 생각을 하게 될 것이다. 이번 청약 결과가 공급시장의 바로미터가 될 것\"이라고 설명했다.레고랜드발(發) 부동산 PF 부실 위험이 더욱 확산될 가능성도 적지 않다. 시장 침체가 가속화되며 부동산 호황기에 건설사에 대출을 해준 금융사들이 동반 부실에 노출되는 것이다. 중소 건설사들은 돈을 아예 빌리기 어려워 질 수도 있다.서진형 경인여대 MD비즈니스학과 교수는 \"만약 둔촌이 흔들리게 되면 시장의 침체가 가속화되면서 PF 부실 위험도가 높아지게 된다\"며 \"결국 금융사들고 PF 대출 규모를 줄여나가게 될 것이고, 사업성이 떨어지는 지방이나 중소건설사의 경우 대출을 받지 못하게 될 것\"이라고 했다.다만 크게 걱정할 정도는 아니라는 의견도 있다. 한문도 연세대 정경대학원 금융부동산학과는 \"사실 PF의 경우 분양이 60~70% 정도 이뤄지게 되면 충분히 회수가 가능하다\"며 \"만약 미분양이 대거 발생한다면 심리적인 요인이 작용할 순 있겠지만, 그럴 가능성은 낮은 상황이다. 너무 과도한 우려\"라고 설명했다.\\n\\t\\t]', \"[\\n\\t\\t\\t4,000 가구가 넘게 공급되는 둔촌주공아파트 재건축, '올림픽파크포레온'의 청약이 특별공급으로 어제(5일)부터 시작됐습니다.오늘(6일)은 서울시 2년 이상 거주자의 신청을 받고, 내일(7일)은 서울시 2년 미만 또는 수도권 거주자, 모레(8일)는 2순위 청약을 진행합니다.정부가 중도금 대출 허용 분양가를 확대하면서 59㎡까지는 중도금 대출이 가능하지만, 84㎡는 모든 타입의 분양가가 12억원을 초과하면서 중도금 대출을 받지 못합니다.부동산 시장에선 둔촌주공의 청약 성패가 향후 분양시장에 미치는 파장이 적지 않을 것으로 보고 있습니다.팽재용 기자 (paengman@yna.co.kr)#둔촌주공 #청약시작 #일반공급 #올림픽파크포레온연합뉴스TV 기사문의 및 제보 : 카톡/라인 jebo23\\n]\", '[\\n\"레미콘 트럭 단 한 대도 못봤다\"…현장엔 승용차만 덩그러니입주예정자 \"엄청난 충격 받아, 공사지연 상상도 하기 싫어\"\\n\\n\\n\\n화물연대 총파업, 레미콘 타설 중단된 둔촌주공 재건축 현장(서울=연합뉴스) 박동주 기자 = 화물연대 총파업 나흘째인 27일 레미콘 타설이 중단된 서울 강동구 둔촌주공아파트 재건축 현장의 모습. 2022.11.27 pdj6635@yna.co.kr    (서울=연합뉴스) 김치연 기자 = \"원래 같으면 타설 작업이 한창이라 레미콘 트럭이 쉴 새 없이 오갔겠죠. 지금은 시멘트도 레미콘도 하나도 없고 궁여지책으로 타설 말고 다른 작업만 하는 거예요.\"    민주노총 공공운수노조 화물연대본부(화물연대)가 총파업에 돌입한 지 일주일째인 30일 오후 서울 강동구 둔촌주공아파트(올림픽파크 포레온) 재건축 현장에서 만난 현장 관계자는 \"레미콘은 한 대도 없다\"며 고개를 저었다.    단군 이래 최대 재건축 사업으로 불리는 둔촌주공은 지하 3층~지상 35층, 85개 동, 1만2천32가구 규모의 아파트를 짓고 있지만, 이처럼 대규모 현장에서도 레미콘 차량의 모습은 찾아볼 수 없었다.    레미콘 타설 작업이 전면 중단되면서 현장에 남은 인력은 철근, 형틀 등 다른 작업으로 대체해 공사를 진행하고 있었다.    평소 같으면 레미콘 차량과 펌프차 등이 줄지었을 공사 현장 주변에는 작업자들이 주차해 둔 승용차만 빽빽했다.\\n\\n\\n\\n둔촌주공아파트 재건축 현장 펌프카 세척장[촬영 김치연]    레미콘 차량이 운반해온 콘크리트를 현장에 붓는 펌프차를 세척하는 곳에서도 타설 작업이 전면 중단된 탓에 적막만 맴돌았다. 공사 차량이 오가는 출입구가 아예 닫힌 곳도 어렵지 않게 찾아볼 수 있었다.    현장 출입 차량을 통제하는 직원은 \"화물연대가 파업한다고 한 뒤로는 레미콘 트럭을 한 대도 본 적이 없다\"고 전했다.    둔촌주공은 이전 조합 집행부와 시공사업단이 공사비 증액 문제를 놓고 갈등을 빚다가 6개월간 공사가 전면 중단되는 사태를 겪은 뒤 올해 10월 17일에야 공사를 재개했다.    하지만 공사 재개 한 달 만인 지난 24일 화물연대 총파업으로 시멘트 운송에 차질이 빚어지면서 또다시 공사가 지연될 위기에 처했다.    시멘트 운송 중단이 건설업계 전반에 파급효과를 미칠 수 있는 만큼 정부도 전날 시멘트업 운수 종사자 2천500여명을 상대로 업무개시명령을 발동하고, 관련 업계 피해 상황을 파악하고 있다.\\n\\n\\n\\n원희룡 장관, 화물연대 파업 관련 현장 점검(서울=연합뉴스) 이지은 기자 = 원희룡 국토교통부 장관이 화물연대 파업 엿새째인 30일 오후 서울 강동구 둔촌주공 아파트 재건축 건설현장을 점검하고 있다. 2022.11.30 [공동취재] jieunlee@yna.co.kr    이날 원희룡 국토교통부 장관은 둔촌주공 재건축 현장을 찾아 현장 피해 상황을 점검했다.    원 장관은 \"1만2천가구가 넘는 대한민국 역사상 최대 재건축 단지가 빨리 준공돼 조합원과 내 집 마련 꿈에 부푼 일반분양자도 입주해야 하는데, 화물연대 운송거부 때문에 건설 현장이 늦어진다고 하니 다들 가슴이 답답하고 고통이 그지없을 것\"이라고 말했다.    원 장관은 \"내일까지 업무개시명령서가 차질 없이 송달되면 물류가 빠른 속도로 회복되고 건설 현장도 조속히 정상화될 것\"이라며 \"불법행위에 대해서는 법과 원칙에 따라 엄정 대응하겠다\"고 강조했다.    건설업계 관계자와 입주예정자가 참석하는 간담회에서는 현장의 어려움과 정부의 강경한 대응을 호소하는 목소리가 곳곳에서 터져 나왔다.     간담회에 참석한 둔촌주공 현장소장은 \"지난 25일부터 레미콘 공급이 되지 않아 바닥 철근 배근까지 완료하고 당장 콘크리트 작업을 하지 못해 여러 개 동이 대기하고 있다\"며 \"이번 주가 지나면 다음 주부터는 골조 공사는 전면 중단될 수밖에 없고 내부 마감공사만 일부 진행될 것\"이라고 말했다.    또 다른 시공사 관계자도 \"내일이 지나면 골조 작업을 하는 근로자가 빠져야 하는 상황이 될 것 같다\"며 \"빨리 레미콘이 원활히 공급되도록 조치가 필요하다\"고 했다.\\n\\n\\n\\n원희룡 장관, 둔촌주공 재건축 관련 간담회 주재(서울=연합뉴스) 원희룡 국토교통부 장관이 30일 서울 강동구 둔촌주공 재건축 현장사무실에서 건설업계 관계자와 입주예정자가 참석하는 간담회를 주재하고 있다. 2022.11.30 [국토교통부 제공. 재판매 및 DB 금지] photo@yna.co.kr    시멘트 공급 차질 사태가 장기화하면 공사가 다시 중단될 가능성도 배제할 수 없는 만큼 입주예정자들의 시름도 깊어지고 있다.    둔촌주공 입주예정자 대표는 \"이미 공사비 분쟁으로 공사가 장기간 중단되면서 큰 피해를 입었는데 화물연대 운송거부에 따른 공사 지연으로 추가적인 피해가 발생하면 입주자들에게는 어마어마한 충격이 갈 수밖에 없다\"며 \"입주가 1년 이상 지연된 상황에서 또 지연되는 건 상상도 하기 싫다. 정부가 조속히 문제를 해결해달라\"고 요청했다.    한국주택협회 김재식 상근부회장은 \"회원사 상대로 공사중단 현장을 조사했을 때 이틀 전에는 258곳이었지만 오늘은 443곳으로 늘었다\"며 \"불법 상황은 엄정히 대처하고, 공사 차질에 따른 비용 증가 등 손해를 최종적으로 불법 책임자에게 물을 수 있도록 제도적으로 보완해달라\"고 했다. 또 철강, 자동차, 정유, 화학 등 다른 업계에도 업무개시명령 발령을 검토해달라고 촉구했다.    국토부에 따르면 지난 24일부터 진행된 화물연대 집단운송거부로 인해 시멘트 출하량은 평시 대비 10% 미만으로 줄고, 전국 레미콘 생산량도 전날 기준 평시 대비 8% 수준으로 감소했다.    대한건설협회와 한국주택협회 조사 결과 전국 985개 현장 중 577곳(59%)에서 레미콘 타설이 중단됐고, 주택건설 현장 200곳에서 공사가 멈추고 이번 주 중 128곳도 추가로 공사 중단이 예상된다.     chic@yna.co.kr\\n]', \"[\\n  \\n\\n\\n\\n 서울 강동구 둔촌동 올림픽파크포레온(둔촌주공 재건축 단지) 견본주택. 뉴시스      \\n\\n\\n\\n서울 강동구 둔촌동 올림픽파크포레온(둔촌주공 재건축 단지) 견본주택. 뉴시스      ━   [안장원의 부동산 노트] 둔촌주공·장위뉴타운 분양 큰 장       서울 분양시장에 역대 최대 규모의 장이 선다. 5일부터 청약접수를 시작하는 강동구 둔촌동 둔촌주공 재건축 단지(올림픽파크포레온)와 성북구 장위동 장위4구역 재개발 단지(장위자이레디언트)다.       각각 강남 동쪽(동남권)과 강북 동쪽(동북권)에서 지난해 이후 근 2년간 분양 물량과 비슷한 총 6000여가구를 한꺼번에 쏟아낸다. 오래간만의 분양 봇물에 주택 수요자의 기대감이 높아지고 있지만 주택시장 온도가 빠르게 떨어지면서 청약을 둘러싼 고민도 깊다.     ━   2개 단지 일반분양 6116가구       올림픽파크포레인이 단지 규모와 일반분양 물량 모두 서울 역대 최대다. 건립가구수가 1만2032가구로 그동안 가장 큰 송파구 가락동 헬리오시티(9510가구)보다 대단지 하나 정도 더 크다.       일반분양분이 4786가구로 헬리오시티 일반분양분(1558가구)의 3배다. 이전 최대 일반분양분이 2016년 분양한 강동구 고덕동 고덕그라시움(건립가구 4932가구) 2010가구였다.        장위자이레디언트는 2840가구를 지어 이 중 1330가구를 일반분양한다. 강북에서 2013년 서대문구 남가좌동 DMC파크뷰자이(4300가구 건립, 1550가구 일반분양) 이후 최대 물량이다.         분양 조건을 들여다보면 강·남북 '온도 차'가 느껴진다.       \\n\\n\\n\\n자료: 청약홈           분양가가 서로 3.3㎡당 1000만원가량 차이 난다. 올림픽파크포레온 3829만원, 장위자이레디언트 2840만원이다.      올림픽파크포레온에서 분양가가 최고 10억5000만원인 59㎡까지만 중도금 대출이 나온다. 하지만 실제로 대출받을 수 있는 금액은 주택도시보증공사(HUG) 보증 한도인 5억원까지다.         59㎡만 해도 분양가의 20%인 계약금과 보증 한도를 초과하는 중도금 등 3억원 정도의 현금을 갖고 있어야 한다. 중도금 대출이 나오지 않는 84㎡는 최대 10억여원이 필요하다.       장위자이레디언트 분양가가 모두 12억원 이하여서 중도금 대출을 받을 수 있다. 중도금(분양가의 50%) 중 HUG 보증 한도 5억원이 넘는 금액은 시공사 보증으로 대출해주기로 했기 때문에 중도금 전액을 대출받을 수 있다. 중도금 이자는 잔금 납부 때 내면 되는 이자 후불제다.      분양가의 10%인 계약금만 내면 입주 때까지 자금 걱정이 없는 셈이다. 84㎡ 계약금이 9000만~1억원이다.       ━   중도금 대출·층수 차이       일반분양분 층수에서 두 단지의 차이가 두드러진다. 일반분양분은 조합원 몫을 빼고 남는 물량이다. 주택형과 층 등은 조합이 정한다.      장위자이레디언트 일반분양분에 꼭대기 층 등 로열층이 적지 않다. 84㎡의 경우 대부분의 동 맨꼭대기 층을 일반분양분으로 내놓았다.      올림픽파크포레온에선 일반분양분이 대부분인 소형 주택형은 로열층도 많지만 84㎡는 주로 저층에 배치됐다.       84㎡ 중 84㎡E 타입은 저층부터 꼭대기 층까지 골고루 배정됐다. 옆집과 주방을 2m 정도 간격으로 마주 보게 설계돼 ‘주방 뷰’ 논란을 낳은 주택형이다. 59㎡ 중에서 84㎡E와 같은 구조인 59㎡C도 일반분양분이 많다.       \\n\\n\\n\\n장위자이레디언트 조감도.            조합이 사업 주체이고 조합원에게 분양 우선권이 있지만 일반분양분을 홀대하는 것 아니냐는 불만이 나오는 이유다. 조합원 분양가가 일반분양분보다 3.3㎡당 1000만원가량 저렴하다. 84㎡의 경우 조합원이 3억원 넘게 저렴한 가격에 로열층을 가져가는 것이다. 고층과 저층 간 1억원 분양가 차이를 고려하면 조합원이 4억원 정도 저렴하게 분양받는 셈이다.       ━   주변 시세와 큰 차이 없는 분양가       두 단지 모두 감정평가한 땅값과 정부가 정한 건축비 이내에서 정한 분양가상한제 가격이다. 하지만 지난해까지 시장에서 열광한 그런 로또가 아니다.        자치단체가 인정한 분양가 수준은 주변 시세의 80~100%(전매제한 8년 적용)다. 그런데 이는 지난 1년간 거래가격 평균과 분양가를 비교한 것이어서 지금 기준으로 본다면 1년 새 집값 하락에 따라 시세와 차이가 크게 줄었다.        올림픽파크포레온 84㎡(이하 전용면적) 분양가가 12억5000만~13억1000만원인데 지난달 강동구 내 새 아파트 같은 크기 실거래가가 12억~12억9000만원이다.       \\n\\n\\n\\n올림픽파크포레온 위치도.           10월 장위자이레디언트 인근 새 아파트 84㎡ 실거래가가 9억1000만~9억5000만원이다. 같은 크기 분양가가 8억9000만~9억8000만원이다.        올림픽파크포레온은 분양성적이 기대 이하로 떨어질 수 있고, 장위자이레디언트는 시장의 주목이 집중된 올림픽파크포레온에 가려질 수 있다.        올림픽파크포레온의 경우 주변 시세 대비 분양가 메리트가 크지 않고 층이 좋지 않아 일반분양을 포기하는 수요자가 나올 수 있다. 84㎡ 기준으로 일반분양분의 실제 가격이 중도금 금융비용과 최고 1억원에 가까운 옵션 금액을 합치면 14억~15억원에 달하는 것으로 추정된다.        로열층을 보장받은 조합원 입주권 시세가 추가분담금을 포함해 16억원 선이다. 이달부터 조합원 거래 제한이 풀리고 내년 초 동·호수 추첨을 끝낸 입주권이 쏟아지면 가격이 내려갈 수 있다.      10억원을 동원할 수 있는 현금부자라면 자금을 좀 더 보태 가격이 급락하고 있는 잠실 아파트를 매수하는 게 낫다고 보는 의견도 있다.       \\n\\n\\n\\n장위자이레디언트 위치도           청약가점이 높으면 내년 분양 예정인 송파구 신천동 잠실진주 재건축 단지를 노려볼 수 있다. 삼성물산이 짓고 건립 가구 2678가구 중 일반분양분이 578가구(43~84㎡)로 적지 않다. 업계는 잠실진주 분양가를 3.3㎡당 4000만원대 초·중반으로 예상한다. 84㎡ 기준으로 올림픽파크포레온보다 2억~3억원 정도 비쌀 것 같다.        장위자이레디언트는 관심도에서 올림픽파크포레온에 밀릴 것으로 보고 '이삭 줍기'를 기대하고 있다. 청약일정과 당첨자 발표 날짜를 하루 차이로 늦춰 올림픽파크포레온 청약자가 중복청약할 수 있게 했다. 둘 다 당첨되면 당첨자 발표일이 빠른 올림픽파크포레온 당첨만 유효하다.        ━   욕세권·경희궁자이       두 단지는 분양가 메리트가 이전만 못하다는 것을 인정하면서도 지금보다 입주 후 미래 가치를 보라고 말한다. 올림픽파크포레온은 송파구에 붙은 입지여건과 단지 규모를 내세워 강동구를 넘어 송파 집값을 따라갈 것으로 기대한다. 내심 헬리오시티에 버금갈 것으로 기대한다. 헬리오시티 84㎡ 실거래가가 많이 내렸어도 18억원 선이다.      장위자이레디언트는 2만7000여가구 규모의 신흥 주거타운으로 탈바꿈하고 있는 장위뉴타운 내 역세권(지하철 6호선 돌곶이역)을 내세운다. 시공사가 단일 대형건설사(GS건설)라는 점도 장점으로 꼽는다.      올림픽파크포레온과 장위자이레디언트 모두 믿는 구석이 있다. 올림픽파크포레온은 '욕세권'을 바란다. 욕·비판·비난 등을 들은 아파트일수록 집값이 많이 올랐다는 의미의 말이다. 분양에 이르기까지 올림픽파크포레온만큼 말도 많고 탈도 많은 단지도 드물다.       장위자이레디언트는 종로구 돈의문뉴타운 경희궁자이를 가리킨다. 2000가구가 넘는 대단지로 주택시장이 침체했던 2014년 분양 때 초기 성적이 좋지 않았지만 입주 후 강북을 대표하는 단지의 하나로 자리 잡았다.  \\n]\", '[\\n조합원 11월 30일부터 입주 시작후분양에 전용 84㎡ 13억원 수준\\n\\n\\n\\n\\'마포더클래시\\' 단지 내 모습 / 사진=노경조 기자 felizkj@최근 입주를 시작한 \\'마포더클래시\\'의 일반분양가가 3.3㎡당 4000만원이 넘게 책정됐다.4일 관련 업계에 따르면 마포구 분양가심의위원회는 지난달 22일 마포더클래시 일반분양가를 3.3㎡당 4013만원에 의결하고, 28일 승인했다.마포더클래시는 서울 마포구 아현뉴타운 내 유일한 재건축(아현2구역) 단지다. 전체 1419가구 중 53가구가 후분양된다. 입주 기간은 내년 2월 5일까지로, 조합원들은 지난달 30일부터 입주를 시작했다.이번에 책정된 분양가를 적용하면 84㎡(이하 전용면적)가 13억원대로 시장 예상치를 웃돈다. 아직 입주자모집공고 전이지만, 변동은 없을 것으로 보인다.당초 일반분양가는 84㎡ 기준 9억원대로 예상됐다. 조합원분양가가 6억원대(3.3㎡당 1900만원대)로 낮았기 때문이다. 그러나 마포 입지에 즉시 입주가 가능하고 일반분양 가구 수가 적은 점 등을 이유로 조합은 3.3㎡당 4000만원 수준을 원한 것으로 전해졌다.결국 건축비 가산비 일부가 불인정됐음에도 일반분양가는 예상보다 높게 책정됐다. 주변 단지 시세의 약 85% 수준이다. 강동구 둔촌주공 재건축(올림픽파크포레온)도 최근 3.3㎡당 3829만원에 일반분양가가 책정돼 일부에서는 높다는 반응이 있었는데, 이와 비교해 무려 3.3㎡당 184만원이 비싸다.업계 관계자는 \"마포더클래시와 올림픽파크포레온 모두 분양가상한제 적용 단지\"라며 \"건설자재비와 노무비 인상에 따라 기본형건축비도 정기적으로 오르는 등 제도 개선이 이뤄지면서 분양가가 예상보다 높게 나온 것 같다\"고 설명했다.마포더클래시는 이달 중 분양에 나설 예정이다. 전매제한 기간은 8년이며, 잔금 납부는 입주 기간과 동일하다. 후분양 특성상 잔금 처리가 빠르게 진행된다.부동산 경기가 안 좋지만 청약 통장은 몰릴 것이란 관측이 나온다. 이 관계자는 \"일대 대장 아파트인 마포래미안푸르지오 84㎡가 17억~18억원대 매매가격을 형성하고 있다\"며 \"상대적으로는 분양가가 낮은 편이기 때문에 마포 거주를 희망하는 수요자들이 많이 청약에 응할 것\"이라고 말했다.\\n]', \"[\\n특공 이어 6일 1순위 청약원래 입주권 거래 안되지만공사 늦어져 '예외 상황' 발생일반청약-입주권 매입 '저울질'\\n\\n\\n\\n서울 강동구 둔촌주공 재건축 아파트(올림픽파크 포레온)의 일반분양 청약 시점을 전후해 조합원 입주권이 매물로 풀리는 이례적인 현상이 벌어지고 있다. 예상치 못한 공사 지연 탓에 지난 3일부터 조합원 입주권 일부의 전매제한이 풀려서다. 이에 따라 청약과 조합원 입주권 매입을 두고 고민하는 실수요자가 생겨나고 있다.5일 부동산 중개업계에 따르면 둔촌동 일대 공인중개업소에는 최근 전용면적 84㎡ 배정이 가능한 조합원 입주권 매물이 14억원에 나왔다. 지난해 초까지만 해도 둔촌주공 재건축 84㎡ 호가는 20억원을 웃돌았던 만큼 이번 매물은 ‘급매’에 가깝다. 공교롭게 6일부터 시작되는 일반분양 청약을 앞두고 나온 매물이다. 84㎡의 일반분양가는 13억2000만원 선이다. 매물로 나온 입주권은 급매가와 조합원 분담금을 포함, 실수요자가 지급해야 할 비용이 16억원으로 전용 84㎡ 일반분양보다 3억원가량 비싼 셈이다.도시정비법시행령에 따르면 투기과열지구에서는 조합설립인가 이후에는 조합원 지위 양도가 불가능하다. 다만 조합원의 주택 소유기간이 10년 이상이고 거주기간이 5년 이상인 경우 또는 착공일로부터 3년 이상 준공하지 않은 재개발·재건축 사업 토지를 3년 이상 소유하고 있는 경우에는 예외적으로 조합원 자격을 팔 수 있다. 둔촌은 공사 지연으로 인해 3년 조항이 해제됐다. 둔촌주공의 착공일은 2019년 12월 3일이었다. 둔촌동 A공인 관계자는 “연내 준공이 어려워지면서 올여름부터 12월 3일 이후 잔금 조건을 특약으로 걸고 조합원 입주권 거래가 조금씩 이뤄지고 있었다”고 설명했다.조합원 입주권 거래는 장단점이 있다. 장점은 조합원 아파트는 선호 동과 층에 우선 배정된다는 것이다. 둔촌주공은 내년 1월 동·호수를 추첨할 예정이다. 청약 당첨자와 달리 전매제한 기간이나 실거주 의무도 없다. 일반분양엔 유상옵션으로 추가하는 발코니 확장, 고급화 패키지, 가전 등도 조합원에겐 무상이다.단점은 금융 부담이다. 입주권 매입 대금과 1억9000여만원의 분담금을 단기간에 내야 하는 점은 부담이다. 김제경 투미 부동산컨설팅 소장은 “통상 아파트 공기가 36개월 이하인 점을 감안하면 입주권 거래 제한이 이런 식으로 풀린 것은 매우 이례적”이라며 “일반 분양가격이 3억원가량 저렴한 상황이라 입주권 매력이 크다고 볼 수는 없다”고 말했다.\\n]\", '[\\n\\n\\n\\n\\n오늘(5일)부터 서울 6천100여 가구에 대한 청약 접수가 시작됩니다.서울 강동 둔촌주공아파트\\xa0재건축 사업인 올림픽파크포레온 4700여 가구의 특별공급이 오늘부터 시작됩니다.장위4구역 재개발 지역인 장위자이레디언트 1330여가구는 내일부터 청약을 접수합니다.\\n\\t\\t]', '[\\n\\n\\n\\n\\n올림픽파크 포레온 분양이 시작된 가운데 1일 오전 서울 강동구 올림픽파크 포레온 견본주택에 방문 예약자들이 입장하고 있다. 문호남 기자  올 들어 주별 기준 2번째로 많은 물량단군 이래 최대 재건축 사업으로 꼽히는 올림픽파크 포레온(둔촌주공)이 분양에 나서면서 다음 주에는 전국에서 2만2000여 가구의 아파트와 오피스텔이 공급될 예정이다.3일 부동산R114에 따르면 12월 둘째 주에는 전국 15개 단지에서 2만2007가구(일반분양 1만2780가구)가 분양을 시작한다. 이는 올해 들어 주별 기준 두 번째로 많은 물량이다. 그간 부동산 시장 침체로 분양을 미뤄왔던 단지들이 분양에 나선데다 올림픽파크 포레온 물량이 더해지면서 2만 가구가 넘는 물량이 쏟아진다. 이에 더해 GS건설의 서울 성북구 장위동 ‘장위자이레디언트’도 1330가구 일반분양에 나서면서 오랜만에 서울에서 대규모 물량이 공급될 예정이다.서울 강동구 둔촌동에 들어서는 ‘올림픽파크포레온’은 지하 3층~지상 35층, 85개 동, 총 1만2032가구 규모다. 이 중 전용면적 29~84㎡, 4786가구가 일반분양으로 나온다. 임병철 부동산R114 팀장은 \"둔촌주공 흥행 여부가 건설사와 분양시장에 미치는 파급효과가 상당할 것\"이라고 내다봤다. 견본주택은 대전 중구 선화동 ‘힐스테이트선화더와이즈’, 울산 중구 복산동 ‘번영로서한이다음프레스티지’, 충북 청주시 복대동 ‘복대자이더스카이’ 등 4곳에서 개관 예정이다. \\n]', '[\\n[뉴스외전]출연: 정철진 평론가뉴욕증시 \\'주춤\\'‥이유는? 미 FOMC 앞두고 대혼전‥전망은?미 FOMC, 금리 인상폭 전망은? 정철진 \"5%, 5.25, 5.5까지도 기준금리 계속 올라간다면 결과적으로 못버텨‥경기 침체 오면 대표적으로 피해 보는 게 주식, 부동산\"정철진 \"FOMC보다 빠르게 힌트 얻을 수 있는 게 11월 소비자 물가 상승률\"국내외 증시 한파‥전망은?정철진 \"내년 경기 침체 가능성 90% 이상‥시기는 8월, 9월께 2분기 끝자락\"정철진 \"외국인들 3,4일간 빠져나가고 있는 것들 어느 정도까지 지켜봐야‥그래도 환율은 그렇게 튀어 오르지 않아\"실적 부진 우려 \\'7만닉스\\'·\\'5만전자\\'‥전망은?정철진 \"우리 반도체 업종 경기침체와 매치 시키면 돼‥반도체 바닥도 거의 내년 8월, 9월 전망\"SK \\'이혼리스크\\', 지배구조 영향은?법원 \"특유재산은 분할 대상 아냐\"‥의미는?정철진 \"SK 주식에 대해서는 최태원 회장 특유 재산본 것‥주식도 주가도 그다지 크게 반응하지 않아\"둔촌주공 1순위 청약 3.7대 1‥\\'경쟁률 저조\\' 왜?둔촌주공 미계약 속출 우려‥전망은?정철진 \"둔촌 주공, 바로미터로 볼 수 있어‥여기서 어느 정도까지 파악 되느냐가 부동산 투심 결정\"정철진 \"곧 나올 계약 시점 때 계약율 봐야 어떤 상황인지 더 정확히 확인할 수 있을 것\"◀ 앵커 ▶정철진 경제평론가와 함께 경제 상황 짚어보겠습니다.어서 오세요.◀ 정철진/경제평론가 ▶안녕하십니까?◀ 앵커 ▶주식이 미국 주식이 왜 떨어지나요, 지금?◀ 정철진/경제평론가 ▶실은 잠깐 아니면 한동안 좀 긴축 완화에 대한 기대감이 커졌을 때 나왔었던 것이 슬로 포 롱거입니다. 일단 금리 인상의 속도와 폭을 조절, 슬로하겠다. 그러나 좀 오래 지속될 테니까 여기에 대해서 감안해야 한다는 거였는데, 많은 투자자와 시장 앞 대목 슬로에 굉장히 초점을 맞췄었죠. 왜냐하면 그동안은 자이언트 스텝을 네 번씩이나 밟고 매달 0.75, 0.75씩 올렸으니까 여기에 대해서 굉장히 트라우마가 있지 않았겠습니까? 특히 제롬 파월 연준 의장이 브로킹스연구소에서 금리 인상 속도 조절 슬로를 본인이 이야기를 했고 그 효과가 바로 12월에 나타날 수 있다. 그래서 굉장히 환호를 했었는데 그래도 우리가 하루 암묵적으로 걱정하고 있는, 그다음이죠. 슬로 포 롱거인데 하이어가 이제 나오면 어떻게 하지에 대한.◀ 앵커 ▶이번 다음이요?◀ 정철진/경제평론가 ▶앞으로요. 앞으로에 대한 고민이 있지 않습니까? 그런데 현재 추세라면 현재 인플레이션 이런 흐름이라면 일단 조금씩 올리고 길게는 가겠지만 큰 틀에서 기준금리 5% 밑에서는 끝날 것이다.◀ 앵커 ▶최고점이죠.◀ 정철진/경제평론가 ▶종점이 터미널레이트가 끝날 것이다 그런 기대감으로 왔었는데. 최근에 한 3일간 거기에 대해서 아니야. 포 하이어야. 더 높이도 갈 수 있어, 라는 그런 것들에 대한 코멘트가 많이 나오고 있고요. 특히 오늘 새벽 같은 경우에는.◀ 앵커 ▶그 코멘트가 연준 인사들 사이에서 나왔나요?◀ 정철진/경제평론가 ▶연준 인사에도 나왔고 일반 골드먼삭스라든가 JP모건이라든가 최고 경영자들도 이런 이야기를 꺼낸 겁니다. 현재 상황에서 보면 인플레이션이 계속해서 이어질 것 같다. 그렇게 되면 실질적으로 인플레를 잡아야 하는 것 아니냐. 그런 와중에서 금리를 높이고 나아가서 우리가 진짜, 진짜 두려워 하는 공포. 경기 침체를 피할 수 없을 거야. 여기에 대한 이런 레토퍼리를 돌아가면서 하고 있거든요. 그렇게 되니까 그동안은 이런 기대감이 있었죠. 속도 조절도 하고 고금리는 이어져 가지만 결과적으로 최종 금리는 한 5% 미만대. 4.75 아니면 5%에서 끝날 거야라는 기대감이 점점 잦아들고 만에 하나 5%, 5.25, 5.5까지도 기준금리가 계속 올라간다면 결과적으로 못 버티잖아요. 경기 침체가 올 것이고 경기 침체가 오면 대표적으로 피해 보는 게 주식, 부동산, 자산 투자 아니겠습니까? 지금 이런 논리가 최근 3일간 뉴욕 시장을 지배했다고 볼 수 있겠고요. 결국은 다음 주입니다. 12월 FOMC에서 금리는 0.5포인트.◀ 앵커 ▶그건 기정사실이고요, 거의.◀ 정철진/경제평론가 ▶그리고 이제 12월이기 때문에 점도표를 찍는데 과연 연준 인사들, 연준 위원들이 어디에 가장 많은 점을 찍느냐. 지금 시장 반응은 4.75에서 5 사이, 아니면 4.5에서 여기에 지금 많은 점이 찍히기를 원할 텐데 가령 상당수의 점이 5.25, 혹은 그 위 5.5까지 이렇게 레벨에 찍히게 된다면 이것은 시장이 원했던 바와는 좀 다른 이야기거든요. 시장은 딱 슬로 포 롱거까지를 원했지, 더 소위 말하는 절대치를 높이기는 원치 않는데 그런 것들을 과연 확인할 수 있는 것이 바로 다음 주에 펼쳐지게 될 것 같습니다.◀ 앵커 ▶점도표. 가장 중요하군요. 그런데요, 지금 이렇게 쭉 관찰을 해보면요. 이게 사실 상황 자체는 그리 변한 게 없는데 기대만 더 나갔다가 주저앉고 혹은 덜 나갔다가 기대를 하고 올라가고 이런 상황이 반복되는 것 같습니다. 상황 자체는.◀ 정철진/경제평론가 ▶그렇습니다.◀ 앵커 ▶경기 침체 있을 거라는 건 원래 이야기하지 않았습니까?◀ 정철진/경제평론가 ▶그래서 좀 아쉬운 대목이 연준, 또 연준 의장에 대해서 아쉬운 목소리들이 많이 있어요. 좀 계속해서 그동안 여러 차례 뒤집었지만 어쨌든 올 8월 잭슨홀 미팅 이후에서는 많이 달라졌지 않습니까? 그럼 그 모습 그대로만 갔었으면 시장도 상당한 낙폭이 나왔겠고요. 그렇게 되면 수요 침체로 빨리 왔겠죠. 그다음에 물가도 빠르게 떨어질 수 있었을 텐데.◀ 앵커 ▶당할 거 미리 당하고 끝날 수 있었는데.◀ 정철진/경제평론가 ▶네, 한번 또 뒤집으면서 또 어떤 기대가 나오고 그런데 이렇게 또 이야기를 하면 아니야, 연준은 원래 데이터 보고 하는 거여서 파월 의장도 그렇게 이야기할 수밖에 없어 이렇게 이야기를 하는데요.◀ 앵커 ▶혹은 연준 입장에서는 경기 침체도 막고 물가도 잡고 이런 걸 하고 싶었겠죠. 그거 아닌가요?◀ 정철진/경제평론가 ▶그럴 수도 있겠고요. 그런데 그나마 우리가 12월 FOMC보다 빠르게 좀 답안지 힌트를 얻을 수 있는 것이 11월 소비자 물가 상승률이 그 전날 나옵니다. 그러니까 실질적으로 우리는 소비자 물가 13일 미국의 소비자 물가지수를 볼 수가 있거든요.◀ 앵커 ▶13일이면‥?◀ 정철진/경제평론가 ▶연준 마지막 발표 전날이죠. 13, 14가 FOMC 회의니까. 13일 11월 소비자 물가 상승률이 나왔는데 여기서 진짜 확연히 막 떨어졌다고 하면 또 시장은 단기간환호를 할 수가 있겠죠. 그렇기 때문에 현재로서는 누구도 예상할 수 없는 거고요. 그러니까 13일에 11월 소비자 물가 상승률 확인하시고 14일 밤에서 15일 넘어가는 수, 목입니다. 그 새벽에 몇 퍼센트 포인트 인상하고 기자회견 있고 점도표 공개되고 이 과정을 거치게 되면 그동안에 산타랠리 있을까 없을까 토론하고 SNS, 인터넷에서 토론하고 승부도 나올 것 같고요. 정리가 좀 될 것 같습니다.◀ 앵커 ▶그런데 단기 투자하는 분 아니라면요. 변수 중에 굵직한 변수들은 고정되어 있지 않습니까? 사실 아까도 말씀하셨지만 경기 침체 가능성은 상당히 높고 거의 기정사실화 되어 있고 내년 1년 내내 고금리는 유지될 것이고 이런 중국이 이제 변수라고 늘 말씀하시는데 중국은 사실 어떻게 될지 잘 모르지만요.◀ 정철진/경제평론가 ▶모르고.◀ 앵커 ▶그런데 하여튼 이런 비관적인 변수들은 고정되어 있는 거 아니겠습니까, 거의? 그렇다면 장기적으로 어떤 그런 상황을 염두에 두고 투자를 하시는 게 낫지 않나 이런 생각도 들고요.◀ 정철진/경제평론가 ▶그런데 또 투자자의 심리라는 게 그렇지가 않죠. 항상 작은 틈에서라도 희망을 보고 싶은.◀ 앵커 ▶희망을 보고 싶어 하고.◀ 정철진/경제평론가 ▶그런 생각이 있기 때문에 그런 말 한마디에도 계속해서 반응을 보이는 건데요. 좋은 지적을 해주셨는데 일단 팩트  나온 데이터만 이야기를 해드리면 내년에 경기 침체 가능성은.◀ 앵커 ▶굉장히 높죠?◀ 정철진/경제평론가 ▶90% 이상입니다. 그 정도를 전망했다면 굉장히 높은 거라고 보고 있고요. 시기는 8월, 9월께 2분기의 끝자락을 거의 많은 연구소라든가 경제 기관에서 전망을 하고 있기 때문에 지금의 투자자와 지금의 증시는 그거를 좀 어떻게 뒤집을 수 있는 게 뭐 없을까에 대한 그런 희망을 걸고 있는 것 같아요.◀ 앵커 ▶문제는 그걸 뒤집을 재료들이 보이지 않는다는 데 문제가 있습니다.◀ 정철진/경제평론가 ▶그렇습니다.◀ 앵커 ▶우리 증시 어떻습니까?◀ 정철진/경제평론가 ▶우리 증시도 역시 영향을 고스란히 받고 있고요. 여기에서 한 가지 더 특징적인 것은 그동안 수급이 상당히 괜찮았고요. 길게는 6월 말부터 짧게는 9월 말부터 들어오는 그런 돈들이 있었는데 최근 한 3, 4일간 좀 외국인 투자자들이 매도가 나옵니다. 순매도가. 그래서 이걸 아직은 여기서 썰물처럼 나간다 이렇게 표현하기는 그렇지만 뭘까, 뭘까 생각을 해보면 최근 3,4일간 홍콩 증시가 엄청난 지금 상승을 보였거든요.◀ 앵커 ▶중국 문 연다는.◀ 정철진/경제평론가 ▶맞습니다. 그런 기대 때문에 홍콩 증시가 지금 저점 대비해서 벌써 30% 이상 튀어오르는 그런 상황이 됐으니까 우리가 그동안에 외국인 들어온 것들 노르웨이 국부 펀드 같은 중장기 자금도 있었지만 중국에서 홍콩에서 못 있겠다고 해서 빠져나온 차이나 런자금도 있었다. 이런 수급을 해석을 해드렸었잖아요. 그럼 반대로 홍콩이 어느 정도 안정을 찾아간다면 비워놨던 포트를 다시 채워놔야 하는. 그래서 수급적 측면에서 외국인들이 3, 4일간 빠져나가고 있는 것들, 이거를 어느 정도까지 지켜봐야 합니다만 그런 조짐도 함께 있고. 그래도, 그래도 아직까지는 우리가 바라볼 수 있는 것이 환율이 그렇게 튀어오르지 않았어요. 1450원이었던 게 1298원까지 갔고 최근 다시 경기 침체 우려에 또 소위 말하는 고금리, 종점 금리, 터미널웨이트가 상당히 높을 것이라는 우려가 나왔으면 또 튀어 올라야 하는데 지금 1320원을 놓고 계속 공방전을 펼치고 있어서 환율 하나 부분 정도가 현재로서 바라볼 만하다. 이렇게 봅니다.◀ 앵커 ▶우리 삼성전자, 국민주라고 불리는 여전히 안 좋죠?◀ 정철진/경제평론가 ▶오늘 또 6만 원이 깨졌고요. 어제 흔들렸었고 SK하이닉스도 마찬가지고요. 우리 반도체 업종이 경기를 탄다고 하잖아요. 이것을 앞서 이야기해드렸던 경기 침체와 그냥 매치시키면 됩니다. 우리가 경기 바닥이 언제야라는 거였을 때 내년 8월 보는 내년 9월이라고 하면 반도체의 바닥도 거의 내년 8월, 9월일 거고요. 그렇다면 실질적으로 주식이 6개월도 앞선다고 하고 아니면 뒤쳐저서 3개월도 앞선다고 하면 한 2월 정도께까지는.◀ 앵커 ▶바닥.◀ 정철진/경제평론가 ▶아직은 더 조금 더 하락과 바닥까지를 봐야 하는데 그런 것들이 그대로 반영되면서 다시 한번 반도체의 투톱이죠. 삼성전자, SK하이닉스가 흔들리고 있습니다.◀ 앵커 ▶참 거기 이른바 뭐라 그럴까요? 거기 손해를 보고 계신 분 많은데 좀 오래 기다려야 할 것 같아서 안타깝습니다, 보면.◀ 정철진/경제평론가 ▶그렇죠. 경기라는 게 그리고 경기 침체가 8, 9월도 완전한 바닥 확인이 되려면 10월, 11월, 12월 회복까지 봐야 하기 때문에 실질적으로 그런 좀 말씀하신 난제점이 있습니다.◀ 앵커 ▶다른 이야기 좀 넘어가 보겠습니다. 재벌 회장의 이혼. SK 최태원 회장이요. 위자료 이런 세간에 화제가 될 만한 이야기들이 많은데요. 일단 위자료 금액이 600억 원이 좀 넘죠?◀ 정철진/경제평론가 ▶665억 원이었고요. 우리가 왜 최태원 회장 이혼에 관심을 기울이냐. 자체로의 뉴스성도 있지만.◀ 앵커 ▶경제 분야에서 왜 관심을 기울이냐 하면요.◀ 정철진/경제평론가 ▶SK그룹의 주주 회사 주SK잖아요. 이번에 노소영 관장이 SK 주식에 40% 이상을 위자료를 요구를 했기 때문에 만에 하나 법원 판결이 인정을 하게 되면 실제 지배 구조에서 약간 이게 흔들리는 균열이 나오는 거 아니겠습니까?◀ 앵커 ▶크게 흔들릴 수 있겠네요.◀ 정철진/경제평론가 ▶그렇죠. 거기서 정점 회사인데요. 주SK가. 그래서 많은 관심이 있었는데 여러분도 뉴스 많이 보셨겠지만 나머지 재산은 소위 말하는 분할이 됐었지만 그 주식, 주 SK 주식에 대해서는 최태원 회장의 특유 재산이었다. 이미 선대 회장으로부터 받았기 때문에 이것은 재산 분할의 대상이 아니라는 게 이번에 1심 판결의 핵심 내용이었고요. 그동안 노소영 관장 측이 왜 그 회사의 절반 40% 이상을, 절반 가까이를 요구를 했느냐 아마도 SK그룹 성장에 어느 정도 이바지를 했던 거를 주장을 했던 것 같습니다. 자세한 내용은 저희는 알 수는 없지만 세간에서 나오는 SK가 커갔던 과정에서의 2개의 회사 유공이라고 하죠. 대한석유회사와 한국이동통신 그게 SK이노베이션, SK텔레콤 이렇게 성장 과정이 있지 않았습니까? 이 성장 과정에서의 역할 부분을 좀 주목할까, 말까 법원이. 그런 것들을 봤었지만 전혀 그런 부분은 반영되지 않았고요. 완전히 SK 관련한 주식은 최태원 회장의 특유재산이다 이렇게 1심 판결은 나왔습니다.◀ 앵커 ▶그게 최태원 회장 측이나 노소영 원장 측이나 2심을 가느냐 마느냐 아직 보도가 나온 게 없죠?◀ 정철진/경제평론가 ▶아직까지는 없습니다. 그렇게 빠른 시일 내에 결정날 것 같아요.◀ 앵커 ▶그렇다면 1심 결과가 유지된다고 보면 지배 구조는 별다른 변화가 없다, 이렇게 볼 수 있겠군요.◀ 정철진/경제평론가 ▶그렇습니다. 그래서 주식도 주가도 그다지 크게 반응을 하지 않았습니다.◀ 앵커 ▶그렇다면 육백몇 억은 어떻게 나온 건가요?◀ 정철진/경제평론가 ▶나머지 재산들이 있을 거 아니에요.◀ 앵커 ▶뭐가 있죠, 예를 들면?◀ 정철진/경제평론가 ▶최태원 회장 부동산도 있겠고요. 예금도 있겠고요. 기타 등등이 있을 거 아니겠습니까? 거기에 대해서는 요구한 대로 재산 분할이 이루어진 것으로 알려졌습니다.◀ 앵커 ▶그러니까 어떤 법원의 지금까지 여기가 사회 코너는 아니지만요. 법원의 기준은 재산 형성에 기여한 부분만 나눠라, 이런 거군요, 보니까.◀ 정철진/경제평론가 ▶그렇습니다. 그리고 우리나라 같은 경우에는 주식 부분에 있어서의 재산 분할을 잘 좀 인정을 안 해주는, 물론 엔씨소프트의 김택진 회장 같은 경우에는 어느 정도 이혼과 함께 지분을 줬기도 했었고 미국에서는 여러분이 잘 아시는 아마존에서 제프 베이조스도 지분을 전 부인에게 주기도 했었지만 그런 주식 부분에 있어서 상당히 많은 그런 역할에 대한 부분, 그것을 검증하는 그런 분위기가 아닌가 이렇게 생각합니다.◀ 앵커 ▶그런 분위기가 결국은 법원의 보수적인 판단 때문에 그렇겠죠?◀ 정철진/경제평론가 ▶우리나라 법원의 제가 법률 전문가는 아니지만요.◀ 앵커 ▶마지막으로요. 시간은 많이 남지 않았는데요. 둔촌 주공 어떤 상황입니까, 이게?◀ 정철진/경제평론가 ▶둔촌 주공이 실은 원래대로 했었으면 올 연초나 1분기 정도만 했었어도 10만 분양설 이런 이야기가 나올 정도로 현재 남은 핫이슈 제일 뜨거운 단지였는데.◀ 앵커 ▶10만 분양설이 뭔가요?◀ 정철진/경제평론가 ▶그러니까 10만 양병설에 빗대서 어마어마한 경쟁률이 거기에 몰릴 것이라고 했는데 막상 뚜껑을 열고 보니까 4:1의 채 안 되는 이런 거였는데 여기에 중요한 것은 청약 경쟁률이고요. 이게 실제로 계약하는 계약률은 또 다릅니다.◀ 앵커 ▶더 떨어질 가능성이 크군요.◀ 정철진/경제평론가 ▶크죠. 다행히도 청약 경쟁률 미달, 특별 공급 외에는 미달은 나지 않았지만 생각한 것만큼 경쟁률이 높지 않았기 때문에 이제 마지막 계약율까지 봐야 하는데 여기도 좀 긴장감 있게 바라봐야 할 것 같고요. 왜 둔촌 주공의 일반 부분 청약이 관심이냐, 바로미터입니다. 여기서 어느 정도까지 파악이 되느냐가 그야말로 부동산의 투심을 결정하는 것이고요. 여기가 기대 이하로 나오게 된다면 지금 급하게 떨어지고 있는 부동산 하락도 여기가 바닥이라기보다는 조금 더 이어져 가야 한다. 그 하나를 미리 볼 수 있는 상황이었거든요.◀ 앵커 ▶둔촌 주공이 왜 그런 어떤 바로미터가 된 건가요?◀ 정철진/경제평론가 ▶왜냐하면 사이즈도 크고요. 그다음에 위치 입지적인 조건도 좋고 그 정도의 어떤 가격대도 30평형 대가 물론 이게 이제 올 상반기 기준입니다. 한 13억대거든요. 인근 지금은 많이 떨어졌지만 이쪽 지역에서의 30평형대가 20억 넘어가고요. 인근 지역에서 넘어가고 이랬으니까 올 상반기와 연초만 봐도 이거는 정말 로또 분양 성격이었지 않았습니까?◀ 앵커 ▶그렇군요.◀ 정철진/경제평론가 ▶그런데 이미 송파구에서는 30평형대가 18억 정도 이 레벨로 떨어졌기 때문에 그러면 여기서 우리 국민들은 이걸 어떻게 바라볼까. 이것을 확인할 수 있었기 때문에 바로미터라고 한 겁니다.◀ 앵커 ▶계약 시점이 언제인가요?◀ 정철진/경제평론가 ▶이제 곧 나오게 될 겁니다. 그러니까 그때까지 파악을 해보셔야 할 것 같아요.◀ 앵커 ▶그렇다면 계약 시점에서 이 부동산이 더 떨어질 전망이 많지 않습니까, 앞으로. 그러면 계약 포기하는 분들도 적지 않을 것이다, 이런 전망이 가능한가요?◀ 정철진/경제평론가 ▶현재로서는 알 수는 없지만 그거는 지켜봐야 하는 거죠. 그래서 계약율이 현저하게 떨어진다면 그다음을 해야 하는 거고 그런데 여기에서 또 어느 정도가 반전이 나온다면 현 상황에서의 부동산의 투심을 알 수가 있는 것 같습니다.◀ 앵커 ▶대단히 계약 시점이 또 뉴스가 되겠군요.◀ 정철진/경제평론가 ▶계약률이 한 번 더 보게 되겠죠.◀ 앵커 ▶그때 나오면 다시 반드시 이야기 한번 짚어보겠습니다.오늘 말씀 여기까지 듣겠습니다.MBC 뉴스는 24시간 여러분의 제보를 기다립니다. ▷ 전화 02-784-4000▷ 이메일 mbcjebo@mbc.co.kr▷ 카카오톡 @mbc제보\\n]', '[\\n5일부터 둔촌주공 청약 시작분양 흥행시 대형사 위주 반등세 기대향후 건설사 수도권 정비사업 추진에 영향↑긴축 속도 조절 기대감도 호재[이데일리 김응태 기자] 사상 최대 재건축 사업인 둔촌주공 아파트(올림픽파크 포레온) 분양이 본격화하면서 건설주도 반등 흐름을 탈지 관심이 쏠린다. 증권가에선 연방준비제도(Fed)가 긴축 속도 조절을 시사한 가운데, 둔촌주공 재건축이 흥행에 성공할 경우 대형주 중심의 상승세가 두드러질 수 있다는 전망이다. \\n\\n\\n\\n서울 강동구 둔촌동 일원에 문을 연 둔촌주공아파트(올림픽파크포레온) 견본주택에서 시민들이 입장을 기다리고 있다. (사진=연합뉴스)4일 마켓포인트에 따르면 지난 2일 KRX건설지수는 598.32로 마감했다. 이는 한 달 전 종가(565.73) 대비 5.8% 상승한 수준이다. 같은 기간 코스피가 2336.87에서 2434.33으로 4.2% 오른 것보다 상승률이 더 높았다.한 달간 KRX건설지수 내에서 오름폭이 큰 종목은 코오롱글로벌(003070)로 90.5% 뛰었다. 뒤이어 금호건설(002990)과 서희건설(035890)이 각각 29.1%, 14.9% 올랐다. 이외에 DL이앤씨(375500) 13.0%, HDC현대산업개발(294870) 10.8%, 대우건설(047040) 7.7%, 현대건설(000720) 7.0%, GS건설(006360) 5.3% 등 대형 건설사들도 코스피 지수 대비 더 높은 상승률을 나타냈다.최근 건설주들이 전반적으로 상승세를 나타낸 것은 과거와 상반된 흐름이다. 지난 10월 중순까지만 해도 KRX건설지수는 510선까지 낙폭이 커지며 약세를 보였다. 글로벌 긴축 정책 가속화에 따른 부동산 경기 악화, 레고랜드발 부동산 프로젝트 파이낸싱(PF) 리스크가 번졌기 때문이다. 여기에 원자재 가격 급등에 따른 이익 훼손, 중대재해처벌법 시행, 화물연대 파업 등도 악재로 작용했다.최근 건설주 반등은 연준의 긴축 속도 조절 기대감이 견인한 것으로 보인다. 최근 제롬 파월 연준 의장이 이르면 12월 기준금리 인상 속도가 조절될 수 있다고 언급하면서 금리 인상에 억눌린 건설업종의 주가가 다시 살아났다. 아울러 사우디아라비아가 추진 중인 650조원 규모의 네옴시티 건설 프로젝트 관련 수주 기대감도 주가 상승에 기여했다. 건설주에 대한 투자심리 전반이 개선된 가운데 추세적인 주가 상승을 판가름할 요인으로 둔촌주공 재건축이 주목받고 있다. 둔촌주공 재건축은 총 1만2032세대로 구성된 사상 최대 규모 정비사업으로 오는 5일 특별공급을 시작으로 일반 분양이 진행된다. 이번 분양의 성과가 향후 수도권 정비사업의 진행 속도에 영향을 미칠 가능성이 큰 만큼 건설주 주가에 미치는 파급력도 작지 않을 것이란 분석이다. \\n\\n\\n\\n출처=마켓포인트현재 시장에선 시각이 엇갈리고 있다. 기준금리 수준이 여전히 높은 상황 속에서 분양가가 다소 높아 흥행에 실패할 수 있다는 의견이 나오는 한편, 중도금 대출이 가능한 59㎡ 이하 세대 비중이 일반분양의 75%를 차지한다는 점이 흥행을 견인할 것이란 관점도 상존한다. 둔촌주공 재건축의 평당 분양가는 평균 3800만원이다.이번 분양이 흥행할 경우 대형 건설사의 수혜가 커질 것이란 전망이다. 장문준 KB증권 연구원은 “미국의 금리 인상 속도 조절 기대감 등으로 건설업종 주가는 반등을 모색하고 있었다”며 “둔촌주공 재건축의 일반분양이 크게 실패하지 않는다면 업종의 주가 반등이 당분간 이어질 수 있을 것”이라고 분석했다. 김기룡 유안타증권 연구원은 “대형사는 서울 및 수도권 정비사업 분양 회복과 올해 분양 지연에 따른 물량 반영 및 기저효과로 축소 요인을 방어할 것”이라고 말했다.\\n]', '[\\n\\n\\n\\n\\n올림픽파크 포레온은 총 1만2032가구 가운데 4786가구가 일반분양돼 서울 최대 규모 재건축 사업 단지로 손꼽힌다. /사진=김노향 기자 서울 강동구 둔촌주공을 재건축하는 \\'올림픽파크 포레온\\'과 성북구 장위4구역 재개발 \\'장위 자이 레디언트\\'가 이번 주 청약을 시작해 6000가구 이상 새 아파트가 분양된다.6일 한국부동산원 청약홈에 따르면 전날 올림픽파크 포레온은 특별공급을 시작으로 이날 1순위 청약을 진행한다. 장위자이 레디언트는 6일 특별공급, 7일 1순위 청약을 진행한다.올림픽파크 포레온은 총 1만2032가구 가운데 4786가구가 일반분양돼 서울 최대 규모 재건축 단지로 손꼽힌다. 소형 면적 1091가구는 신혼부부, 다자녀가구 등을 위한 특별공급이다. 전용면적 85㎡ 이하로 가점제로 배정된다. 장위자이 레디언트는 전체 2840가구 가운데 1330가구가 분양돼 특별공급이 374가구다. 두 단지의 일반분양분은 6116가구에 달한다.올림픽파크 포레온과 장위자이 레디언트는 당첨자 발표일이 각각 15일과 16일로 중복 청약이 가능하다. 장위자이 레디언트는 모든 평형의 중도금 대출이 가능하지만, 올림픽파크 포레온은 전용면적 84㎡ 분양가가 12억원을 넘어 중도금 대출이 불가능하다.올림픽파크 포레온은 분양가가 주변 시세보다 4억~5억원 정도 낮은 반면 장위자이 레디언트의 분양가는 현재 주변 시세와 큰 차이가 없다. 두 단지 모두 분양가상한제가 적용돼 당첨자 발표일로부터 8년간 전매가 불가능하다. 10년간 다른 아파트 청약 당첨도 제한된다. 최초 입주 가능일부터 2년간 거주해야 해 전세 보증금으로 분양대금의 잔금을 납부할 수 없다.주택시장에선 올림픽파크 포레온의 청약 성패가 향후 부동산 시장의 바로미터가 될 것으로 보고 있다. 앞서 지난달 28일 올림픽파크 포레온 모델하우스 방문 예약이 시작된지 이틀 만에 신청이 마감돼 높은 관심을 증명했다.부동산업계 관계자는 \"분양시장이 인기있던 때와 비교해선 경쟁률이 낮겠지만 청약 1순위 마감은 무리가 없을 것으로 예상된다\"면서 \"해당 단지 분양을 기다리며 통장을 아꼈던 수요자들이 많기 때문\"이라고 말했다.주택시장 분위기를 고려해 당첨가점은 지난해 대비 낮은 50~60점대가 될 것이란 전망이다. \\'부동산R114\\'에 따르면 지난해 서울 청약 당첨가점 평균은 62점, 청약 경쟁률은 164.1대 1에 달했다. 올해 11월7일 기준 당첨가점 평균은 44점, 청약 경쟁률은 26.4대 1로 낮아졌다.\\n]', '[\\n\\n\\n\\n\\n서울시 강동구 둔촌동 일원에 마련된 둔촌주공 재건축 견본주택 모습 &lt;박순원 기자&gt;    서울 강동구 둔촌주공 재건축 \\'올림픽파크 포레온\\'이 평균 3.2대 1의 경쟁률로 특별공급을 마쳤다. 시장에선 특별공급 경쟁률이 높지 않은 것으로 평가하고 있다.5일 건설업계에 따르면 둔촌주공 재건축 특별공급으로 나온 물량은 전용면적 29㎡A형 5가구, 39㎡A형 609가구, 49㎡A형 477가구로 총 3개 평형 1091가구였다. 전용 59㎡ 타입부터는 분양가가 9억원을 초과하면서 특별공급 물량을 배정받지 못했다.둔촌주공 재건축 특별 공급에는 해당 지역·기타지역, 등 모든 특공 유형을 포함해 3580건의 신청이 몰려 평균 경쟁률은 3.2대 1을 기록했다. 이 가운데 가장 높은 신청이 모인 것은 49㎡A 타입으로, 생애 최초 특별공급 94가구 가운데 해당 지역 1456건·기타지역 414건의 청약 통장이 접수돼 평균 19.8대 1의 경쟁률을 보였다.둔촌주공 재건축 단지 일반 분양은 6일 해당 지역 1순위, 7일 기타지역 1순위, 8일 2순위 청약 순으로 진행된다. 당첨자발표는 오는 15일이며, 정당계약은 다음 달인 2023년 1월 3일부터 17일까지다. 3.3㎡ 당 분양가는 3829만원으로 전용 59㎡ 타입 기준 10.4~10.6억원대, 84㎡는 13억~13.2억원대로 모두 13억원 대를 넘겨 중도금 대출이 불가하다.부동산업계 관계자는 \"둔촌주공 일반 분양 결과가 내년 부동산 시장의 방향성을 결정하게 될 것\"이라며 \"조기 완판 시 부동산 시장 훈풍을 기대해볼 수 있지만, 반대의 경우라면 시장 침체를 더욱 가속시킬 것\"이라고 전했다.   \\n\\t\\t]', '[\\n\\n\\n\\n\\n서울 시내 아파트 단지의 모습. /사진=뉴스1집값 하락세가 지속되면서 분양가상한제 당첨자에게 주어지는 \\'거주의무\\'가 되려 \\'혜택\\'으로 작용할 여지가 있어 제도 개선이 추진될 것으로 보인다.6일 LH(한국주택토지공사) 관계자는 \"분양가상한제 주택에 대한 환매 규정이 집값 하락 방어 수단으로 사용될 수 있다는 위기의식을 갖고 대안을 검토하고 있다\"고 밝혔다.현행 주택법에 따르면 수도권 분양가상한제 아파트 당첨자에게는 최소 2년~최대 5년까지의 거주의무기간이 주어진다. 거주의무 기간은 해당 아파트의 분양가격이 시세 대비 낮으면 낮을수록 길어진다.거주의무기간을 지키지 못하고 이주할 경우에는 집을 시장에 내놓지 못하고 반드시 LH에 팔아야 한다. LH가 입주자에게 입주금과 그 입주금에 은행의 1년 만기 정기예금의 평균 이자를 반영한 금액(매입비용)을 지불하고 이 집을 산 후 다시 일반에 재분양하는 식이다.이는 부동산 시장 상승기 때 시장을 안정시키기 위해 도입된 제도다. 한정된 분양 아파트에 대한 투기 수요를 줄이고 실수요자에게 주택이 공급될 수 있도록 한다는 취지였다.그러나 지금 같은 상황에서는 이 규제가 오히려 \\'혜택\\'으로 작용할 수 있다는 지적이 나오고 있다. 분양가상한제 입주자는 집값이 분양가 밑으로 떨어지면 거주의무를 위반하고 LH에 되팔면 납부한 분양가를 그대로 회수할 수 있기 때문이다.수도권 외곽을 중심으로 분양가격보다 저렴한 \\'마이너스프리미엄\\' 분양권이 속출하고 그마저도 거래가 안 돼 호가가 계속 떨어지는 상황에서 실수요자에게 주택을 공급하려던 취지가 악용될 소지가 있는 셈이다.이날부터 분양에 나선 둔촌주공 아파트(올림픽파크 포레온)도 분양가상한제가 적용됐다. 이 때문에 모집공고문에는 \\'2년 실거주 의무를 위반할 경우 최대 1000만원의 벌금을 내고 아파트를 LH에 분양가로 넘겨야 한다\\'고 명시돼있다. 둔촌주공의 분양가 지금은 인근 비교 대상 아파트들의 시세보다는 낮은 수준이지만 최근의 집값 하락폭과 속도가 이어진다면 입주 시점엔 시세가 분양가보다 낮을 가능성도 제기되는 상황이다.이 때문에 둔촌주공 분양을 앞두고 수요자들 사이에서는 \"1000만원으로 하락 리스크 헤지(Hedge·회피)가 가능하니 분양가가 높더라도 해 볼 만하다\"는 얘기까지 나온다.LH 역시 이 같은 상황을 우려해 대안을 검토하고 있다. 환매 의무를 현행보다 완화하는 방안 등이 논의될 것으로 보인다. 이렇게 되면 분양가상한제 아파트의 거주의무가 지금보다 완화될 여지도 있다. 주택법 개정이 필요한 사항인 만큼 LH는 조만간 대안을 확정해 국토부에 제출할 예정이다.한편, 정부는 6·21 대책에서 일명 \\'전월세금지법\\'으로 불렸던 분양가상한제 아파트의 즉시 실거주 의무를 완화하기로 했다. \\n]', \"[\\n\\n\\n\\n\\n[이데일리 방인권 기자] 서울 강동구 둔촌주공을 재건축 한 '올림픽파크 포레온'의 견본주택이 개관한 1일 서울 강동구 둔촌동 견본주택을 찾은 방문객들이 재건축 단지 모형을 살펴보고 있다. 올림픽파크 포레온의 견본주택은 코로나19 확산 및 감염 예방을 위해 선착순 사전 방문예약제로 운영하며 견본주택 방문을 희망하는 수요자들은 공식 홈페이지를 통해 방문 예약을 신청할 수 있다.청약일정은 오는 12월 5일 특별공급을 시작으로 6일 1순위 해당지역, 7일 1순위 기타지역, 8일 2순위 접수로 진행된다. 당첨자는 12월 15일에 발표되며, 정당 계약은 2023년 1월 3일부터 17일까지 15일간 진행된다. 입주는 2025년 1월 예정이다.\\n]\"]\n",
            "news_title:  81\n",
            "news_url:  81\n",
            "news_contents:  81\n",
            "news_dates:  81\n"
          ]
        },
        {
          "output_type": "stream",
          "name": "stderr",
          "text": [
            "\n"
          ]
        }
      ]
    },
    {
      "cell_type": "code",
      "source": [
        "###데이터 프레임으로 만들기###\n",
        "import pandas as pd\n",
        "\n",
        "#데이터 프레임 만들기\n",
        "news_df = pd.DataFrame({'date':news_dates,'title':news_titles,'link':final_urls,'content':news_contents})\n",
        "\n",
        "#중복 행 지우기\n",
        "news_df = news_df.drop_duplicates(keep='first',ignore_index=True)\n",
        "print(\"중복 제거 후 행 개수: \",len(news_df))\n",
        "\n",
        "#데이터 프레임 저장\n",
        "now = datetime.datetime.now() \n",
        "# news_df.to_csv('{}_{}.csv'.format(search,now.strftime('%Y%m%d_%H시%M분%S초')),encoding='utf-8-sig',index=False)"
      ],
      "metadata": {
        "colab": {
          "base_uri": "https://localhost:8080/"
        },
        "id": "XqJB9NXGpxGQ",
        "outputId": "17c41ce3-4207-4960-98d3-2baae1b24682"
      },
      "execution_count": 17,
      "outputs": [
        {
          "output_type": "stream",
          "name": "stdout",
          "text": [
            "중복 제거 후 행 개수:  80\n"
          ]
        }
      ]
    },
    {
      "cell_type": "code",
      "source": [
        "print(news_df)"
      ],
      "metadata": {
        "colab": {
          "base_uri": "https://localhost:8080/"
        },
        "id": "CUAppukKp9eN",
        "outputId": "3f20c431-fd15-40c3-e69a-025eed082f19"
      },
      "execution_count": 18,
      "outputs": [
        {
          "output_type": "stream",
          "name": "stdout",
          "text": [
            "    date                                       title  \\\n",
            "0   None                찬 바람 부는 청약시장…둔촌주공 1순위 마감도 불발   \n",
            "1   None                 믿었던 '둔촌주공' 마저…내년 청약시장 더 어렵다   \n",
            "2   None          둔촌주공 장위자이 예상 밖 성적표...내년 분양시장 험난할 듯   \n",
            "3   None      ‘10만 청약설’ 틀렸다...둔촌주공 1순위 경쟁률 3.7대 1 그쳐   \n",
            "4   None            일반공급도 저조…둔촌주공  1순위 청약 경쟁률 3.7대 1   \n",
            "..   ...                                         ...   \n",
            "75  None                   ‘둔촌주공 분양’ 막 오른다…건설株 훈풍 탈까   \n",
            "76  None  둔촌주공·장위4구역 '6000가구' 신규 분양, 로또청약 아니어도 성공할까?   \n",
            "77  None         둔촌주공 재건축 특별공급 평균 경쟁률 3.2대1로 아쉬운 성적표   \n",
            "78  None              \"집값 하락 방어수단 될라\"…분상제 거주의무 개선 속도   \n",
            "79  None                          [포토]'둔촌주공' 견본주택 개관   \n",
            "\n",
            "                                                 link  \\\n",
            "0   https://n.news.naver.com/mnews/article/001/001...   \n",
            "1   https://n.news.naver.com/mnews/article/648/000...   \n",
            "2   https://n.news.naver.com/mnews/article/009/000...   \n",
            "3   https://n.news.naver.com/mnews/article/023/000...   \n",
            "4   https://n.news.naver.com/mnews/article/003/001...   \n",
            "..                                                ...   \n",
            "75  https://n.news.naver.com/mnews/article/018/000...   \n",
            "76  https://n.news.naver.com/mnews/article/417/000...   \n",
            "77  https://n.news.naver.com/mnews/article/029/000...   \n",
            "78  https://n.news.naver.com/mnews/article/008/000...   \n",
            "79  https://n.news.naver.com/mnews/article/018/000...   \n",
            "\n",
            "                                              content  \n",
            "0   [\\n중도금 이자 후불 혜택 내세운 장위자이레디언트 1순위 3.1대 1에 그쳐서울 ...  \n",
            "1   [\\n올림픽파크 포레온, 청약 흥행 실패 \"고분양가 탓\"\"청약 시장 더 위축될 것…...  \n",
            "2   [\\n\\n\\n\\n\\n [이가람 기자]올해 분양시장 대어였던 서울 강동구 둔촌동 ‘올...  \n",
            "3   [\\n분양가·금리 부담 작용한 듯\\n\\n\\n\\n서울 강동구 둔촌주공 아파트 공사 모...  \n",
            "4   [\\n기사내용 요약84㎡A 경쟁률 9.42…부엌뷰 논란 84㎡E 2.7대 1 \\n\\...  \n",
            "..                                                ...  \n",
            "75  [\\n5일부터 둔촌주공 청약 시작분양 흥행시 대형사 위주 반등세 기대향후 건설사 수...  \n",
            "76  [\\n\\n\\n\\n\\n올림픽파크 포레온은 총 1만2032가구 가운데 4786가구가 일...  \n",
            "77  [\\n\\n\\n\\n\\n서울시 강동구 둔촌동 일원에 마련된 둔촌주공 재건축 견본주택 모...  \n",
            "78  [\\n\\n\\n\\n\\n서울 시내 아파트 단지의 모습. /사진=뉴스1집값 하락세가 지속...  \n",
            "79  [\\n\\n\\n\\n\\n[이데일리 방인권 기자] 서울 강동구 둔촌주공을 재건축 한 '올...  \n",
            "\n",
            "[80 rows x 4 columns]\n"
          ]
        }
      ]
    },
    {
      "cell_type": "code",
      "source": [
        "news_df"
      ],
      "metadata": {
        "colab": {
          "base_uri": "https://localhost:8080/",
          "height": 467
        },
        "id": "8gIAQid_qjhg",
        "outputId": "7edfc5b7-bee8-47b4-aa82-1fadc9682806"
      },
      "execution_count": 20,
      "outputs": [
        {
          "output_type": "execute_result",
          "data": {
            "text/plain": [
              "    date                                       title  \\\n",
              "0   None                찬 바람 부는 청약시장…둔촌주공 1순위 마감도 불발   \n",
              "1   None                 믿었던 '둔촌주공' 마저…내년 청약시장 더 어렵다   \n",
              "2   None          둔촌주공 장위자이 예상 밖 성적표...내년 분양시장 험난할 듯   \n",
              "3   None      ‘10만 청약설’ 틀렸다...둔촌주공 1순위 경쟁률 3.7대 1 그쳐   \n",
              "4   None            일반공급도 저조…둔촌주공  1순위 청약 경쟁률 3.7대 1   \n",
              "..   ...                                         ...   \n",
              "75  None                   ‘둔촌주공 분양’ 막 오른다…건설株 훈풍 탈까   \n",
              "76  None  둔촌주공·장위4구역 '6000가구' 신규 분양, 로또청약 아니어도 성공할까?   \n",
              "77  None         둔촌주공 재건축 특별공급 평균 경쟁률 3.2대1로 아쉬운 성적표   \n",
              "78  None              \"집값 하락 방어수단 될라\"…분상제 거주의무 개선 속도   \n",
              "79  None                          [포토]'둔촌주공' 견본주택 개관   \n",
              "\n",
              "                                                 link  \\\n",
              "0   https://n.news.naver.com/mnews/article/001/001...   \n",
              "1   https://n.news.naver.com/mnews/article/648/000...   \n",
              "2   https://n.news.naver.com/mnews/article/009/000...   \n",
              "3   https://n.news.naver.com/mnews/article/023/000...   \n",
              "4   https://n.news.naver.com/mnews/article/003/001...   \n",
              "..                                                ...   \n",
              "75  https://n.news.naver.com/mnews/article/018/000...   \n",
              "76  https://n.news.naver.com/mnews/article/417/000...   \n",
              "77  https://n.news.naver.com/mnews/article/029/000...   \n",
              "78  https://n.news.naver.com/mnews/article/008/000...   \n",
              "79  https://n.news.naver.com/mnews/article/018/000...   \n",
              "\n",
              "                                              content  \n",
              "0   [\\n중도금 이자 후불 혜택 내세운 장위자이레디언트 1순위 3.1대 1에 그쳐서울 ...  \n",
              "1   [\\n올림픽파크 포레온, 청약 흥행 실패 \"고분양가 탓\"\"청약 시장 더 위축될 것…...  \n",
              "2   [\\n\\n\\n\\n\\n [이가람 기자]올해 분양시장 대어였던 서울 강동구 둔촌동 ‘올...  \n",
              "3   [\\n분양가·금리 부담 작용한 듯\\n\\n\\n\\n서울 강동구 둔촌주공 아파트 공사 모...  \n",
              "4   [\\n기사내용 요약84㎡A 경쟁률 9.42…부엌뷰 논란 84㎡E 2.7대 1 \\n\\...  \n",
              "..                                                ...  \n",
              "75  [\\n5일부터 둔촌주공 청약 시작분양 흥행시 대형사 위주 반등세 기대향후 건설사 수...  \n",
              "76  [\\n\\n\\n\\n\\n올림픽파크 포레온은 총 1만2032가구 가운데 4786가구가 일...  \n",
              "77  [\\n\\n\\n\\n\\n서울시 강동구 둔촌동 일원에 마련된 둔촌주공 재건축 견본주택 모...  \n",
              "78  [\\n\\n\\n\\n\\n서울 시내 아파트 단지의 모습. /사진=뉴스1집값 하락세가 지속...  \n",
              "79  [\\n\\n\\n\\n\\n[이데일리 방인권 기자] 서울 강동구 둔촌주공을 재건축 한 '올...  \n",
              "\n",
              "[80 rows x 4 columns]"
            ],
            "text/html": [
              "\n",
              "  <div id=\"df-35d2ce86-93d1-4622-b5e0-f259f8956adf\">\n",
              "    <div class=\"colab-df-container\">\n",
              "      <div>\n",
              "<style scoped>\n",
              "    .dataframe tbody tr th:only-of-type {\n",
              "        vertical-align: middle;\n",
              "    }\n",
              "\n",
              "    .dataframe tbody tr th {\n",
              "        vertical-align: top;\n",
              "    }\n",
              "\n",
              "    .dataframe thead th {\n",
              "        text-align: right;\n",
              "    }\n",
              "</style>\n",
              "<table border=\"1\" class=\"dataframe\">\n",
              "  <thead>\n",
              "    <tr style=\"text-align: right;\">\n",
              "      <th></th>\n",
              "      <th>date</th>\n",
              "      <th>title</th>\n",
              "      <th>link</th>\n",
              "      <th>content</th>\n",
              "    </tr>\n",
              "  </thead>\n",
              "  <tbody>\n",
              "    <tr>\n",
              "      <th>0</th>\n",
              "      <td>None</td>\n",
              "      <td>찬 바람 부는 청약시장…둔촌주공 1순위 마감도 불발</td>\n",
              "      <td>https://n.news.naver.com/mnews/article/001/001...</td>\n",
              "      <td>[\\n중도금 이자 후불 혜택 내세운 장위자이레디언트 1순위 3.1대 1에 그쳐서울 ...</td>\n",
              "    </tr>\n",
              "    <tr>\n",
              "      <th>1</th>\n",
              "      <td>None</td>\n",
              "      <td>믿었던 '둔촌주공' 마저…내년 청약시장 더 어렵다</td>\n",
              "      <td>https://n.news.naver.com/mnews/article/648/000...</td>\n",
              "      <td>[\\n올림픽파크 포레온, 청약 흥행 실패 \"고분양가 탓\"\"청약 시장 더 위축될 것…...</td>\n",
              "    </tr>\n",
              "    <tr>\n",
              "      <th>2</th>\n",
              "      <td>None</td>\n",
              "      <td>둔촌주공 장위자이 예상 밖 성적표...내년 분양시장 험난할 듯</td>\n",
              "      <td>https://n.news.naver.com/mnews/article/009/000...</td>\n",
              "      <td>[\\n\\n\\n\\n\\n [이가람 기자]올해 분양시장 대어였던 서울 강동구 둔촌동 ‘올...</td>\n",
              "    </tr>\n",
              "    <tr>\n",
              "      <th>3</th>\n",
              "      <td>None</td>\n",
              "      <td>‘10만 청약설’ 틀렸다...둔촌주공 1순위 경쟁률 3.7대 1 그쳐</td>\n",
              "      <td>https://n.news.naver.com/mnews/article/023/000...</td>\n",
              "      <td>[\\n분양가·금리 부담 작용한 듯\\n\\n\\n\\n서울 강동구 둔촌주공 아파트 공사 모...</td>\n",
              "    </tr>\n",
              "    <tr>\n",
              "      <th>4</th>\n",
              "      <td>None</td>\n",
              "      <td>일반공급도 저조…둔촌주공  1순위 청약 경쟁률 3.7대 1</td>\n",
              "      <td>https://n.news.naver.com/mnews/article/003/001...</td>\n",
              "      <td>[\\n기사내용 요약84㎡A 경쟁률 9.42…부엌뷰 논란 84㎡E 2.7대 1 \\n\\...</td>\n",
              "    </tr>\n",
              "    <tr>\n",
              "      <th>...</th>\n",
              "      <td>...</td>\n",
              "      <td>...</td>\n",
              "      <td>...</td>\n",
              "      <td>...</td>\n",
              "    </tr>\n",
              "    <tr>\n",
              "      <th>75</th>\n",
              "      <td>None</td>\n",
              "      <td>‘둔촌주공 분양’ 막 오른다…건설株 훈풍 탈까</td>\n",
              "      <td>https://n.news.naver.com/mnews/article/018/000...</td>\n",
              "      <td>[\\n5일부터 둔촌주공 청약 시작분양 흥행시 대형사 위주 반등세 기대향후 건설사 수...</td>\n",
              "    </tr>\n",
              "    <tr>\n",
              "      <th>76</th>\n",
              "      <td>None</td>\n",
              "      <td>둔촌주공·장위4구역 '6000가구' 신규 분양, 로또청약 아니어도 성공할까?</td>\n",
              "      <td>https://n.news.naver.com/mnews/article/417/000...</td>\n",
              "      <td>[\\n\\n\\n\\n\\n올림픽파크 포레온은 총 1만2032가구 가운데 4786가구가 일...</td>\n",
              "    </tr>\n",
              "    <tr>\n",
              "      <th>77</th>\n",
              "      <td>None</td>\n",
              "      <td>둔촌주공 재건축 특별공급 평균 경쟁률 3.2대1로 아쉬운 성적표</td>\n",
              "      <td>https://n.news.naver.com/mnews/article/029/000...</td>\n",
              "      <td>[\\n\\n\\n\\n\\n서울시 강동구 둔촌동 일원에 마련된 둔촌주공 재건축 견본주택 모...</td>\n",
              "    </tr>\n",
              "    <tr>\n",
              "      <th>78</th>\n",
              "      <td>None</td>\n",
              "      <td>\"집값 하락 방어수단 될라\"…분상제 거주의무 개선 속도</td>\n",
              "      <td>https://n.news.naver.com/mnews/article/008/000...</td>\n",
              "      <td>[\\n\\n\\n\\n\\n서울 시내 아파트 단지의 모습. /사진=뉴스1집값 하락세가 지속...</td>\n",
              "    </tr>\n",
              "    <tr>\n",
              "      <th>79</th>\n",
              "      <td>None</td>\n",
              "      <td>[포토]'둔촌주공' 견본주택 개관</td>\n",
              "      <td>https://n.news.naver.com/mnews/article/018/000...</td>\n",
              "      <td>[\\n\\n\\n\\n\\n[이데일리 방인권 기자] 서울 강동구 둔촌주공을 재건축 한 '올...</td>\n",
              "    </tr>\n",
              "  </tbody>\n",
              "</table>\n",
              "<p>80 rows × 4 columns</p>\n",
              "</div>\n",
              "      <button class=\"colab-df-convert\" onclick=\"convertToInteractive('df-35d2ce86-93d1-4622-b5e0-f259f8956adf')\"\n",
              "              title=\"Convert this dataframe to an interactive table.\"\n",
              "              style=\"display:none;\">\n",
              "        \n",
              "  <svg xmlns=\"http://www.w3.org/2000/svg\" height=\"24px\"viewBox=\"0 0 24 24\"\n",
              "       width=\"24px\">\n",
              "    <path d=\"M0 0h24v24H0V0z\" fill=\"none\"/>\n",
              "    <path d=\"M18.56 5.44l.94 2.06.94-2.06 2.06-.94-2.06-.94-.94-2.06-.94 2.06-2.06.94zm-11 1L8.5 8.5l.94-2.06 2.06-.94-2.06-.94L8.5 2.5l-.94 2.06-2.06.94zm10 10l.94 2.06.94-2.06 2.06-.94-2.06-.94-.94-2.06-.94 2.06-2.06.94z\"/><path d=\"M17.41 7.96l-1.37-1.37c-.4-.4-.92-.59-1.43-.59-.52 0-1.04.2-1.43.59L10.3 9.45l-7.72 7.72c-.78.78-.78 2.05 0 2.83L4 21.41c.39.39.9.59 1.41.59.51 0 1.02-.2 1.41-.59l7.78-7.78 2.81-2.81c.8-.78.8-2.07 0-2.86zM5.41 20L4 18.59l7.72-7.72 1.47 1.35L5.41 20z\"/>\n",
              "  </svg>\n",
              "      </button>\n",
              "      \n",
              "  <style>\n",
              "    .colab-df-container {\n",
              "      display:flex;\n",
              "      flex-wrap:wrap;\n",
              "      gap: 12px;\n",
              "    }\n",
              "\n",
              "    .colab-df-convert {\n",
              "      background-color: #E8F0FE;\n",
              "      border: none;\n",
              "      border-radius: 50%;\n",
              "      cursor: pointer;\n",
              "      display: none;\n",
              "      fill: #1967D2;\n",
              "      height: 32px;\n",
              "      padding: 0 0 0 0;\n",
              "      width: 32px;\n",
              "    }\n",
              "\n",
              "    .colab-df-convert:hover {\n",
              "      background-color: #E2EBFA;\n",
              "      box-shadow: 0px 1px 2px rgba(60, 64, 67, 0.3), 0px 1px 3px 1px rgba(60, 64, 67, 0.15);\n",
              "      fill: #174EA6;\n",
              "    }\n",
              "\n",
              "    [theme=dark] .colab-df-convert {\n",
              "      background-color: #3B4455;\n",
              "      fill: #D2E3FC;\n",
              "    }\n",
              "\n",
              "    [theme=dark] .colab-df-convert:hover {\n",
              "      background-color: #434B5C;\n",
              "      box-shadow: 0px 1px 3px 1px rgba(0, 0, 0, 0.15);\n",
              "      filter: drop-shadow(0px 1px 2px rgba(0, 0, 0, 0.3));\n",
              "      fill: #FFFFFF;\n",
              "    }\n",
              "  </style>\n",
              "\n",
              "      <script>\n",
              "        const buttonEl =\n",
              "          document.querySelector('#df-35d2ce86-93d1-4622-b5e0-f259f8956adf button.colab-df-convert');\n",
              "        buttonEl.style.display =\n",
              "          google.colab.kernel.accessAllowed ? 'block' : 'none';\n",
              "\n",
              "        async function convertToInteractive(key) {\n",
              "          const element = document.querySelector('#df-35d2ce86-93d1-4622-b5e0-f259f8956adf');\n",
              "          const dataTable =\n",
              "            await google.colab.kernel.invokeFunction('convertToInteractive',\n",
              "                                                     [key], {});\n",
              "          if (!dataTable) return;\n",
              "\n",
              "          const docLinkHtml = 'Like what you see? Visit the ' +\n",
              "            '<a target=\"_blank\" href=https://colab.research.google.com/notebooks/data_table.ipynb>data table notebook</a>'\n",
              "            + ' to learn more about interactive tables.';\n",
              "          element.innerHTML = '';\n",
              "          dataTable['output_type'] = 'display_data';\n",
              "          await google.colab.output.renderOutput(dataTable, element);\n",
              "          const docLink = document.createElement('div');\n",
              "          docLink.innerHTML = docLinkHtml;\n",
              "          element.appendChild(docLink);\n",
              "        }\n",
              "      </script>\n",
              "    </div>\n",
              "  </div>\n",
              "  "
            ]
          },
          "metadata": {},
          "execution_count": 20
        }
      ]
    }
  ]
}